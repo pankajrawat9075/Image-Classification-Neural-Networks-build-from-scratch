{
  "nbformat": 4,
  "nbformat_minor": 0,
  "metadata": {
    "colab": {
      "provenance": [],
      "authorship_tag": "ABX9TyPijEaE6w2Pl5aFrxk0i536",
      "include_colab_link": true
    },
    "kernelspec": {
      "name": "python3",
      "display_name": "Python 3"
    },
    "language_info": {
      "name": "python"
    },
    "gpuClass": "standard"
  },
  "cells": [
    {
      "cell_type": "markdown",
      "metadata": {
        "id": "view-in-github",
        "colab_type": "text"
      },
      "source": [
        "<a href=\"https://colab.research.google.com/github/pankajrawat9075/CS6910_Assignment_1/blob/main/Copy_of_Question1.ipynb\" target=\"_parent\"><img src=\"https://colab.research.google.com/assets/colab-badge.svg\" alt=\"Open In Colab\"/></a>"
      ]
    },
    {
      "cell_type": "markdown",
      "source": [
        "##Import the Libraries"
      ],
      "metadata": {
        "id": "ZY2ZBQJVGMrq"
      }
    },
    {
      "cell_type": "code",
      "source": [
        "!pip install wandb -qU"
      ],
      "metadata": {
        "id": "lCl6FVyVxnq7"
      },
      "execution_count": null,
      "outputs": []
    },
    {
      "cell_type": "code",
      "execution_count": null,
      "metadata": {
        "id": "gz01hfPzxZD-"
      },
      "outputs": [],
      "source": [
        "import matplotlib.pyplot as plt\n",
        "import numpy as np\n",
        "import wandb\n",
        "from keras.datasets import fashion_mnist\n",
        "from sklearn.model_selection import train_test_split\n",
        "from sklearn.metrics import classification_report, accuracy_score, confusion_matrix"
      ]
    },
    {
      "cell_type": "code",
      "source": [
        "wandb.login()"
      ],
      "metadata": {
        "colab": {
          "base_uri": "https://localhost:8080/"
        },
        "id": "QMPvXuJ14mEi",
        "outputId": "8c3bc596-fd30-4942-d4e4-c4ab4d5084ce"
      },
      "execution_count": null,
      "outputs": [
        {
          "output_type": "stream",
          "name": "stderr",
          "text": [
            "\u001b[34m\u001b[1mwandb\u001b[0m: \u001b[33mWARNING\u001b[0m Calling wandb.login() after wandb.init() has no effect.\n"
          ]
        },
        {
          "output_type": "execute_result",
          "data": {
            "text/plain": [
              "True"
            ]
          },
          "metadata": {},
          "execution_count": 32
        }
      ]
    },
    {
      "cell_type": "code",
      "source": [],
      "metadata": {
        "id": "824uQtDZ6rl6"
      },
      "execution_count": null,
      "outputs": []
    },
    {
      "cell_type": "markdown",
      "source": [
        "##Question 1"
      ],
      "metadata": {
        "id": "_kHsv_2bk-_A"
      }
    },
    {
      "cell_type": "markdown",
      "source": [
        "###Load Dataset"
      ],
      "metadata": {
        "id": "RjIRqdBhG4xX"
      }
    },
    {
      "cell_type": "code",
      "source": [
        "(trainX, trainY), (testX, testY) = fashion_mnist.load_data()\n",
        "# Split the X_train into a training set and validation set\n",
        "trainX, valX, trainY, valY = train_test_split(trainX, trainY, test_size=0.1, random_state=42)"
      ],
      "metadata": {
        "id": "JPt8l_1gGxOn"
      },
      "execution_count": null,
      "outputs": []
    },
    {
      "cell_type": "markdown",
      "source": [
        "###Summarize loaded dataset"
      ],
      "metadata": {
        "id": "b8JeMrFGHm0K"
      }
    },
    {
      "cell_type": "code",
      "source": [
        "print('Train: X = %s, y = %s' % (trainX.shape, trainY.shape))\n",
        "print('Validation: X = %s, y = %s' % (valX.shape, valY.shape))\n",
        "print('Test: X = %s, y = %s' % (testX.shape, testY.shape))"
      ],
      "metadata": {
        "colab": {
          "base_uri": "https://localhost:8080/"
        },
        "id": "XaSGGKUnHlz1",
        "outputId": "f982852c-e56e-47fb-e258-1d8f02759fdf"
      },
      "execution_count": null,
      "outputs": [
        {
          "output_type": "stream",
          "name": "stdout",
          "text": [
            "Train: X = (54000, 28, 28), y = (54000,)\n",
            "Validation: X = (6000, 28, 28), y = (6000,)\n",
            "Test: X = (10000, 28, 28), y = (10000,)\n"
          ]
        }
      ]
    },
    {
      "cell_type": "markdown",
      "source": [
        "### Display all labels images"
      ],
      "metadata": {
        "id": "NT1jfyg3wdxO"
      }
    },
    {
      "cell_type": "code",
      "source": [
        "# start a new wandb run to track this script\n",
        "wandb.init(\n",
        "    # set the wandb project where this run will be logged\n",
        "    project=\"CS6910_Assignment-1\",\n",
        ")\n",
        "# Get the unique labels\n",
        "class_names = ['T-shirt/top', 'Trouser', 'Pullover', 'Dress', 'Coat', \n",
        "               'Sandal', 'Shirt', 'Sneaker', 'Bag', 'Ankle boot']\n",
        "unique_labels = np.unique(trainY)\n",
        "print(\"unique_labels = %s\" % (unique_labels))\n",
        "\n",
        "# Create a subplot for each label\n",
        "fig, axes = plt.subplots(nrows=2, ncols=5, figsize=(10, 5))\n",
        "axes = axes.flatten()\n",
        "\n",
        "# Loop through the labels and display an image for each label\n",
        "for i, label in enumerate(unique_labels):\n",
        "    # Get the first image with this label\n",
        "    img = trainX[trainY == label][0]\n",
        "    # Plot the image\n",
        "    axes[i].imshow(img, cmap='gray')\n",
        "    axes[i].set_title(class_names[label])\n",
        "    axes[i].axis('off')\n",
        "    \n",
        "\n",
        "wandb.log({\"plot\":plt})   \n",
        "# finish the wandb run, necessary in notebooks\n"
      ],
      "metadata": {
        "colab": {
          "base_uri": "https://localhost:8080/",
          "height": 502
        },
        "id": "FYZovbczwcKo",
        "outputId": "23d6a631-72ae-4daf-b6e5-05e1225024de"
      },
      "execution_count": null,
      "outputs": [
        {
          "output_type": "display_data",
          "data": {
            "text/plain": [
              "<IPython.core.display.HTML object>"
            ],
            "text/html": [
              "Finishing last run (ID:2uoz6m60) before initializing another..."
            ]
          },
          "metadata": {}
        },
        {
          "output_type": "display_data",
          "data": {
            "text/plain": [
              "<IPython.core.display.HTML object>"
            ],
            "text/html": [
              "Waiting for W&B process to finish... <strong style=\"color:green\">(success).</strong>"
            ]
          },
          "metadata": {}
        },
        {
          "output_type": "display_data",
          "data": {
            "text/plain": [
              "<IPython.core.display.HTML object>"
            ],
            "text/html": [
              " View run <strong style=\"color:#cdcd00\">misty-blaze-7</strong> at: <a href='https://wandb.ai/iitmadras/CS6910_Assignment-1/runs/2uoz6m60' target=\"_blank\">https://wandb.ai/iitmadras/CS6910_Assignment-1/runs/2uoz6m60</a><br/>Synced 5 W&B file(s), 1 media file(s), 0 artifact file(s) and 0 other file(s)"
            ]
          },
          "metadata": {}
        },
        {
          "output_type": "display_data",
          "data": {
            "text/plain": [
              "<IPython.core.display.HTML object>"
            ],
            "text/html": [
              "Find logs at: <code>./wandb/run-20230228_183742-2uoz6m60/logs</code>"
            ]
          },
          "metadata": {}
        },
        {
          "output_type": "display_data",
          "data": {
            "text/plain": [
              "<IPython.core.display.HTML object>"
            ],
            "text/html": [
              "Successfully finished last run (ID:2uoz6m60). Initializing new run:<br/>"
            ]
          },
          "metadata": {}
        },
        {
          "output_type": "display_data",
          "data": {
            "text/plain": [
              "<IPython.core.display.HTML object>"
            ],
            "text/html": [
              "Tracking run with wandb version 0.13.10"
            ]
          },
          "metadata": {}
        },
        {
          "output_type": "display_data",
          "data": {
            "text/plain": [
              "<IPython.core.display.HTML object>"
            ],
            "text/html": [
              "Run data is saved locally in <code>/content/wandb/run-20230228_190152-d5xeov9l</code>"
            ]
          },
          "metadata": {}
        },
        {
          "output_type": "display_data",
          "data": {
            "text/plain": [
              "<IPython.core.display.HTML object>"
            ],
            "text/html": [
              "Syncing run <strong><a href='https://wandb.ai/iitmadras/CS6910_Assignment-1/runs/d5xeov9l' target=\"_blank\">neat-puddle-8</a></strong> to <a href='https://wandb.ai/iitmadras/CS6910_Assignment-1' target=\"_blank\">Weights & Biases</a> (<a href='https://wandb.me/run' target=\"_blank\">docs</a>)<br/>"
            ]
          },
          "metadata": {}
        },
        {
          "output_type": "display_data",
          "data": {
            "text/plain": [
              "<IPython.core.display.HTML object>"
            ],
            "text/html": [
              " View project at <a href='https://wandb.ai/iitmadras/CS6910_Assignment-1' target=\"_blank\">https://wandb.ai/iitmadras/CS6910_Assignment-1</a>"
            ]
          },
          "metadata": {}
        },
        {
          "output_type": "display_data",
          "data": {
            "text/plain": [
              "<IPython.core.display.HTML object>"
            ],
            "text/html": [
              " View run at <a href='https://wandb.ai/iitmadras/CS6910_Assignment-1/runs/d5xeov9l' target=\"_blank\">https://wandb.ai/iitmadras/CS6910_Assignment-1/runs/d5xeov9l</a>"
            ]
          },
          "metadata": {}
        },
        {
          "output_type": "stream",
          "name": "stdout",
          "text": [
            "unique_labels = [0 1 2 3 4 5 6 7 8 9]\n"
          ]
        },
        {
          "output_type": "display_data",
          "data": {
            "text/plain": [
              "<Figure size 720x360 with 10 Axes>"
            ],
            "image/png": "[encoded data removed]"
          },
          "metadata": {
            "needs_background": "light"
          }
        }
      ]
    },
    {
      "cell_type": "markdown",
      "source": [],
      "metadata": {
        "id": "6OjtHSZmwYDI"
      }
    },
    {
      "cell_type": "markdown",
      "source": [
        "### Data Preprocessing"
      ],
      "metadata": {
        "id": "3J_tQ6nolQAd"
      }
    },
    {
      "cell_type": "code",
      "source": [
        "# Normalize the pixel values to the range [0, 1]\n",
        "trainX = trainX.astype('float32') / 255.0\n",
        "testX = testX.astype('float32') / 255.0\n",
        "\n",
        "trainSize = trainY.shape[0]\n",
        "testSize = testY.shape[0]\n",
        "\n",
        "#One-Hot encoding for trainY and testY and valY\n",
        "y_train = np.zeros(( 10, trainSize ))\n",
        "y_val = np.zeros(( 10, 6000 ))\n",
        "y_test = np.zeros(( 10, testSize ))\n",
        "\n",
        "for i in range(0, trainSize ):\n",
        "    y_train[trainY[i]][i] = 1\n",
        "\n",
        "for i in range(6000):\n",
        "    y_val[valY[i]][i] = 1\n",
        "\n",
        "for i in range(0, testSize ):\n",
        "    y_test[testY[i]][i] = 1\n",
        "\n",
        "trainY = y_train\n",
        "valY = y_val\n",
        "testY = y_test\n",
        "\n",
        "# reshape the X matrices\n",
        "trainX = trainX.reshape(trainX.shape[0], 784)\n",
        "valX = valX.reshape(6000, 784)\n",
        "testX = testX.reshape(10000, 784)\n",
        "\n",
        "trainX = trainX.T\n",
        "valX = valX.T\n",
        "testX = testX.T"
      ],
      "metadata": {
        "id": "eY0KnfCahr_Z"
      },
      "execution_count": null,
      "outputs": []
    },
    {
      "cell_type": "code",
      "source": [
        "trainX.shape"
      ],
      "metadata": {
        "colab": {
          "base_uri": "https://localhost:8080/"
        },
        "id": "DwsoyF4Fs1JI",
        "outputId": "cd99cb7f-83ac-4bc2-f5e0-dc16815b8d11"
      },
      "execution_count": null,
      "outputs": [
        {
          "output_type": "execute_result",
          "data": {
            "text/plain": [
              "(784, 54000)"
            ]
          },
          "metadata": {},
          "execution_count": 21
        }
      ]
    },
    {
      "cell_type": "markdown",
      "source": [
        "[link text](https://)## Wand B config parameters"
      ],
      "metadata": {
        "id": "7JnMgyM5yrhA"
      }
    },
    {
      "cell_type": "code",
      "source": [
        "sweep_config = {\n",
        "    'method': 'random',\n",
        "    'metric': {\n",
        "        'name': 'accuracy',\n",
        "        'goal': 'maximize'\n",
        "    },\n",
        "    'parameters': {\n",
        "        'epochs': {\n",
        "            'values' : [2, 5, 10]\n",
        "        },\n",
        "\n",
        "        'learning_rate': {\n",
        "            'values': [0.01, 0.001, 0.0001]\n",
        "        },\n",
        "        'optimizer': {\n",
        "            'values': ['adam', 'sgd']\n",
        "        },\n",
        "        'batch_size': {\n",
        "            'values': [32, 64, 128]\n",
        "        },\n",
        "        'optimizer': {\n",
        "            'values': ['adam', 'nadam', 'sgd', 'rmsprop']\n",
        "        },\n",
        "        'activation': {\n",
        "            'values': ['relu', 'sigmoid', 'tanh']\n",
        "        }\n",
        "    }\n",
        "}"
      ],
      "metadata": {
        "id": "Q-ztJaoQy1R9"
      },
      "execution_count": null,
      "outputs": []
    },
    {
      "cell_type": "markdown",
      "source": [
        "##Neural network "
      ],
      "metadata": {
        "id": "eXjaOiY8k3PD"
      }
    },
    {
      "cell_type": "markdown",
      "source": [
        "### Activation functions"
      ],
      "metadata": {
        "id": "ZHguJ0NRWrby"
      }
    },
    {
      "cell_type": "code",
      "source": [
        "def sigmoid(x):\n",
        "    return np.where(x >= 0, 1 / (1 + np.exp(-x)), np.exp(x) / (1 + np.exp(x)))\n",
        "\n",
        "def sigmoid_deriv(x):\n",
        "    s = sigmoid(x)\n",
        "    return np.multiply(s, np.subtract(1, s))\n",
        "\n",
        "def relu( x):\n",
        "    \"\"\"\n",
        "    Rectified Linear Unit (ReLU) activation function that avoids overflow.\n",
        "    \"\"\"\n",
        "    return np.maximum(0, x)\n",
        "\n",
        "def relu_deriv( x):\n",
        "    \"\"\"\n",
        "    Derivative of the ReLU activation function that avoids overflow.\n",
        "    \"\"\"\n",
        "    return np.where(x > 0, 1, 0)\n",
        "\n",
        "def tanh(x):\n",
        "    if x >= 0:\n",
        "        return 1 - 2 / (np.exp(2*x) + 1)\n",
        "    else:\n",
        "        return 2 / (np.exp(-2*x) + 1) - 1\n",
        "\n",
        "def tanh_deriv(x):\n",
        "    tanh_x = tanh(x)\n",
        "    return 1 - tanh_x**2\n",
        "\n",
        "def softmax(x):\n",
        "    x -= np.max(x, axis = 0)\n",
        "    exp_x = np.exp(x)\n",
        "    return exp_x / np.sum(exp_x, axis = 0)"
      ],
      "metadata": {
        "id": "QCcJZxB6W_Op"
      },
      "execution_count": null,
      "outputs": []
    },
    {
      "cell_type": "markdown",
      "source": [
        "### Forward Propogation"
      ],
      "metadata": {
        "id": "SjBc4PgbaCue"
      }
    },
    {
      "cell_type": "code",
      "source": [
        "def forward_prop(W, B, x, act_func = 'sigmoid'):\n",
        "\n",
        "    '''\n",
        "    Returns\n",
        "      -------\n",
        "\n",
        "      output: numpy array\n",
        "          contains the output probabilities for each class and each data sample after 1 pass\n",
        "      A: numpy array\n",
        "          contains all activations\n",
        "      H: numpy array\n",
        "          consists all pre-activations\n",
        "      --------\n",
        "    '''\n",
        "    L = W.shape[0]+1\n",
        "    A = [None] * (L - 1)\n",
        "\n",
        "    H = [None] * (L - 1)\n",
        "    Y_ = [None]\n",
        "\n",
        "    A[0] = B[0].reshape(-1, 1) + np.matmul(W[0], x) # for the first pre-activation layer x is the input \n",
        "\n",
        "    for i in range(0, L-2):\n",
        "        if act_func == \"sigmoid\":\n",
        "            H[i] = sigmoid(A[i])         # computing the activation layer \n",
        "\n",
        "        elif act_func == \"relu\":\n",
        "            H[i] = relu(A[i]) \n",
        "\n",
        "        elif act_func == \"tanh\":\n",
        "            H[i] = tanh(A[i]) \n",
        "\n",
        "        A[i+1] = B[i+1].reshape(-1, 1) + np.matmul(W[i+1], H[i])\n",
        "\n",
        "    Y_ = softmax(A[L-2])\n",
        "\n",
        "    return A, H, Y_\n"
      ],
      "metadata": {
        "id": "Cni40DPzXz9C"
      },
      "execution_count": null,
      "outputs": []
    },
    {
      "cell_type": "markdown",
      "source": [
        "### Backward Propogation"
      ],
      "metadata": {
        "id": "kB4XaXABaQZo"
      }
    },
    {
      "cell_type": "code",
      "source": [
        "def back_prop(W, B,  x, y, A, H, Y_, act_func):\n",
        "    L = W.shape[0]+1\n",
        "\n",
        "    del_A,  del_H = A,  H  # creating gradient variables\n",
        "    del_W = [None] * (L-1)\n",
        "    del_B = [None] * (L-1)\n",
        "\n",
        "    del_A[-1] = -(y - Y_)\n",
        "\n",
        "    for i in range(L-2, 0, -1):\n",
        "        del_W[i] = np.matmul(del_A[i],  np.transpose( H[i-1]))   # compute gradients with respect to weihts and bias\n",
        "        del_B[i] = del_A[i]\n",
        "        del_B[i] = np.array(np.sum(del_B[i], axis = 1))\n",
        "\n",
        "        del_H[i-1] = np.matmul(np.transpose(W[i]), del_A[i])\n",
        "\n",
        "        if act_func == \"sigmoid\":\n",
        "            del_A[i-1] = del_H[i-1] * sigmoid_deriv(A[i-1])\n",
        "        elif act_func == \"relu\":\n",
        "            del_A[i-1] = del_H[i-1] * relu_deriv(A[i-1])\n",
        "        elif act_func == \"tanh\":\n",
        "            del_A[i-1] = del_H[i-1] * tanh_deriv(A[i-1])  \n",
        "\n",
        "    del_W[0] = np.matmul(del_A[0] , np.transpose(x))  # compute gradients with respect to weihts and bias\n",
        "    del_B[0] = del_A[0]\n",
        "\n",
        "    del_B[0] = np.array(np.sum(del_B[0], axis = 1))\n",
        "\n",
        "\n",
        "    return del_W, del_B"
      ],
      "metadata": {
        "id": "I4aWeEjRYNwN"
      },
      "execution_count": null,
      "outputs": []
    },
    {
      "cell_type": "markdown",
      "source": [
        "### Training the network"
      ],
      "metadata": {
        "id": "cxYHiGMQabDZ"
      }
    },
    {
      "cell_type": "code",
      "source": [
        "def train(layers, X, Y, epochs, alpha, activation_func, optimizer = \"sgd\", batch_size = 512 ):   \n",
        "    \"\"\"\n",
        "    alpha : learning rate\n",
        "\n",
        "    \"\"\"\n",
        "    L = len(layers) # no. of layers\n",
        "\n",
        "    # initialize the weights and biases\n",
        "    W = []\n",
        "    B = []\n",
        "    u_b, u_w, v_w, v_b = [], [], [], []\n",
        "\n",
        "    for i in range(1, L):\n",
        "        w = np.random.randn(layers[i], layers[i-1])\n",
        "        temp_w = np.zeros((layers[i], layers[i-1]))\n",
        "        b = np.random.randn(layers[i])           # b is bias vector\n",
        "        temp_b = np.zeros((layers[i]))\n",
        "        W.append(w)\n",
        "        B.append(b)\n",
        "        u_w.append(temp_w)\n",
        "        v_w.append(temp_w)\n",
        "        u_b.append(temp_b)\n",
        "        v_b.append(temp_b)\n",
        "\n",
        "    W = np.array(W)\n",
        "    B = np.array(B)\n",
        "    u_w = np.array(u_w)\n",
        "    v_w = np.array(v_w)\n",
        "    u_b = np.array(u_b)\n",
        "    v_b = np.array(v_b)\n",
        "\n",
        "    # define things for nag optimizer\n",
        "    \n",
        "    beta = 0.9\n",
        "    eps = 0.0001\n",
        "\n",
        "    for epoch in range(epochs):\n",
        "        for i in range(0, X.shape[1], batch_size):\n",
        "            batch_count = batch_size\n",
        "\n",
        "            if i + batch_size > X.shape[1]: # the last mini-batch might contain fewer than \"batch_size\" examples\n",
        "                batch_count = X.shape[1] - i + 1\n",
        "\n",
        "            \n",
        "\n",
        "            if optimizer == 'sgd':\n",
        "\n",
        "                A, H, Y_ = forward_prop(W, B, X[:, i:i+batch_count], activation_func)\n",
        "                del_w, del_b = back_prop(W, B, X[:, i:i+batch_count], Y[:, i:i+batch_count], A, H, Y_, activation_func)\n",
        "\n",
        "                W, B = update_parms_sgd(W, B, alpha, del_w, del_b)\n",
        "\n",
        "            elif optimizer == 'momentum':\n",
        "                A, H, Y_ = forward_prop(W, B, X[:, i:i+batch_count], activation_func)\n",
        "                del_w, del_b = back_prop(W, B, X[:, i:i+batch_count], Y[:, i:i+batch_count], A, H, Y_, activation_func) # compute the gradient at the lookahead\n",
        "\n",
        "                u_w = beta * u_w + del_w\n",
        "                u_b = beta * u_b + del_b\n",
        "                W, B = update_parms_momentum(W, B, alpha, u_w, u_b)\n",
        "\n",
        "\n",
        "            elif optimizer == 'nag':\n",
        "\n",
        "                A, H, Y_ = forward_prop(W - beta * u_w, B - alpha * u_b, X[:, i:i+batch_count], activation_func)\n",
        "                del_w, del_b = back_prop(W - beta * u_w, B - alpha * u_b, X[:, i:i+batch_count], Y[:, i:i+batch_count], A, H, Y_, activation_func) # compute the gradient at the lookahead\n",
        "\n",
        "                u_w = beta * u_w + del_w\n",
        "                u_b = beta * u_b + del_b\n",
        "                \n",
        "                W, B = update_parms_sgd(alpha, u_w, u_b)\n",
        "\n",
        "            elif optimizer == 'RMSprop':\n",
        "\n",
        "                A, H, Y_ = forward_prop(W, B, X[:, i:i+batch_count], activation_func)\n",
        "                del_w, del_b = back_prop(W, B, X[:, i:i+batch_count], Y[:, i:i+batch_count], A, H, Y_, activation_func) # compute the gradient at the lookahead\n",
        "\n",
        "                u_w = beta * u_w + (1-beta)*del_w**2\n",
        "                u_b = beta * u_b + (1-beta)*del_b**2\n",
        "                \n",
        "                W, B = update_parms_RMSprop(alpha, u_w, u_b, del_w, del_b, eps)\n",
        "\n",
        "    return W, B\n"
      ],
      "metadata": {
        "id": "6HRWIGyI8CDe"
      },
      "execution_count": null,
      "outputs": []
    },
    {
      "cell_type": "markdown",
      "source": [
        "### Optimizers"
      ],
      "metadata": {
        "id": "A80aEK1LanJX"
      }
    },
    {
      "cell_type": "code",
      "source": [
        "def update_parms_sgd(W, B, alpha, del_w, del_b):\n",
        "    W = W - alpha * np.array(np.array(del_w))\n",
        "    B = B - alpha * np.array(del_b)\n",
        "    return W, B\n",
        "\n",
        "def update_parms_nag(W, B, alpha, u_w, u_b):\n",
        "    W = W - alpha * np.array(np.array(u_w))\n",
        "    B = B - alpha * np.array(u_b)\n",
        "    return W, B\n",
        "\n",
        "def update_parms_momentum(W, B, alpha, u_w, u_b):\n",
        "    W = W - alpha * np.array(np.array(u_w))\n",
        "    B = B - alpha * np.array(u_b)\n",
        "    return W, B \n",
        "\n",
        "def update_parms_RMSprop(W, B, alpha, u_w, u_b, del_w, del_b, eps):\n",
        "    W = W - alpha * np.array(np.array(del_w)) / (np.sqrt(u_w) + eps)\n",
        "    B = B - alpha * np.array(del_b) / (np.sqrt(u_b) + eps)\n",
        "    return W, B \n",
        "\n"
      ],
      "metadata": {
        "id": "TyVPxk9Oapf4"
      },
      "execution_count": null,
      "outputs": []
    },
    {
      "cell_type": "markdown",
      "source": [
        "### Predictions and Evaluations"
      ],
      "metadata": {
        "id": "yeNgnKEda8Ue"
      }
    },
    {
      "cell_type": "code",
      "source": [
        "def predict(X, W, B, act_fun):\n",
        "    '''\n",
        "    forward propagate once and calculate labels\n",
        "\n",
        "    '''\n",
        "    _, _, output = forward_prop(W, B, X, act_fun)\n",
        "    predictions = np.argmax(output, axis=0)\n",
        "    return predictions\n",
        "\n",
        "def evaluate(X_train, y_train, X_test, y_test, W, B, activation_f):\n",
        "    '''\n",
        "    print train,test accuracies and the classification report using sklearn\n",
        "\n",
        "    '''\n",
        "    y_train = np.argmax(y_train, axis=0)\n",
        "    train_predictions = predict(X_train, W, B, activation_f)\n",
        "    y_test = np.argmax(y_test, axis=0)\n",
        "    test_predictions = predict(X_test, W, B, activation_f)\n",
        "\n",
        "    print(\"Training accuracy = {} %\".format(round(accuracy_score(y_train, train_predictions) * 100, 3)))\n",
        "    print(\"Test accuracy = {} %\".format(round(accuracy_score(y_test, test_predictions) * 100, 3)))\n",
        "\n",
        "    return train_predictions, test_predictions"
      ],
      "metadata": {
        "id": "J_c2Ewklb6cT"
      },
      "execution_count": null,
      "outputs": []
    },
    {
      "cell_type": "markdown",
      "source": [
        "## Running the Experiments"
      ],
      "metadata": {
        "id": "Ifsc1vfGdyrM"
      }
    },
    {
      "cell_type": "markdown",
      "source": [
        "### Train"
      ],
      "metadata": {
        "id": "qoyceDLYX5lu"
      }
    },
    {
      "cell_type": "code",
      "source": [
        "W, B = train([28*28, 128, 128, 10], trainX, trainY, epochs=10, alpha = 0.00001, activation_func=\"sigmoid\", optimizer=\"sgd\", batch_size=16)"
      ],
      "metadata": {
        "id": "dplQUXiZy1r6",
        "colab": {
          "base_uri": "https://localhost:8080/"
        },
        "outputId": "8391a49d-3774-4927-c333-46805728fc41"
      },
      "execution_count": null,
      "outputs": [
        {
          "output_type": "stream",
          "name": "stderr",
          "text": [
            "<ipython-input-40-7c8a877c911b>:25: VisibleDeprecationWarning: Creating an ndarray from ragged nested sequences (which is a list-or-tuple of lists-or-tuples-or ndarrays with different lengths or shapes) is deprecated. If you meant to do this, you must specify 'dtype=object' when creating the ndarray.\n",
            "  W = np.array(W)\n",
            "<ipython-input-40-7c8a877c911b>:26: VisibleDeprecationWarning: Creating an ndarray from ragged nested sequences (which is a list-or-tuple of lists-or-tuples-or ndarrays with different lengths or shapes) is deprecated. If you meant to do this, you must specify 'dtype=object' when creating the ndarray.\n",
            "  B = np.array(B)\n",
            "<ipython-input-40-7c8a877c911b>:27: VisibleDeprecationWarning: Creating an ndarray from ragged nested sequences (which is a list-or-tuple of lists-or-tuples-or ndarrays with different lengths or shapes) is deprecated. If you meant to do this, you must specify 'dtype=object' when creating the ndarray.\n",
            "  u_w = np.array(u_w)\n",
            "<ipython-input-40-7c8a877c911b>:28: VisibleDeprecationWarning: Creating an ndarray from ragged nested sequences (which is a list-or-tuple of lists-or-tuples-or ndarrays with different lengths or shapes) is deprecated. If you meant to do this, you must specify 'dtype=object' when creating the ndarray.\n",
            "  v_w = np.array(v_w)\n",
            "<ipython-input-40-7c8a877c911b>:29: VisibleDeprecationWarning: Creating an ndarray from ragged nested sequences (which is a list-or-tuple of lists-or-tuples-or ndarrays with different lengths or shapes) is deprecated. If you meant to do this, you must specify 'dtype=object' when creating the ndarray.\n",
            "  u_b = np.array(u_b)\n",
            "<ipython-input-40-7c8a877c911b>:30: VisibleDeprecationWarning: Creating an ndarray from ragged nested sequences (which is a list-or-tuple of lists-or-tuples-or ndarrays with different lengths or shapes) is deprecated. If you meant to do this, you must specify 'dtype=object' when creating the ndarray.\n",
            "  v_b = np.array(v_b)\n",
            "<ipython-input-41-c811b57bf985>:2: VisibleDeprecationWarning: Creating an ndarray from ragged nested sequences (which is a list-or-tuple of lists-or-tuples-or ndarrays with different lengths or shapes) is deprecated. If you meant to do this, you must specify 'dtype=object' when creating the ndarray.\n",
            "  W = W - alpha * np.array(np.array(del_w))\n",
            "<ipython-input-41-c811b57bf985>:3: VisibleDeprecationWarning: Creating an ndarray from ragged nested sequences (which is a list-or-tuple of lists-or-tuples-or ndarrays with different lengths or shapes) is deprecated. If you meant to do this, you must specify 'dtype=object' when creating the ndarray.\n",
            "  B = B - alpha * np.array(del_b)\n"
          ]
        }
      ]
    },
    {
      "cell_type": "markdown",
      "source": [
        "### Test"
      ],
      "metadata": {
        "id": "ZlfFAw-yX8ui"
      }
    },
    {
      "cell_type": "code",
      "source": [
        "evaluate(trainX, trainY, testX, testY, W, B, \"sigmoid\")"
      ],
      "metadata": {
        "colab": {
          "base_uri": "https://localhost:8080/"
        },
        "id": "9fU6vfGQYCNM",
        "outputId": "c94144ec-8096-4d3b-9309-9840560c8db6"
      },
      "execution_count": null,
      "outputs": [
        {
          "output_type": "stream",
          "name": "stdout",
          "text": [
            "Training accuracy = 47.959 %\n",
            "Test accuracy = 46.9 %\n",
            "Classification report for the test set:\n",
            "\n",
            "              precision    recall  f1-score   support\n",
            "\n",
            "           0       0.49      0.52      0.51      1000\n",
            "           1       0.67      0.64      0.66      1000\n",
            "           2       0.38      0.37      0.38      1000\n",
            "           3       0.52      0.53      0.53      1000\n",
            "           4       0.39      0.47      0.42      1000\n",
            "           5       0.42      0.38      0.40      1000\n",
            "           6       0.24      0.21      0.22      1000\n",
            "           7       0.59      0.60      0.59      1000\n",
            "           8       0.38      0.35      0.37      1000\n",
            "           9       0.57      0.63      0.60      1000\n",
            "\n",
            "    accuracy                           0.47     10000\n",
            "   macro avg       0.47      0.47      0.47     10000\n",
            "weighted avg       0.47      0.47      0.47     10000\n",
            "\n"
          ]
        },
        {
          "output_type": "execute_result",
          "data": {
            "text/plain": [
              "(array([7, 2, 8, ..., 2, 2, 0]), array([9, 4, 3, ..., 5, 1, 9]))"
            ]
          },
          "metadata": {},
          "execution_count": 56
        }
      ]
    }
  ]
}