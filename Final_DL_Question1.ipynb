{
  "cells": [
    {
      "cell_type": "markdown",
      "metadata": {
        "id": "view-in-github",
        "colab_type": "text"
      },
      "source": [
        "<a href=\"https://colab.research.google.com/github/pankajrawat9075/CS6910_Assignment_1/blob/main/Final_DL_Question1.ipynb\" target=\"_parent\"><img src=\"https://colab.research.google.com/assets/colab-badge.svg\" alt=\"Open In Colab\"/></a>"
      ]
    },
    {
      "cell_type": "markdown",
      "metadata": {
        "id": "ZY2ZBQJVGMrq"
      },
      "source": [
        "##Import the Libraries"
      ]
    },
    {
      "cell_type": "code",
      "execution_count": 8,
      "metadata": {
        "id": "lCl6FVyVxnq7"
      },
      "outputs": [],
      "source": [
        "!pip install wandb -qU"
      ]
    },
    {
      "cell_type": "code",
      "execution_count": 9,
      "metadata": {
        "id": "gz01hfPzxZD-"
      },
      "outputs": [],
      "source": [
        "import matplotlib.pyplot as plt\n",
        "import numpy as np\n",
        "import wandb\n",
        "from keras.datasets import fashion_mnist\n",
        "from sklearn.model_selection import train_test_split\n",
        "from sklearn.metrics import classification_report, accuracy_score, confusion_matrix"
      ]
    },
    {
      "cell_type": "code",
      "execution_count": 10,
      "metadata": {
        "colab": {
          "base_uri": "https://localhost:8080/"
        },
        "id": "QMPvXuJ14mEi",
        "outputId": "bee68dab-4bfb-43e2-8e26-984b115c9c00"
      },
      "outputs": [
        {
          "output_type": "execute_result",
          "data": {
            "text/plain": [
              "True"
            ]
          },
          "metadata": {},
          "execution_count": 10
        }
      ],
      "source": [
        "wandb.login()"
      ]
    },
    {
      "cell_type": "markdown",
      "metadata": {
        "id": "_kHsv_2bk-_A"
      },
      "source": [
        "##Question 1"
      ]
    },
    {
      "cell_type": "markdown",
      "metadata": {
        "id": "RjIRqdBhG4xX"
      },
      "source": [
        "###Load Dataset"
      ]
    },
    {
      "cell_type": "code",
      "execution_count": 11,
      "metadata": {
        "id": "JPt8l_1gGxOn"
      },
      "outputs": [],
      "source": [
        "(trainX, trainY), (testX, testY) = fashion_mnist.load_data()\n",
        "# Split the X_train into a training set and validation set\n",
        "trainX, valX, trainY, valY = train_test_split(trainX, trainY, test_size=0.1, random_state=42)"
      ]
    },
    {
      "cell_type": "markdown",
      "metadata": {
        "id": "b8JeMrFGHm0K"
      },
      "source": [
        "###Summarize loaded dataset"
      ]
    },
    {
      "cell_type": "code",
      "execution_count": 12,
      "metadata": {
        "colab": {
          "base_uri": "https://localhost:8080/"
        },
        "id": "XaSGGKUnHlz1",
        "outputId": "a7763bd3-1f7e-42c9-9b63-797bfde94d9e"
      },
      "outputs": [
        {
          "output_type": "stream",
          "name": "stdout",
          "text": [
            "Train: X = (54000, 28, 28), y = (54000,)\n",
            "Validation: X = (6000, 28, 28), y = (6000,)\n",
            "Test: X = (10000, 28, 28), y = (10000,)\n"
          ]
        }
      ],
      "source": [
        "print('Train: X = %s, y = %s' % (trainX.shape, trainY.shape))\n",
        "print('Validation: X = %s, y = %s' % (valX.shape, valY.shape))\n",
        "print('Test: X = %s, y = %s' % (testX.shape, testY.shape))"
      ]
    },
    {
      "cell_type": "markdown",
      "metadata": {
        "id": "NT1jfyg3wdxO"
      },
      "source": [
        "### Display all labels images"
      ]
    },
    {
      "cell_type": "code",
      "execution_count": 14,
      "metadata": {
        "colab": {
          "base_uri": "https://localhost:8080/",
          "height": 257,
          "referenced_widgets": [
            "df93bb2b0ba941a7862a417686f02a2d",
            "f429adf234184e9e88cfdcd1cd24892f",
            "991c45d874794b5cba1a6e5d9dbb92f5",
            "94e7c005454f4d589b467f1c75612844",
            "b11e55782dd449a39a7896edb31b0bac",
            "56e6ddcc7b8f4342b5435887d239f2be",
            "75900a0ebf684f4586e7859e8daaa29b",
            "7f145e3a2b244658a3ca683b269abe08"
          ]
        },
        "id": "FYZovbczwcKo",
        "outputId": "f904fde8-a518-4239-c743-0140c25e53f6"
      },
      "outputs": [
        {
          "output_type": "display_data",
          "data": {
            "text/plain": [
              "<IPython.core.display.HTML object>"
            ],
            "text/html": [
              "Tracking run with wandb version 0.13.11"
            ]
          },
          "metadata": {}
        },
        {
          "output_type": "display_data",
          "data": {
            "text/plain": [
              "<IPython.core.display.HTML object>"
            ],
            "text/html": [
              "Run data is saved locally in <code>/content/wandb/run-20230310_145902-75878ym1</code>"
            ]
          },
          "metadata": {}
        },
        {
          "output_type": "display_data",
          "data": {
            "text/plain": [
              "<IPython.core.display.HTML object>"
            ],
            "text/html": [
              "Syncing run <strong><a href='https://wandb.ai/iitmadras/CS6910_Assignment-final/runs/75878ym1' target=\"_blank\">devout-sun-1</a></strong> to <a href='https://wandb.ai/iitmadras/CS6910_Assignment-final' target=\"_blank\">Weights & Biases</a> (<a href='https://wandb.me/run' target=\"_blank\">docs</a>)<br/>"
            ]
          },
          "metadata": {}
        },
        {
          "output_type": "display_data",
          "data": {
            "text/plain": [
              "<IPython.core.display.HTML object>"
            ],
            "text/html": [
              " View project at <a href='https://wandb.ai/iitmadras/CS6910_Assignment-final' target=\"_blank\">https://wandb.ai/iitmadras/CS6910_Assignment-final</a>"
            ]
          },
          "metadata": {}
        },
        {
          "output_type": "display_data",
          "data": {
            "text/plain": [
              "<IPython.core.display.HTML object>"
            ],
            "text/html": [
              " View run at <a href='https://wandb.ai/iitmadras/CS6910_Assignment-final/runs/75878ym1' target=\"_blank\">https://wandb.ai/iitmadras/CS6910_Assignment-final/runs/75878ym1</a>"
            ]
          },
          "metadata": {}
        },
        {
          "output_type": "stream",
          "name": "stdout",
          "text": [
            "unique_labels = [0 1 2 3 4 5 6 7 8 9]\n"
          ]
        },
        {
          "output_type": "display_data",
          "data": {
            "text/plain": [
              "<IPython.core.display.HTML object>"
            ],
            "text/html": [
              "Waiting for W&B process to finish... <strong style=\"color:green\">(success).</strong>"
            ]
          },
          "metadata": {}
        },
        {
          "output_type": "display_data",
          "data": {
            "text/plain": [
              "VBox(children=(Label(value='0.005 MB of 0.005 MB uploaded (0.000 MB deduped)\\r'), FloatProgress(value=0.904197…"
            ],
            "application/vnd.jupyter.widget-view+json": {
              "version_major": 2,
              "version_minor": 0,
              "model_id": "df93bb2b0ba941a7862a417686f02a2d"
            }
          },
          "metadata": {}
        },
        {
          "output_type": "display_data",
          "data": {
            "text/plain": [
              "<IPython.core.display.HTML object>"
            ],
            "text/html": [
              " View run <strong style=\"color:#cdcd00\">devout-sun-1</strong> at: <a href='https://wandb.ai/iitmadras/CS6910_Assignment-final/runs/75878ym1' target=\"_blank\">https://wandb.ai/iitmadras/CS6910_Assignment-final/runs/75878ym1</a><br/>Synced 5 W&B file(s), 10 media file(s), 0 artifact file(s) and 0 other file(s)"
            ]
          },
          "metadata": {}
        },
        {
          "output_type": "display_data",
          "data": {
            "text/plain": [
              "<IPython.core.display.HTML object>"
            ],
            "text/html": [
              "Find logs at: <code>./wandb/run-20230310_145902-75878ym1/logs</code>"
            ]
          },
          "metadata": {}
        }
      ],
      "source": [
        "# start a new wandb run to track this script\n",
        "wandb.init(\n",
        "    # set the wandb project where this run will be logged\n",
        "    project=\"CS6910_Assignment-final\",\n",
        ")\n",
        "# Get the unique labels\n",
        "class_names = ['T-shirt/top', 'Trouser', 'Pullover', 'Dress', 'Coat', \n",
        "               'Sandal', 'Shirt', 'Sneaker', 'Bag', 'Ankle boot']\n",
        "unique_labels = np.unique(trainY)\n",
        "print(\"unique_labels = %s\" % (unique_labels))\n",
        "\n",
        "# Create a subplot for each label\n",
        "image_list = []\n",
        "\n",
        "# Loop through the labels and display an image for each label\n",
        "for i, label in enumerate(unique_labels):\n",
        "    # Get the first image with this label\n",
        "    img = trainX[trainY == label][0]\n",
        "    # wandb.log({class_names[label] : axes[i].inshoe(img, cmap = 'gray')})\n",
        "    # Plot the image\n",
        "    image_list.append(wandb.Image(img, caption=class_names[label]))\n",
        "    \n",
        "\n",
        "wandb.log({\"Dataset\":image_list})   \n",
        "# finish the wandb run, necessary in notebooks\n",
        "wandb.finish()\n"
      ]
    },
    {
      "cell_type": "markdown",
      "metadata": {
        "id": "6OjtHSZmwYDI"
      },
      "source": []
    },
    {
      "cell_type": "markdown",
      "metadata": {
        "id": "3J_tQ6nolQAd"
      },
      "source": [
        "### Data Preprocessing"
      ]
    },
    {
      "cell_type": "code",
      "execution_count": 15,
      "metadata": {
        "id": "eY0KnfCahr_Z"
      },
      "outputs": [],
      "source": [
        "# Normalize the pixel values to the range [0, 1]\n",
        "trainX = trainX.astype('float32') / 255.0\n",
        "testX = testX.astype('float32') / 255.0\n",
        "\n",
        "trainSize = trainY.shape[0]\n",
        "testSize = testY.shape[0]\n",
        "\n",
        "#One-Hot encoding for trainY and testY and valY\n",
        "y_train = np.zeros(( 10, trainSize ))\n",
        "y_val = np.zeros(( 10, 6000 ))\n",
        "y_test = np.zeros(( 10, testSize ))\n",
        "\n",
        "for i in range(0, trainSize ):\n",
        "    y_train[trainY[i]][i] = 1\n",
        "\n",
        "for i in range(6000):\n",
        "    y_val[valY[i]][i] = 1\n",
        "\n",
        "for i in range(0, testSize ):\n",
        "    y_test[testY[i]][i] = 1\n",
        "\n",
        "trainY = y_train\n",
        "valY = y_val\n",
        "testY = y_test\n",
        "\n",
        "# reshape the X matrices\n",
        "trainX = trainX.reshape(trainX.shape[0], 784)\n",
        "valX = valX.reshape(6000, 784)\n",
        "testX = testX.reshape(10000, 784)\n",
        "\n",
        "trainX = trainX.T\n",
        "valX = valX.T\n",
        "testX = testX.T"
      ]
    },
    {
      "cell_type": "code",
      "execution_count": 16,
      "metadata": {
        "colab": {
          "base_uri": "https://localhost:8080/"
        },
        "id": "DwsoyF4Fs1JI",
        "outputId": "7892fd2a-481b-48d0-a73a-6eec46c25fa2"
      },
      "outputs": [
        {
          "output_type": "execute_result",
          "data": {
            "text/plain": [
              "(784, 54000)"
            ]
          },
          "metadata": {},
          "execution_count": 16
        }
      ],
      "source": [
        "trainX.shape"
      ]
    },
    {
      "cell_type": "markdown",
      "metadata": {
        "id": "7JnMgyM5yrhA"
      },
      "source": [
        "## Wand B config parameters"
      ]
    },
    {
      "cell_type": "markdown",
      "metadata": {
        "id": "eXjaOiY8k3PD"
      },
      "source": [
        "##Neural network "
      ]
    },
    {
      "cell_type": "markdown",
      "metadata": {
        "id": "ZHguJ0NRWrby"
      },
      "source": [
        "### Activation functions"
      ]
    },
    {
      "cell_type": "code",
      "execution_count": 24,
      "metadata": {
        "id": "QCcJZxB6W_Op"
      },
      "outputs": [],
      "source": [
        "def sigmoid(x):\n",
        "    return np.where(x >= 0, 1 / (1 + np.exp(-x)), np.exp(x) / (1 + np.exp(x)))\n",
        "\n",
        "def sigmoid_deriv(x):\n",
        "    s = sigmoid(x)\n",
        "    return np.multiply(s, np.subtract(1, s))\n",
        "\n",
        "def relu( x):\n",
        "    \"\"\"\n",
        "    Rectified Linear Unit (ReLU) activation function that avoids overflow.\n",
        "    \"\"\"\n",
        "    return np.maximum(0, x)\n",
        "\n",
        "def relu_deriv( x):\n",
        "    \"\"\"\n",
        "    Derivative of the ReLU activation function that avoids overflow.\n",
        "    \"\"\"\n",
        "    return np.where(x > 0, 1, 0)\n",
        "\n",
        "def tanh(x):\n",
        "    if x >= 0:\n",
        "        return 1 - 2 / (np.exp(2*x) + 1)\n",
        "    else:\n",
        "        return 2 / (np.exp(-2*x) + 1) - 1\n",
        "\n",
        "def tanh_deriv(x):\n",
        "    tanh_x = tanh(x)\n",
        "    return 1 - tanh_x**2\n",
        "\n",
        "def softmax(x):\n",
        "    x -= np.max(x, axis = 0)\n",
        "    exp_x = np.exp(x)\n",
        "    return exp_x / np.sum(exp_x, axis = 0)"
      ]
    },
    {
      "cell_type": "markdown",
      "metadata": {
        "id": "SjBc4PgbaCue"
      },
      "source": [
        "### Forward Propogation"
      ]
    },
    {
      "cell_type": "code",
      "execution_count": 25,
      "metadata": {
        "id": "Cni40DPzXz9C"
      },
      "outputs": [],
      "source": [
        "def forward_prop(W, B, x, act_func = 'sigmoid'):\n",
        "\n",
        "    '''\n",
        "    Returns\n",
        "      -------\n",
        "\n",
        "      output: numpy array\n",
        "          contains the output probabilities for each class and each data sample after 1 pass\n",
        "      A: numpy array\n",
        "          contains all activations\n",
        "      H: numpy array\n",
        "          consists all pre-activations\n",
        "      --------\n",
        "    '''\n",
        "    L = W.shape[0]+1\n",
        "    A = [None] * (L - 1)\n",
        "\n",
        "    H = [None] * (L - 1)\n",
        "    Y_ = [None]\n",
        "\n",
        "    A[0] = B[0].reshape(-1, 1) + np.matmul(W[0], x) # for the first pre-activation layer x is the input \n",
        "\n",
        "    for i in range(0, L-2):\n",
        "        if act_func == \"sigmoid\":\n",
        "            H[i] = sigmoid(A[i])         # computing the activation layer \n",
        "\n",
        "        elif act_func == \"relu\":\n",
        "            H[i] = relu(A[i]) \n",
        "\n",
        "        elif act_func == \"tanh\":\n",
        "            H[i] = tanh(A[i]) \n",
        "\n",
        "        A[i+1] = B[i+1].reshape(-1, 1) + np.matmul(W[i+1], H[i])\n",
        "\n",
        "    Y_ = softmax(A[L-2])\n",
        "\n",
        "    return A, H, Y_\n"
      ]
    },
    {
      "cell_type": "markdown",
      "metadata": {
        "id": "kB4XaXABaQZo"
      },
      "source": [
        "### Backward Propogation"
      ]
    },
    {
      "cell_type": "code",
      "execution_count": 26,
      "metadata": {
        "id": "I4aWeEjRYNwN"
      },
      "outputs": [],
      "source": [
        "def back_prop(W, B,  x, y, A, H, Y_, act_func):\n",
        "    L = W.shape[0]+1\n",
        "\n",
        "    del_A,  del_H = A,  H  # creating gradient variables\n",
        "    del_W = [None] * (L-1)\n",
        "    del_B = [None] * (L-1)\n",
        "\n",
        "    del_A[-1] = -(y - Y_)\n",
        "\n",
        "    for i in range(L-2, 0, -1):\n",
        "        del_W[i] = np.matmul(del_A[i],  np.transpose( H[i-1]))   # compute gradients with respect to weihts and bias\n",
        "        del_B[i] = del_A[i]\n",
        "        del_B[i] = np.array(np.sum(del_B[i], axis = 1))\n",
        "\n",
        "        del_H[i-1] = np.matmul(np.transpose(W[i]), del_A[i])\n",
        "\n",
        "        if act_func == \"sigmoid\":\n",
        "            del_A[i-1] = del_H[i-1] * sigmoid_deriv(A[i-1])\n",
        "        elif act_func == \"relu\":\n",
        "            del_A[i-1] = del_H[i-1] * relu_deriv(A[i-1])\n",
        "        elif act_func == \"tanh\":\n",
        "            del_A[i-1] = del_H[i-1] * tanh_deriv(A[i-1])  \n",
        "\n",
        "    del_W[0] = np.matmul(del_A[0] , np.transpose(x))  # compute gradients with respect to weihts and bias\n",
        "    del_B[0] = del_A[0]\n",
        "\n",
        "    del_B[0] = np.array(np.sum(del_B[0], axis = 1))\n",
        "\n",
        "\n",
        "    return del_W, del_B"
      ]
    },
    {
      "cell_type": "code",
      "execution_count": 26,
      "metadata": {
        "id": "D4GGfkzoibnx"
      },
      "outputs": [],
      "source": []
    },
    {
      "cell_type": "markdown",
      "metadata": {
        "id": "cxYHiGMQabDZ"
      },
      "source": [
        "### Training the network"
      ]
    },
    {
      "cell_type": "code",
      "execution_count": 27,
      "metadata": {
        "id": "6HRWIGyI8CDe"
      },
      "outputs": [],
      "source": [
        "def train(layers, X, Y, epochs, alpha, activation_func, optimizer, batch_size, weight_init):   \n",
        "    \"\"\"\n",
        "    alpha : learning rate\n",
        "\n",
        "    \"\"\"\n",
        "    L = len(layers) # no. of layers\n",
        "\n",
        "    # initialize the weights and biases\n",
        "    W = []\n",
        "    B = []\n",
        "    u_b, u_w, v_w, v_b = [], [], [], []\n",
        "    \n",
        "    # initialize the u_b, u_w, v_w, v_b\n",
        "\n",
        "    for i in range(1, L):\n",
        "        temp_w = np.zeros((layers[i], layers[i-1]))\n",
        "        temp_b = np.zeros((layers[i]))\n",
        "        u_w.append(temp_w)\n",
        "        v_w.append(temp_w)\n",
        "        u_b.append(temp_b)\n",
        "        v_b.append(temp_b)\n",
        "\n",
        "    # initialize weights and biases\n",
        "    if weight_init == \"random\":\n",
        "        for i in range(1, L):\n",
        "            w = np.random.randn(layers[i], layers[i-1])\n",
        "            b = np.random.randn(layers[i])           # b is bias vector\n",
        "            W.append(w)\n",
        "            B.append(b)\n",
        "    if weight_init == \"Xavier\":\n",
        "        for i in range(1, L):\n",
        "            w = np.random.randn(layers[i], layers[i-1]) * np.sqrt(2.0 / (layers[i] + layers[i-1]))\n",
        "            b = np.random.randn(layers[i]) * np.sqrt(2.0 / (layers[i] + layers[i-1]))       # b is bias vector\n",
        "            W.append(w)\n",
        "            B.append(b)\n",
        "    \n",
        "        \n",
        "    W = np.array(W)\n",
        "    B = np.array(B)\n",
        "    u_w = np.array(u_w)\n",
        "    v_w = np.array(v_w)\n",
        "    u_b = np.array(u_b)\n",
        "    v_b = np.array(v_b)\n",
        "\n",
        "    # define things for nag optimizer\n",
        "    \n",
        "    beta = 0.9 \n",
        "    beta2 = 0.999\n",
        "    eps = 0.0001\n",
        "\n",
        "    for epoch in range(epochs):\n",
        "        for i in range(0, X.shape[1], batch_size):\n",
        "            batch_count = batch_size\n",
        "\n",
        "            if i + batch_size > X.shape[1]: # the last mini-batch might contain fewer than \"batch_size\" examples\n",
        "                batch_count = X.shape[1] - i + 1\n",
        "\n",
        "            if optimizer == 'sgd':\n",
        "\n",
        "                A, H, Y_ = forward_prop(W, B, X[:, i:i+batch_count], activation_func)\n",
        "                del_w, del_b = back_prop(W, B, X[:, i:i+batch_count], Y[:, i:i+batch_count], A, H, Y_, activation_func)\n",
        "\n",
        "                W, B = update_parms_sgd(W, B, alpha, del_w, del_b)\n",
        "\n",
        "            elif optimizer == 'momentum':\n",
        "\n",
        "                A, H, Y_ = forward_prop(W, B, X[:, i:i+batch_count], activation_func)\n",
        "                del_w, del_b = back_prop(W, B, X[:, i:i+batch_count], Y[:, i:i+batch_count], A, H, Y_, activation_func) # compute the gradient at the lookahead\n",
        "\n",
        "                u_w = beta * u_w + del_w\n",
        "                u_b = beta * u_b + del_b\n",
        "                W, B = update_parms_momentum(W, B, alpha, u_w, u_b)\n",
        "\n",
        "            elif optimizer == 'nag':\n",
        "\n",
        "                A, H, Y_ = forward_prop(W - beta * u_w, B - alpha * u_b, X[:, i:i+batch_count], activation_func)\n",
        "                del_w, del_b = back_prop(W - beta * u_w, B - alpha * u_b, X[:, i:i+batch_count], Y[:, i:i+batch_count], A, H, Y_, activation_func) # compute the gradient at the lookahead\n",
        "\n",
        "                u_w = beta * u_w + del_w\n",
        "                u_b = beta * u_b + del_b\n",
        "                \n",
        "                W, B = update_parms_nag(W, B, alpha, u_w, u_b)\n",
        "\n",
        "            elif optimizer == 'RMSprop':\n",
        "\n",
        "                A, H, Y_ = forward_prop(W, B, X[:, i:i+batch_count], activation_func)\n",
        "                del_w, del_b = back_prop(W, B, X[:, i:i+batch_count], Y[:, i:i+batch_count], A, H, Y_, activation_func) # compute the gradient at the lookahead\n",
        "\n",
        "                \n",
        "                W, B, u_w, u_b = update_parms_RMSprop(W, B, alpha, u_w, u_b, del_w, del_b, eps, beta)\n",
        "\n",
        "            elif optimizer == 'adam':\n",
        "\n",
        "                A, H, Y_ = forward_prop(W, B, X[:, i:i+batch_count], activation_func)\n",
        "                del_w, del_b = back_prop(W, B, X[:, i:i+batch_count], Y[:, i:i+batch_count], A, H, Y_, activation_func) # compute the gradient at the lookahead\n",
        "\n",
        "                \n",
        "                W, B, u_w, u_b, v_w, v_b = update_parms_adam(W, B, alpha, u_w, u_b, v_w, v_b, del_w, del_b, eps, beta, beta2, epoch)\n",
        "\n",
        "            elif optimizer == 'nadam':\n",
        "\n",
        "                A, H, Y_ = forward_prop(W, B, X[:, i:i+batch_count], activation_func)\n",
        "                del_w, del_b = back_prop(W, B, X[:, i:i+batch_count], Y[:, i:i+batch_count], A, H, Y_, activation_func) # compute the gradient at the lookahead\n",
        "\n",
        "                W, B, u_w, u_b, v_w, v_b = update_parms_nadam(W, B, alpha, u_w, u_b, v_w, v_b, del_w, del_b, eps, beta, beta2, epoch)\n",
        "\n",
        "        show(W, B, activation_func, epoch)\n",
        "\n",
        "    return W, B\n"
      ]
    },
    {
      "cell_type": "code",
      "execution_count": 28,
      "metadata": {
        "id": "EcWZmXR7ieId"
      },
      "outputs": [],
      "source": [
        "def show(W, B, activ_f, epoch):\n",
        "    wandb.log({\"epoch\": epoch+1})\n",
        "\n",
        "    val_loss = loss(valX, valY, W, B, activ_f)\n",
        "    wandb.log({\"Validation_Loss\": val_loss})\n",
        "    val_accuracy = accuracy(valX, valY, W, B, activ_f)\n",
        "    wandb.log({\"val_accuracy\": val_accuracy})\n",
        "    \n",
        "    training_loss = loss(trainX, trainY, W, B, activ_f)\n",
        "    wandb.log({\"Training_Loss\": training_loss})\n",
        "    training_accuracy = accuracy(trainX, trainY,W, B, activ_f)\n",
        "    wandb.log({\"Training_accuracy\": training_accuracy})"
      ]
    },
    {
      "cell_type": "markdown",
      "metadata": {
        "id": "A80aEK1LanJX"
      },
      "source": [
        "### Optimizers"
      ]
    },
    {
      "cell_type": "code",
      "execution_count": 29,
      "metadata": {
        "id": "TyVPxk9Oapf4"
      },
      "outputs": [],
      "source": [
        "wd = 0.0001\n",
        "def update_parms_sgd(W, B, alpha, del_w, del_b):\n",
        "    W = W - alpha * np.array(np.array(del_w)) - wd * W\n",
        "    B = B - alpha * np.array(del_b) - wd * B\n",
        "    return W, B\n",
        "\n",
        "def update_parms_nag(W, B, alpha, u_w, u_b):\n",
        "    W = W - alpha * np.array(np.array(u_w)) - wd * W\n",
        "    B = B - alpha * np.array(u_b)- wd * B\n",
        "    return W, B\n",
        "\n",
        "def update_parms_momentum(W, B, alpha, u_w, u_b):\n",
        "    W = W - alpha * np.array(np.array(u_w)) - wd * W\n",
        "    B = B - alpha * np.array(u_b) - wd * B\n",
        "    return W, B \n",
        "\n",
        "def update_parms_RMSprop(W, B, alpha, u_w, u_b, del_w, del_b, eps, beta):\n",
        "\n",
        "    for i in range(W.shape[0]):\n",
        "        u_w[i] = beta * u_w[i] + (1-beta)*del_w[i]**2\n",
        "        u_b[i] = beta * u_b[i] + (1-beta)*del_b[i]**2\n",
        "        W[i] = W[i] - alpha * np.array(np.array(del_w[i])) / (np.sqrt(u_w[i]) + eps) - wd * W[i]\n",
        "        B[i] = B[i] - alpha * np.array(del_b[i]) / (np.sqrt(u_b[i]) + eps) - wd * B[i]\n",
        "    return W, B, u_w, u_b\n",
        "\n",
        "def update_parms_adam(W, B, alpha, u_w, u_b, v_w, v_b, del_w, del_b, eps, beta, beta2, epoch):\n",
        "\n",
        "    for i in range(W.shape[0]):\n",
        "        v_w[i] = beta * v_w[i] + (1-beta) * del_w[i]\n",
        "        v_b[i] = beta * v_b[i] + (1-beta) * del_b[i]\n",
        "\n",
        "        v_w_hat = v_w[i] / (1 - beta ** (epoch+1))\n",
        "        v_b_hat = v_b[i] / (1 - beta ** (epoch+1))\n",
        "\n",
        "        u_w[i] = beta2 * u_w[i] + (1-beta2)*del_w[i]**2\n",
        "        u_b[i] = beta2 * u_b[i] + (1-beta2)*del_b[i]**2\n",
        "\n",
        "        u_w_hat = u_w[i] / (1- beta2 ** (epoch+1))\n",
        "        u_b_hat = u_b[i] / (1- beta2 ** (epoch+1))\n",
        "\n",
        "        W[i] = W[i] - alpha * np.array(np.array(v_w_hat)) / (np.sqrt(u_w_hat) + eps) - wd * W[i]\n",
        "        B[i] = B[i] - alpha * np.array(v_b_hat) / (np.sqrt(u_b_hat) + eps) - wd * B[i]\n",
        "\n",
        "    return W, B, u_w, u_b, v_w, v_b\n",
        "\n",
        "def update_parms_nadam(W, B, alpha, u_w, u_b, v_w, v_b, del_w, del_b, eps, beta, beta2, epoch):\n",
        "\n",
        "    for i in range(W.shape[0]):\n",
        "        v_w[i] = beta * v_w[i] + (1-beta) * del_w[i]\n",
        "        v_b[i] = beta * v_b[i] + (1-beta) * del_b[i]\n",
        "\n",
        "        v_w_hat = v_w[i] / (1 - beta ** (epoch+1))\n",
        "        v_b_hat = v_b[i] / (1 - beta ** (epoch+1))\n",
        "\n",
        "        u_w[i] = beta2 * u_w[i] + (1-beta2)*del_w[i]**2\n",
        "        u_b[i] = beta2 * u_b[i] + (1-beta2)*del_b[i]**2\n",
        "\n",
        "        u_w_hat = u_w[i] / (1- beta2 ** (epoch+1))\n",
        "        u_b_hat = u_b[i] / (1- beta2 ** (epoch+1))\n",
        "\n",
        "        W[i] = W[i] - (alpha / np.sqrt(u_w_hat + eps)) * (beta * v_w_hat + (1-beta)*del_w[i]/(1-beta**(epoch+1))) - wd * W[i]\n",
        "        B[i] = B[i] - (alpha / np.sqrt(u_b_hat + eps)) * (beta * v_b_hat + (1-beta)*del_b[i]/(1-beta**(epoch+1))) - wd * B[i]\n",
        "\n",
        "    return W, B, u_w, u_b, v_w, v_b\n",
        "\n"
      ]
    },
    {
      "cell_type": "markdown",
      "metadata": {
        "id": "yeNgnKEda8Ue"
      },
      "source": [
        "### Predictions and Evaluations and Loss function"
      ]
    },
    {
      "cell_type": "code",
      "execution_count": 30,
      "metadata": {
        "id": "J_c2Ewklb6cT"
      },
      "outputs": [],
      "source": [
        "def predict(X, W, B, act_fun):\n",
        "    '''\n",
        "    forward propagate once and calculate labels\n",
        "\n",
        "    '''\n",
        "    _, _, output = forward_prop(W, B, X, act_fun)\n",
        "    predictions = np.argmax(output, axis=0)\n",
        "    return predictions\n",
        "\n",
        "def accuracy(X, Y, W, B, activation_f):\n",
        "    test_predictions = predict(X, W, B, activation_f)\n",
        "    y_test = np.argmax(Y, axis=0)\n",
        "    return accuracy_score(y_test, test_predictions) * 100\n",
        "\n",
        "def loss(X, Y, W, B, activation_f):\n",
        "\n",
        "    _, _, output = forward_prop(W, B, X, activation_f)\n",
        "    output = output.T\n",
        "    Y = Y.T\n",
        "    eps = 1e-12\n",
        "    loss = -np.mean(np.sum(Y * np.log(output + eps), axis=1))\n",
        "    return loss\n",
        "\n",
        "def evaluate(X_train, y_train, X_test, y_test, W, B, activation_f):\n",
        "    '''\n",
        "    print train,test accuracies and the classification report using sklearn\n",
        "\n",
        "    '''\n",
        "    y_train = np.argmax(y_train, axis=0)\n",
        "    train_predictions = predict(X_train, W, B, activation_f)\n",
        "    y_test = np.argmax(y_test, axis=0)\n",
        "    test_predictions = predict(X_test, W, B, activation_f)\n",
        "\n",
        "    print(\"Training accuracy = \", accuracy_score(y_train, train_predictions))\n",
        "    print(\"Test accuracy = \", accuracy_score(y_test, test_predictions))\n",
        "\n",
        "    return train_predictions, test_predictions"
      ]
    },
    {
      "cell_type": "markdown",
      "metadata": {
        "id": "Ifsc1vfGdyrM"
      },
      "source": [
        "## Running the Experiments"
      ]
    },
    {
      "cell_type": "markdown",
      "metadata": {
        "id": "qoyceDLYX5lu"
      },
      "source": [
        "### Train"
      ]
    },
    {
      "cell_type": "markdown",
      "metadata": {
        "id": "dxNw7QeU5rDG"
      },
      "source": [
        "#### sweep config for wandb"
      ]
    },
    {
      "cell_type": "code",
      "execution_count": 32,
      "metadata": {
        "id": "vh3puOAV5oqm"
      },
      "outputs": [],
      "source": [
        "sweep_config = {\n",
        "    'method' : 'bayes',\n",
        "    'name' : 'first sweep',\n",
        "    'metric': {\n",
        "        'name': 'val_accuracy',\n",
        "        'goal': 'maximize'\n",
        "    },\n",
        "    'parameters': {\n",
        "        'weight_init': {\n",
        "            'values': ['random', \"Xavier\"]\n",
        "        },\n",
        "        'epochs': {\n",
        "            'values' : [5, 10, 15, 20]\n",
        "        },\n",
        "        \"hidden_layers\": {\n",
        "            \"values\": [ 3,4,5]\n",
        "        },\n",
        "        \"size_of_layer\": {\n",
        "            \"values\": [ 32, 64,128]\n",
        "        },\n",
        "        'learning_rate': {\n",
        "            'values': [0.0001, 0.00001]\n",
        "        },\n",
        "        \n",
        "        'batch_size': {\n",
        "            'values': [32, 64, 128]\n",
        "        },\n",
        "        'optimizer': {\n",
        "            'values': ['adam', 'nadam', 'sgd', 'RMSprop', 'nestrov', 'momentum']\n",
        "        },\n",
        "        'activation': {\n",
        "            'values': ['relu', 'sigmoid', 'tanh']\n",
        "        }\n",
        "    }\n",
        "}"
      ]
    },
    {
      "cell_type": "markdown",
      "metadata": {
        "id": "GjbEgBcNmqXf"
      },
      "source": [
        "#### train_wand function"
      ]
    },
    {
      "cell_type": "code",
      "execution_count": 33,
      "metadata": {
        "id": "YIRvb-bgDdI9"
      },
      "outputs": [],
      "source": [
        "def train_wand(config=None):\n",
        "    wandb.init(config = config)\n",
        "    config = wandb.config\n",
        "    layers = [config.size_of_layer] * (config.hidden_layers+1)\n",
        "    layers[0] = 28*28\n",
        "    layers.append(10)\n",
        "    name='hl_'+str(config.hidden_layers)+\"_lr_\"+str(config.learning_rate)+\"_bs_\"+str(config.batch_size)+\"_opt_\"+str(config.optimizer)+ '_act_'+str(config.activation)\n",
        "    wandb.init(name = name)\n",
        "    W, B = train(layers, trainX, trainY, epochs=config.epochs, alpha = config.learning_rate, activation_func=config.activation, \n",
        "              optimizer =config.optimizer, batch_size=config.batch_size, weight_init = config.weight_init)\n",
        "\n",
        "\n"
      ]
    },
    {
      "cell_type": "markdown",
      "metadata": {
        "id": "2BjD7I3vm9_q"
      },
      "source": [
        "#### Wand Sweep"
      ]
    },
    {
      "cell_type": "code",
      "execution_count": null,
      "metadata": {
        "colab": {
          "base_uri": "https://localhost:8080/",
          "height": 1000,
          "referenced_widgets": [
            "eaa666e7339f4f6ab2d1ad0f388b3014",
            "9a2a546985fb40b9897a8e20e5ef47ff",
            "1d02eba2204f4b979a696b429fcbf848",
            "7269750fa23440bf8d34112699acd6c9",
            "674de336b2594d838989135e414866e0",
            "09c5084271084f778090f335a0ec07aa",
            "56e84a87fa33433ca6d6ead71332f2d5",
            "046ff7ac89c947af991eadca4b15ff41",
            "6dd22b4b15bb429882e4f1b405df67a1",
            "49972d5cefc145bdafe66747fab5e113",
            "b9636ac0a095459da7d5d77f3392ba89",
            "4ab84938017946dd953c5793560fc3eb",
            "60e13e6e65a948acbd78f7c1919a2847",
            "467428cb5571431ba6bf6bbfb2bc26a9",
            "ec9fc74637254b0baeffdba29097d529",
            "e5d218f2faf546f09c5df7bcc15ce5d3",
            "62d72eb3a52e489ca8c57c706e916822",
            "c92f9f84095748c59cd2b1190b57f8a0",
            "74e3d1b1a79e41ef98bb9b926be884c0",
            "3b73485dbd214363aab7b02e4237f91a",
            "25519a4fb95f48819ce6a6dff67d17c7",
            "51c9b669e500442b815b646543d6b9ef",
            "0a1344b231ca4ec2b99fd9ed45e85be4",
            "9164bce1db0a486b92dadf7dd7e28d74",
            "f265be6915cf4703b0409bbc93e30f0d",
            "6306df2f3ca14a34a327bbbafa331059",
            "8e9c41b808624837af9a0cb08448693b",
            "795359e0dae643c182afa8bcb60fd66e",
            "d045521c020e44a388b560953e2602c9",
            "a490faea2b404c9cb46942473200b750",
            "1ac48af0039a4af6834940fc7fadf31c",
            "ed004c0b6cd6487f85b5d3c1ca9f45f7",
            "ceff740465da41ebb5d225179cbbb890",
            "34dc06dd9a8c4e6b949744cb9e21b56c",
            "fe286c8a23ee4491bd238b25781f4000",
            "b191382241dd4a638a05e18142f43a18",
            "d63c582ac3f7493bb41220c7fc9033c3",
            "e442d4f4c3154a28bde69c092158330d",
            "64c92bef33a64fa1bbc68993b8b6df5d",
            "d84e43906eb84a109250f3fb0d212dbc"
          ]
        },
        "id": "TvnfRb_A8YZy",
        "outputId": "f52efc04-5f58-46f4-c268-648c3c196977"
      },
      "outputs": [
        {
          "output_type": "stream",
          "name": "stdout",
          "text": [
            "Create sweep with ID: 37zjy81e\n",
            "Sweep URL: https://wandb.ai/iitmadras/CS6910_Assignment-final/sweeps/37zjy81e\n"
          ]
        },
        {
          "output_type": "stream",
          "name": "stderr",
          "text": [
            "\u001b[34m\u001b[1mwandb\u001b[0m: Agent Starting Run: ltb805qj with config:\n",
            "\u001b[34m\u001b[1mwandb\u001b[0m: \tactivation: relu\n",
            "\u001b[34m\u001b[1mwandb\u001b[0m: \tbatch_size: 32\n",
            "\u001b[34m\u001b[1mwandb\u001b[0m: \tepochs: 10\n",
            "\u001b[34m\u001b[1mwandb\u001b[0m: \thidden_layers: 4\n",
            "\u001b[34m\u001b[1mwandb\u001b[0m: \tlearning_rate: 0.0001\n",
            "\u001b[34m\u001b[1mwandb\u001b[0m: \toptimizer: nestrov\n",
            "\u001b[34m\u001b[1mwandb\u001b[0m: \tsize_of_layer: 64\n",
            "\u001b[34m\u001b[1mwandb\u001b[0m: \tweight_init: Xavier\n"
          ]
        },
        {
          "output_type": "display_data",
          "data": {
            "text/plain": [
              "<IPython.core.display.HTML object>"
            ],
            "text/html": [
              "Tracking run with wandb version 0.13.11"
            ]
          },
          "metadata": {}
        },
        {
          "output_type": "display_data",
          "data": {
            "text/plain": [
              "<IPython.core.display.HTML object>"
            ],
            "text/html": [
              "Run data is saved locally in <code>/content/wandb/run-20230310_150322-ltb805qj</code>"
            ]
          },
          "metadata": {}
        },
        {
          "output_type": "display_data",
          "data": {
            "text/plain": [
              "<IPython.core.display.HTML object>"
            ],
            "text/html": [
              "Syncing run <strong><a href='https://wandb.ai/iitmadras/CS6910_Assignment-final/runs/ltb805qj' target=\"_blank\">toasty-sweep-1</a></strong> to <a href='https://wandb.ai/iitmadras/CS6910_Assignment-final' target=\"_blank\">Weights & Biases</a> (<a href='https://wandb.me/run' target=\"_blank\">docs</a>)<br/>Sweep page: <a href='https://wandb.ai/iitmadras/CS6910_Assignment-final/sweeps/37zjy81e' target=\"_blank\">https://wandb.ai/iitmadras/CS6910_Assignment-final/sweeps/37zjy81e</a>"
            ]
          },
          "metadata": {}
        },
        {
          "output_type": "display_data",
          "data": {
            "text/plain": [
              "<IPython.core.display.HTML object>"
            ],
            "text/html": [
              " View project at <a href='https://wandb.ai/iitmadras/CS6910_Assignment-final' target=\"_blank\">https://wandb.ai/iitmadras/CS6910_Assignment-final</a>"
            ]
          },
          "metadata": {}
        },
        {
          "output_type": "display_data",
          "data": {
            "text/plain": [
              "<IPython.core.display.HTML object>"
            ],
            "text/html": [
              " View sweep at <a href='https://wandb.ai/iitmadras/CS6910_Assignment-final/sweeps/37zjy81e' target=\"_blank\">https://wandb.ai/iitmadras/CS6910_Assignment-final/sweeps/37zjy81e</a>"
            ]
          },
          "metadata": {}
        },
        {
          "output_type": "display_data",
          "data": {
            "text/plain": [
              "<IPython.core.display.HTML object>"
            ],
            "text/html": [
              " View run at <a href='https://wandb.ai/iitmadras/CS6910_Assignment-final/runs/ltb805qj' target=\"_blank\">https://wandb.ai/iitmadras/CS6910_Assignment-final/runs/ltb805qj</a>"
            ]
          },
          "metadata": {}
        },
        {
          "output_type": "display_data",
          "data": {
            "text/plain": [
              "<IPython.core.display.HTML object>"
            ],
            "text/html": [
              "Finishing last run (ID:ltb805qj) before initializing another..."
            ]
          },
          "metadata": {}
        },
        {
          "output_type": "display_data",
          "data": {
            "text/plain": [
              "<IPython.core.display.HTML object>"
            ],
            "text/html": [
              "Waiting for W&B process to finish... <strong style=\"color:green\">(success).</strong>"
            ]
          },
          "metadata": {}
        },
        {
          "output_type": "display_data",
          "data": {
            "text/plain": [
              "<IPython.core.display.HTML object>"
            ],
            "text/html": [
              " View run <strong style=\"color:#cdcd00\">toasty-sweep-1</strong> at: <a href='https://wandb.ai/iitmadras/CS6910_Assignment-final/runs/ltb805qj' target=\"_blank\">https://wandb.ai/iitmadras/CS6910_Assignment-final/runs/ltb805qj</a><br/>Synced 4 W&B file(s), 0 media file(s), 0 artifact file(s) and 0 other file(s)"
            ]
          },
          "metadata": {}
        },
        {
          "output_type": "display_data",
          "data": {
            "text/plain": [
              "<IPython.core.display.HTML object>"
            ],
            "text/html": [
              "Find logs at: <code>./wandb/run-20230310_150322-ltb805qj/logs</code>"
            ]
          },
          "metadata": {}
        },
        {
          "output_type": "display_data",
          "data": {
            "text/plain": [
              "<IPython.core.display.HTML object>"
            ],
            "text/html": [
              "Successfully finished last run (ID:ltb805qj). Initializing new run:<br/>"
            ]
          },
          "metadata": {}
        },
        {
          "output_type": "display_data",
          "data": {
            "text/plain": [
              "<IPython.core.display.HTML object>"
            ],
            "text/html": [
              "Tracking run with wandb version 0.13.11"
            ]
          },
          "metadata": {}
        },
        {
          "output_type": "display_data",
          "data": {
            "text/plain": [
              "<IPython.core.display.HTML object>"
            ],
            "text/html": [
              "Run data is saved locally in <code>/content/wandb/run-20230310_150324-ltb805qj</code>"
            ]
          },
          "metadata": {}
        },
        {
          "output_type": "display_data",
          "data": {
            "text/plain": [
              "<IPython.core.display.HTML object>"
            ],
            "text/html": [
              "Syncing run <strong><a href='https://wandb.ai/iitmadras/CS6910_Assignment-final/runs/ltb805qj' target=\"_blank\">hl_4_lr_0.0001_bs_32_opt_nestrov_act_relu</a></strong> to <a href='https://wandb.ai/iitmadras/CS6910_Assignment-final' target=\"_blank\">Weights & Biases</a> (<a href='https://wandb.me/run' target=\"_blank\">docs</a>)<br/>Sweep page: <a href='https://wandb.ai/iitmadras/CS6910_Assignment-final/sweeps/37zjy81e' target=\"_blank\">https://wandb.ai/iitmadras/CS6910_Assignment-final/sweeps/37zjy81e</a>"
            ]
          },
          "metadata": {}
        },
        {
          "output_type": "display_data",
          "data": {
            "text/plain": [
              "<IPython.core.display.HTML object>"
            ],
            "text/html": [
              " View project at <a href='https://wandb.ai/iitmadras/CS6910_Assignment-final' target=\"_blank\">https://wandb.ai/iitmadras/CS6910_Assignment-final</a>"
            ]
          },
          "metadata": {}
        },
        {
          "output_type": "display_data",
          "data": {
            "text/plain": [
              "<IPython.core.display.HTML object>"
            ],
            "text/html": [
              " View sweep at <a href='https://wandb.ai/iitmadras/CS6910_Assignment-final/sweeps/37zjy81e' target=\"_blank\">https://wandb.ai/iitmadras/CS6910_Assignment-final/sweeps/37zjy81e</a>"
            ]
          },
          "metadata": {}
        },
        {
          "output_type": "display_data",
          "data": {
            "text/plain": [
              "<IPython.core.display.HTML object>"
            ],
            "text/html": [
              " View run at <a href='https://wandb.ai/iitmadras/CS6910_Assignment-final/runs/ltb805qj' target=\"_blank\">https://wandb.ai/iitmadras/CS6910_Assignment-final/runs/ltb805qj</a>"
            ]
          },
          "metadata": {}
        },
        {
          "output_type": "stream",
          "name": "stderr",
          "text": [
            "<ipython-input-27-823c0a4dc6ba>:38: VisibleDeprecationWarning: Creating an ndarray from ragged nested sequences (which is a list-or-tuple of lists-or-tuples-or ndarrays with different lengths or shapes) is deprecated. If you meant to do this, you must specify 'dtype=object' when creating the ndarray.\n",
            "  W = np.array(W)\n",
            "<ipython-input-27-823c0a4dc6ba>:39: VisibleDeprecationWarning: Creating an ndarray from ragged nested sequences (which is a list-or-tuple of lists-or-tuples-or ndarrays with different lengths or shapes) is deprecated. If you meant to do this, you must specify 'dtype=object' when creating the ndarray.\n",
            "  B = np.array(B)\n",
            "<ipython-input-27-823c0a4dc6ba>:40: VisibleDeprecationWarning: Creating an ndarray from ragged nested sequences (which is a list-or-tuple of lists-or-tuples-or ndarrays with different lengths or shapes) is deprecated. If you meant to do this, you must specify 'dtype=object' when creating the ndarray.\n",
            "  u_w = np.array(u_w)\n",
            "<ipython-input-27-823c0a4dc6ba>:41: VisibleDeprecationWarning: Creating an ndarray from ragged nested sequences (which is a list-or-tuple of lists-or-tuples-or ndarrays with different lengths or shapes) is deprecated. If you meant to do this, you must specify 'dtype=object' when creating the ndarray.\n",
            "  v_w = np.array(v_w)\n",
            "<ipython-input-27-823c0a4dc6ba>:42: VisibleDeprecationWarning: Creating an ndarray from ragged nested sequences (which is a list-or-tuple of lists-or-tuples-or ndarrays with different lengths or shapes) is deprecated. If you meant to do this, you must specify 'dtype=object' when creating the ndarray.\n",
            "  u_b = np.array(u_b)\n",
            "<ipython-input-27-823c0a4dc6ba>:43: VisibleDeprecationWarning: Creating an ndarray from ragged nested sequences (which is a list-or-tuple of lists-or-tuples-or ndarrays with different lengths or shapes) is deprecated. If you meant to do this, you must specify 'dtype=object' when creating the ndarray.\n",
            "  v_b = np.array(v_b)\n"
          ]
        },
        {
          "output_type": "display_data",
          "data": {
            "text/plain": [
              "<IPython.core.display.HTML object>"
            ],
            "text/html": [
              "Waiting for W&B process to finish... <strong style=\"color:green\">(success).</strong>"
            ]
          },
          "metadata": {}
        },
        {
          "output_type": "display_data",
          "data": {
            "text/plain": [
              "VBox(children=(Label(value='0.001 MB of 0.001 MB uploaded (0.000 MB deduped)\\r'), FloatProgress(value=1.0, max…"
            ],
            "application/vnd.jupyter.widget-view+json": {
              "version_major": 2,
              "version_minor": 0,
              "model_id": "eaa666e7339f4f6ab2d1ad0f388b3014"
            }
          },
          "metadata": {}
        },
        {
          "output_type": "display_data",
          "data": {
            "text/plain": [
              "<IPython.core.display.HTML object>"
            ],
            "text/html": [
              "<style>\n",
              "    table.wandb td:nth-child(1) { padding: 0 10px; text-align: left ; width: auto;} td:nth-child(2) {text-align: left ; width: 100%}\n",
              "    .wandb-row { display: flex; flex-direction: row; flex-wrap: wrap; justify-content: flex-start; width: 100% }\n",
              "    .wandb-col { display: flex; flex-direction: column; flex-basis: 100%; flex: 1; padding: 10px; }\n",
              "    </style>\n",
              "<div class=\"wandb-row\"><div class=\"wandb-col\"><h3>Run history:</h3><br/><table class=\"wandb\"><tr><td>Training_Loss</td><td>▁▁▁▁▁▁▁▁▁▁</td></tr><tr><td>Training_accuracy</td><td>▁▁▁▁▁▁▁▁▁▁</td></tr><tr><td>Validation_Loss</td><td>▁▁▁▁▁▁▁▁▁▁</td></tr><tr><td>epoch</td><td>▁▂▃▃▄▅▆▆▇█</td></tr><tr><td>val_accuracy</td><td>▁▁▁▁▁▁▁▁▁▁</td></tr></table><br/></div><div class=\"wandb-col\"><h3>Run summary:</h3><br/><table class=\"wandb\"><tr><td>Training_Loss</td><td>2.46417</td></tr><tr><td>Training_accuracy</td><td>11.94444</td></tr><tr><td>Validation_Loss</td><td>23.88697</td></tr><tr><td>epoch</td><td>10</td></tr><tr><td>val_accuracy</td><td>10.66667</td></tr></table><br/></div></div>"
            ]
          },
          "metadata": {}
        },
        {
          "output_type": "display_data",
          "data": {
            "text/plain": [
              "<IPython.core.display.HTML object>"
            ],
            "text/html": [
              " View run <strong style=\"color:#cdcd00\">hl_4_lr_0.0001_bs_32_opt_nestrov_act_relu</strong> at: <a href='https://wandb.ai/iitmadras/CS6910_Assignment-final/runs/ltb805qj' target=\"_blank\">https://wandb.ai/iitmadras/CS6910_Assignment-final/runs/ltb805qj</a><br/>Synced 5 W&B file(s), 0 media file(s), 0 artifact file(s) and 0 other file(s)"
            ]
          },
          "metadata": {}
        },
        {
          "output_type": "display_data",
          "data": {
            "text/plain": [
              "<IPython.core.display.HTML object>"
            ],
            "text/html": [
              "Find logs at: <code>./wandb/run-20230310_150324-ltb805qj/logs</code>"
            ]
          },
          "metadata": {}
        },
        {
          "output_type": "stream",
          "name": "stderr",
          "text": [
            "\u001b[34m\u001b[1mwandb\u001b[0m: Agent Starting Run: 4zylul36 with config:\n",
            "\u001b[34m\u001b[1mwandb\u001b[0m: \tactivation: tanh\n",
            "\u001b[34m\u001b[1mwandb\u001b[0m: \tbatch_size: 32\n",
            "\u001b[34m\u001b[1mwandb\u001b[0m: \tepochs: 20\n",
            "\u001b[34m\u001b[1mwandb\u001b[0m: \thidden_layers: 5\n",
            "\u001b[34m\u001b[1mwandb\u001b[0m: \tlearning_rate: 1e-05\n",
            "\u001b[34m\u001b[1mwandb\u001b[0m: \toptimizer: RMSprop\n",
            "\u001b[34m\u001b[1mwandb\u001b[0m: \tsize_of_layer: 64\n",
            "\u001b[34m\u001b[1mwandb\u001b[0m: \tweight_init: random\n"
          ]
        },
        {
          "output_type": "display_data",
          "data": {
            "text/plain": [
              "<IPython.core.display.HTML object>"
            ],
            "text/html": [
              "Tracking run with wandb version 0.13.11"
            ]
          },
          "metadata": {}
        },
        {
          "output_type": "display_data",
          "data": {
            "text/plain": [
              "<IPython.core.display.HTML object>"
            ],
            "text/html": [
              "Run data is saved locally in <code>/content/wandb/run-20230310_150402-4zylul36</code>"
            ]
          },
          "metadata": {}
        },
        {
          "output_type": "display_data",
          "data": {
            "text/plain": [
              "<IPython.core.display.HTML object>"
            ],
            "text/html": [
              "Syncing run <strong><a href='https://wandb.ai/iitmadras/CS6910_Assignment-final/runs/4zylul36' target=\"_blank\">smart-sweep-2</a></strong> to <a href='https://wandb.ai/iitmadras/CS6910_Assignment-final' target=\"_blank\">Weights & Biases</a> (<a href='https://wandb.me/run' target=\"_blank\">docs</a>)<br/>Sweep page: <a href='https://wandb.ai/iitmadras/CS6910_Assignment-final/sweeps/37zjy81e' target=\"_blank\">https://wandb.ai/iitmadras/CS6910_Assignment-final/sweeps/37zjy81e</a>"
            ]
          },
          "metadata": {}
        },
        {
          "output_type": "display_data",
          "data": {
            "text/plain": [
              "<IPython.core.display.HTML object>"
            ],
            "text/html": [
              " View project at <a href='https://wandb.ai/iitmadras/CS6910_Assignment-final' target=\"_blank\">https://wandb.ai/iitmadras/CS6910_Assignment-final</a>"
            ]
          },
          "metadata": {}
        },
        {
          "output_type": "display_data",
          "data": {
            "text/plain": [
              "<IPython.core.display.HTML object>"
            ],
            "text/html": [
              " View sweep at <a href='https://wandb.ai/iitmadras/CS6910_Assignment-final/sweeps/37zjy81e' target=\"_blank\">https://wandb.ai/iitmadras/CS6910_Assignment-final/sweeps/37zjy81e</a>"
            ]
          },
          "metadata": {}
        },
        {
          "output_type": "display_data",
          "data": {
            "text/plain": [
              "<IPython.core.display.HTML object>"
            ],
            "text/html": [
              " View run at <a href='https://wandb.ai/iitmadras/CS6910_Assignment-final/runs/4zylul36' target=\"_blank\">https://wandb.ai/iitmadras/CS6910_Assignment-final/runs/4zylul36</a>"
            ]
          },
          "metadata": {}
        },
        {
          "output_type": "display_data",
          "data": {
            "text/plain": [
              "<IPython.core.display.HTML object>"
            ],
            "text/html": [
              "Finishing last run (ID:4zylul36) before initializing another..."
            ]
          },
          "metadata": {}
        },
        {
          "output_type": "display_data",
          "data": {
            "text/plain": [
              "<IPython.core.display.HTML object>"
            ],
            "text/html": [
              "Waiting for W&B process to finish... <strong style=\"color:green\">(success).</strong>"
            ]
          },
          "metadata": {}
        },
        {
          "output_type": "display_data",
          "data": {
            "text/plain": [
              "VBox(children=(Label(value='0.008 MB of 0.008 MB uploaded (0.000 MB deduped)\\r'), FloatProgress(value=1.0, max…"
            ],
            "application/vnd.jupyter.widget-view+json": {
              "version_major": 2,
              "version_minor": 0,
              "model_id": "6dd22b4b15bb429882e4f1b405df67a1"
            }
          },
          "metadata": {}
        },
        {
          "output_type": "display_data",
          "data": {
            "text/plain": [
              "<IPython.core.display.HTML object>"
            ],
            "text/html": [
              " View run <strong style=\"color:#cdcd00\">smart-sweep-2</strong> at: <a href='https://wandb.ai/iitmadras/CS6910_Assignment-final/runs/4zylul36' target=\"_blank\">https://wandb.ai/iitmadras/CS6910_Assignment-final/runs/4zylul36</a><br/>Synced 4 W&B file(s), 0 media file(s), 0 artifact file(s) and 0 other file(s)"
            ]
          },
          "metadata": {}
        },
        {
          "output_type": "display_data",
          "data": {
            "text/plain": [
              "<IPython.core.display.HTML object>"
            ],
            "text/html": [
              "Find logs at: <code>./wandb/run-20230310_150402-4zylul36/logs</code>"
            ]
          },
          "metadata": {}
        },
        {
          "output_type": "display_data",
          "data": {
            "text/plain": [
              "<IPython.core.display.HTML object>"
            ],
            "text/html": [
              "Successfully finished last run (ID:4zylul36). Initializing new run:<br/>"
            ]
          },
          "metadata": {}
        },
        {
          "output_type": "display_data",
          "data": {
            "text/plain": [
              "<IPython.core.display.HTML object>"
            ],
            "text/html": [
              "Tracking run with wandb version 0.13.11"
            ]
          },
          "metadata": {}
        },
        {
          "output_type": "display_data",
          "data": {
            "text/plain": [
              "<IPython.core.display.HTML object>"
            ],
            "text/html": [
              "Run data is saved locally in <code>/content/wandb/run-20230310_150405-4zylul36</code>"
            ]
          },
          "metadata": {}
        },
        {
          "output_type": "display_data",
          "data": {
            "text/plain": [
              "<IPython.core.display.HTML object>"
            ],
            "text/html": [
              "Syncing run <strong><a href='https://wandb.ai/iitmadras/CS6910_Assignment-final/runs/4zylul36' target=\"_blank\">hl_5_lr_1e-05_bs_32_opt_RMSprop_act_tanh</a></strong> to <a href='https://wandb.ai/iitmadras/CS6910_Assignment-final' target=\"_blank\">Weights & Biases</a> (<a href='https://wandb.me/run' target=\"_blank\">docs</a>)<br/>Sweep page: <a href='https://wandb.ai/iitmadras/CS6910_Assignment-final/sweeps/37zjy81e' target=\"_blank\">https://wandb.ai/iitmadras/CS6910_Assignment-final/sweeps/37zjy81e</a>"
            ]
          },
          "metadata": {}
        },
        {
          "output_type": "display_data",
          "data": {
            "text/plain": [
              "<IPython.core.display.HTML object>"
            ],
            "text/html": [
              " View project at <a href='https://wandb.ai/iitmadras/CS6910_Assignment-final' target=\"_blank\">https://wandb.ai/iitmadras/CS6910_Assignment-final</a>"
            ]
          },
          "metadata": {}
        },
        {
          "output_type": "display_data",
          "data": {
            "text/plain": [
              "<IPython.core.display.HTML object>"
            ],
            "text/html": [
              " View sweep at <a href='https://wandb.ai/iitmadras/CS6910_Assignment-final/sweeps/37zjy81e' target=\"_blank\">https://wandb.ai/iitmadras/CS6910_Assignment-final/sweeps/37zjy81e</a>"
            ]
          },
          "metadata": {}
        },
        {
          "output_type": "display_data",
          "data": {
            "text/plain": [
              "<IPython.core.display.HTML object>"
            ],
            "text/html": [
              " View run at <a href='https://wandb.ai/iitmadras/CS6910_Assignment-final/runs/4zylul36' target=\"_blank\">https://wandb.ai/iitmadras/CS6910_Assignment-final/runs/4zylul36</a>"
            ]
          },
          "metadata": {}
        },
        {
          "output_type": "stream",
          "name": "stderr",
          "text": [
            "<ipython-input-27-823c0a4dc6ba>:38: VisibleDeprecationWarning: Creating an ndarray from ragged nested sequences (which is a list-or-tuple of lists-or-tuples-or ndarrays with different lengths or shapes) is deprecated. If you meant to do this, you must specify 'dtype=object' when creating the ndarray.\n",
            "  W = np.array(W)\n",
            "<ipython-input-27-823c0a4dc6ba>:39: VisibleDeprecationWarning: Creating an ndarray from ragged nested sequences (which is a list-or-tuple of lists-or-tuples-or ndarrays with different lengths or shapes) is deprecated. If you meant to do this, you must specify 'dtype=object' when creating the ndarray.\n",
            "  B = np.array(B)\n",
            "<ipython-input-27-823c0a4dc6ba>:40: VisibleDeprecationWarning: Creating an ndarray from ragged nested sequences (which is a list-or-tuple of lists-or-tuples-or ndarrays with different lengths or shapes) is deprecated. If you meant to do this, you must specify 'dtype=object' when creating the ndarray.\n",
            "  u_w = np.array(u_w)\n",
            "<ipython-input-27-823c0a4dc6ba>:41: VisibleDeprecationWarning: Creating an ndarray from ragged nested sequences (which is a list-or-tuple of lists-or-tuples-or ndarrays with different lengths or shapes) is deprecated. If you meant to do this, you must specify 'dtype=object' when creating the ndarray.\n",
            "  v_w = np.array(v_w)\n",
            "<ipython-input-27-823c0a4dc6ba>:42: VisibleDeprecationWarning: Creating an ndarray from ragged nested sequences (which is a list-or-tuple of lists-or-tuples-or ndarrays with different lengths or shapes) is deprecated. If you meant to do this, you must specify 'dtype=object' when creating the ndarray.\n",
            "  u_b = np.array(u_b)\n",
            "<ipython-input-27-823c0a4dc6ba>:43: VisibleDeprecationWarning: Creating an ndarray from ragged nested sequences (which is a list-or-tuple of lists-or-tuples-or ndarrays with different lengths or shapes) is deprecated. If you meant to do this, you must specify 'dtype=object' when creating the ndarray.\n",
            "  v_b = np.array(v_b)\n"
          ]
        },
        {
          "output_type": "display_data",
          "data": {
            "text/plain": [
              "<IPython.core.display.HTML object>"
            ],
            "text/html": [
              "Waiting for W&B process to finish... <strong style=\"color:red\">(failed 1).</strong> Press Control-C to abort syncing."
            ]
          },
          "metadata": {}
        },
        {
          "output_type": "display_data",
          "data": {
            "text/plain": [
              "<IPython.core.display.HTML object>"
            ],
            "text/html": [
              " View run <strong style=\"color:#cdcd00\">hl_5_lr_1e-05_bs_32_opt_RMSprop_act_tanh</strong> at: <a href='https://wandb.ai/iitmadras/CS6910_Assignment-final/runs/4zylul36' target=\"_blank\">https://wandb.ai/iitmadras/CS6910_Assignment-final/runs/4zylul36</a><br/>Synced 5 W&B file(s), 0 media file(s), 0 artifact file(s) and 0 other file(s)"
            ]
          },
          "metadata": {}
        },
        {
          "output_type": "display_data",
          "data": {
            "text/plain": [
              "<IPython.core.display.HTML object>"
            ],
            "text/html": [
              "Find logs at: <code>./wandb/run-20230310_150405-4zylul36/logs</code>"
            ]
          },
          "metadata": {}
        },
        {
          "output_type": "stream",
          "name": "stderr",
          "text": [
            "Run 4zylul36 errored: ValueError('The truth value of an array with more than one element is ambiguous. Use a.any() or a.all()')\n",
            "\u001b[34m\u001b[1mwandb\u001b[0m: \u001b[32m\u001b[41mERROR\u001b[0m Run 4zylul36 errored: ValueError('The truth value of an array with more than one element is ambiguous. Use a.any() or a.all()')\n",
            "\u001b[34m\u001b[1mwandb\u001b[0m: Agent Starting Run: o9tg7p40 with config:\n",
            "\u001b[34m\u001b[1mwandb\u001b[0m: \tactivation: tanh\n",
            "\u001b[34m\u001b[1mwandb\u001b[0m: \tbatch_size: 64\n",
            "\u001b[34m\u001b[1mwandb\u001b[0m: \tepochs: 5\n",
            "\u001b[34m\u001b[1mwandb\u001b[0m: \thidden_layers: 5\n",
            "\u001b[34m\u001b[1mwandb\u001b[0m: \tlearning_rate: 1e-05\n",
            "\u001b[34m\u001b[1mwandb\u001b[0m: \toptimizer: sgd\n",
            "\u001b[34m\u001b[1mwandb\u001b[0m: \tsize_of_layer: 32\n",
            "\u001b[34m\u001b[1mwandb\u001b[0m: \tweight_init: Xavier\n"
          ]
        },
        {
          "output_type": "display_data",
          "data": {
            "text/plain": [
              "<IPython.core.display.HTML object>"
            ],
            "text/html": [
              "Tracking run with wandb version 0.13.11"
            ]
          },
          "metadata": {}
        },
        {
          "output_type": "display_data",
          "data": {
            "text/plain": [
              "<IPython.core.display.HTML object>"
            ],
            "text/html": [
              "Run data is saved locally in <code>/content/wandb/run-20230310_150423-o9tg7p40</code>"
            ]
          },
          "metadata": {}
        },
        {
          "output_type": "display_data",
          "data": {
            "text/plain": [
              "<IPython.core.display.HTML object>"
            ],
            "text/html": [
              "Syncing run <strong><a href='https://wandb.ai/iitmadras/CS6910_Assignment-final/runs/o9tg7p40' target=\"_blank\">celestial-sweep-3</a></strong> to <a href='https://wandb.ai/iitmadras/CS6910_Assignment-final' target=\"_blank\">Weights & Biases</a> (<a href='https://wandb.me/run' target=\"_blank\">docs</a>)<br/>Sweep page: <a href='https://wandb.ai/iitmadras/CS6910_Assignment-final/sweeps/37zjy81e' target=\"_blank\">https://wandb.ai/iitmadras/CS6910_Assignment-final/sweeps/37zjy81e</a>"
            ]
          },
          "metadata": {}
        },
        {
          "output_type": "display_data",
          "data": {
            "text/plain": [
              "<IPython.core.display.HTML object>"
            ],
            "text/html": [
              " View project at <a href='https://wandb.ai/iitmadras/CS6910_Assignment-final' target=\"_blank\">https://wandb.ai/iitmadras/CS6910_Assignment-final</a>"
            ]
          },
          "metadata": {}
        },
        {
          "output_type": "display_data",
          "data": {
            "text/plain": [
              "<IPython.core.display.HTML object>"
            ],
            "text/html": [
              " View sweep at <a href='https://wandb.ai/iitmadras/CS6910_Assignment-final/sweeps/37zjy81e' target=\"_blank\">https://wandb.ai/iitmadras/CS6910_Assignment-final/sweeps/37zjy81e</a>"
            ]
          },
          "metadata": {}
        },
        {
          "output_type": "display_data",
          "data": {
            "text/plain": [
              "<IPython.core.display.HTML object>"
            ],
            "text/html": [
              " View run at <a href='https://wandb.ai/iitmadras/CS6910_Assignment-final/runs/o9tg7p40' target=\"_blank\">https://wandb.ai/iitmadras/CS6910_Assignment-final/runs/o9tg7p40</a>"
            ]
          },
          "metadata": {}
        },
        {
          "output_type": "display_data",
          "data": {
            "text/plain": [
              "<IPython.core.display.HTML object>"
            ],
            "text/html": [
              "Finishing last run (ID:o9tg7p40) before initializing another..."
            ]
          },
          "metadata": {}
        },
        {
          "output_type": "display_data",
          "data": {
            "text/plain": [
              "<IPython.core.display.HTML object>"
            ],
            "text/html": [
              "Waiting for W&B process to finish... <strong style=\"color:green\">(success).</strong>"
            ]
          },
          "metadata": {}
        },
        {
          "output_type": "display_data",
          "data": {
            "text/plain": [
              "<IPython.core.display.HTML object>"
            ],
            "text/html": [
              " View run <strong style=\"color:#cdcd00\">celestial-sweep-3</strong> at: <a href='https://wandb.ai/iitmadras/CS6910_Assignment-final/runs/o9tg7p40' target=\"_blank\">https://wandb.ai/iitmadras/CS6910_Assignment-final/runs/o9tg7p40</a><br/>Synced 4 W&B file(s), 0 media file(s), 0 artifact file(s) and 0 other file(s)"
            ]
          },
          "metadata": {}
        },
        {
          "output_type": "display_data",
          "data": {
            "text/plain": [
              "<IPython.core.display.HTML object>"
            ],
            "text/html": [
              "Find logs at: <code>./wandb/run-20230310_150423-o9tg7p40/logs</code>"
            ]
          },
          "metadata": {}
        },
        {
          "output_type": "display_data",
          "data": {
            "text/plain": [
              "<IPython.core.display.HTML object>"
            ],
            "text/html": [
              "Successfully finished last run (ID:o9tg7p40). Initializing new run:<br/>"
            ]
          },
          "metadata": {}
        },
        {
          "output_type": "display_data",
          "data": {
            "text/plain": [
              "<IPython.core.display.HTML object>"
            ],
            "text/html": [
              "Tracking run with wandb version 0.13.11"
            ]
          },
          "metadata": {}
        },
        {
          "output_type": "display_data",
          "data": {
            "text/plain": [
              "<IPython.core.display.HTML object>"
            ],
            "text/html": [
              "Run data is saved locally in <code>/content/wandb/run-20230310_150425-o9tg7p40</code>"
            ]
          },
          "metadata": {}
        },
        {
          "output_type": "display_data",
          "data": {
            "text/plain": [
              "<IPython.core.display.HTML object>"
            ],
            "text/html": [
              "Syncing run <strong><a href='https://wandb.ai/iitmadras/CS6910_Assignment-final/runs/o9tg7p40' target=\"_blank\">hl_5_lr_1e-05_bs_64_opt_sgd_act_tanh</a></strong> to <a href='https://wandb.ai/iitmadras/CS6910_Assignment-final' target=\"_blank\">Weights & Biases</a> (<a href='https://wandb.me/run' target=\"_blank\">docs</a>)<br/>Sweep page: <a href='https://wandb.ai/iitmadras/CS6910_Assignment-final/sweeps/37zjy81e' target=\"_blank\">https://wandb.ai/iitmadras/CS6910_Assignment-final/sweeps/37zjy81e</a>"
            ]
          },
          "metadata": {}
        },
        {
          "output_type": "display_data",
          "data": {
            "text/plain": [
              "<IPython.core.display.HTML object>"
            ],
            "text/html": [
              " View project at <a href='https://wandb.ai/iitmadras/CS6910_Assignment-final' target=\"_blank\">https://wandb.ai/iitmadras/CS6910_Assignment-final</a>"
            ]
          },
          "metadata": {}
        },
        {
          "output_type": "display_data",
          "data": {
            "text/plain": [
              "<IPython.core.display.HTML object>"
            ],
            "text/html": [
              " View sweep at <a href='https://wandb.ai/iitmadras/CS6910_Assignment-final/sweeps/37zjy81e' target=\"_blank\">https://wandb.ai/iitmadras/CS6910_Assignment-final/sweeps/37zjy81e</a>"
            ]
          },
          "metadata": {}
        },
        {
          "output_type": "display_data",
          "data": {
            "text/plain": [
              "<IPython.core.display.HTML object>"
            ],
            "text/html": [
              " View run at <a href='https://wandb.ai/iitmadras/CS6910_Assignment-final/runs/o9tg7p40' target=\"_blank\">https://wandb.ai/iitmadras/CS6910_Assignment-final/runs/o9tg7p40</a>"
            ]
          },
          "metadata": {}
        },
        {
          "output_type": "display_data",
          "data": {
            "text/plain": [
              "<IPython.core.display.HTML object>"
            ],
            "text/html": [
              "Waiting for W&B process to finish... <strong style=\"color:red\">(failed 1).</strong> Press Control-C to abort syncing."
            ]
          },
          "metadata": {}
        },
        {
          "output_type": "display_data",
          "data": {
            "text/plain": [
              "VBox(children=(Label(value='0.008 MB of 0.008 MB uploaded (0.000 MB deduped)\\r'), FloatProgress(value=0.909988…"
            ],
            "application/vnd.jupyter.widget-view+json": {
              "version_major": 2,
              "version_minor": 0,
              "model_id": "62d72eb3a52e489ca8c57c706e916822"
            }
          },
          "metadata": {}
        },
        {
          "output_type": "display_data",
          "data": {
            "text/plain": [
              "<IPython.core.display.HTML object>"
            ],
            "text/html": [
              " View run <strong style=\"color:#cdcd00\">hl_5_lr_1e-05_bs_64_opt_sgd_act_tanh</strong> at: <a href='https://wandb.ai/iitmadras/CS6910_Assignment-final/runs/o9tg7p40' target=\"_blank\">https://wandb.ai/iitmadras/CS6910_Assignment-final/runs/o9tg7p40</a><br/>Synced 4 W&B file(s), 0 media file(s), 0 artifact file(s) and 0 other file(s)"
            ]
          },
          "metadata": {}
        },
        {
          "output_type": "display_data",
          "data": {
            "text/plain": [
              "<IPython.core.display.HTML object>"
            ],
            "text/html": [
              "Find logs at: <code>./wandb/run-20230310_150425-o9tg7p40/logs</code>"
            ]
          },
          "metadata": {}
        },
        {
          "output_type": "stream",
          "name": "stderr",
          "text": [
            "Run o9tg7p40 errored: ValueError('The truth value of an array with more than one element is ambiguous. Use a.any() or a.all()')\n",
            "\u001b[34m\u001b[1mwandb\u001b[0m: \u001b[32m\u001b[41mERROR\u001b[0m Run o9tg7p40 errored: ValueError('The truth value of an array with more than one element is ambiguous. Use a.any() or a.all()')\n",
            "\u001b[34m\u001b[1mwandb\u001b[0m: Agent Starting Run: 3ub1csyc with config:\n",
            "\u001b[34m\u001b[1mwandb\u001b[0m: \tactivation: tanh\n",
            "\u001b[34m\u001b[1mwandb\u001b[0m: \tbatch_size: 32\n",
            "\u001b[34m\u001b[1mwandb\u001b[0m: \tepochs: 20\n",
            "\u001b[34m\u001b[1mwandb\u001b[0m: \thidden_layers: 3\n",
            "\u001b[34m\u001b[1mwandb\u001b[0m: \tlearning_rate: 1e-05\n",
            "\u001b[34m\u001b[1mwandb\u001b[0m: \toptimizer: adam\n",
            "\u001b[34m\u001b[1mwandb\u001b[0m: \tsize_of_layer: 64\n",
            "\u001b[34m\u001b[1mwandb\u001b[0m: \tweight_init: random\n"
          ]
        },
        {
          "output_type": "display_data",
          "data": {
            "text/plain": [
              "<IPython.core.display.HTML object>"
            ],
            "text/html": [
              "Tracking run with wandb version 0.13.11"
            ]
          },
          "metadata": {}
        },
        {
          "output_type": "display_data",
          "data": {
            "text/plain": [
              "<IPython.core.display.HTML object>"
            ],
            "text/html": [
              "Run data is saved locally in <code>/content/wandb/run-20230310_150439-3ub1csyc</code>"
            ]
          },
          "metadata": {}
        },
        {
          "output_type": "display_data",
          "data": {
            "text/plain": [
              "<IPython.core.display.HTML object>"
            ],
            "text/html": [
              "Syncing run <strong><a href='https://wandb.ai/iitmadras/CS6910_Assignment-final/runs/3ub1csyc' target=\"_blank\">efficient-sweep-4</a></strong> to <a href='https://wandb.ai/iitmadras/CS6910_Assignment-final' target=\"_blank\">Weights & Biases</a> (<a href='https://wandb.me/run' target=\"_blank\">docs</a>)<br/>Sweep page: <a href='https://wandb.ai/iitmadras/CS6910_Assignment-final/sweeps/37zjy81e' target=\"_blank\">https://wandb.ai/iitmadras/CS6910_Assignment-final/sweeps/37zjy81e</a>"
            ]
          },
          "metadata": {}
        },
        {
          "output_type": "display_data",
          "data": {
            "text/plain": [
              "<IPython.core.display.HTML object>"
            ],
            "text/html": [
              " View project at <a href='https://wandb.ai/iitmadras/CS6910_Assignment-final' target=\"_blank\">https://wandb.ai/iitmadras/CS6910_Assignment-final</a>"
            ]
          },
          "metadata": {}
        },
        {
          "output_type": "display_data",
          "data": {
            "text/plain": [
              "<IPython.core.display.HTML object>"
            ],
            "text/html": [
              " View sweep at <a href='https://wandb.ai/iitmadras/CS6910_Assignment-final/sweeps/37zjy81e' target=\"_blank\">https://wandb.ai/iitmadras/CS6910_Assignment-final/sweeps/37zjy81e</a>"
            ]
          },
          "metadata": {}
        },
        {
          "output_type": "display_data",
          "data": {
            "text/plain": [
              "<IPython.core.display.HTML object>"
            ],
            "text/html": [
              " View run at <a href='https://wandb.ai/iitmadras/CS6910_Assignment-final/runs/3ub1csyc' target=\"_blank\">https://wandb.ai/iitmadras/CS6910_Assignment-final/runs/3ub1csyc</a>"
            ]
          },
          "metadata": {}
        },
        {
          "output_type": "display_data",
          "data": {
            "text/plain": [
              "<IPython.core.display.HTML object>"
            ],
            "text/html": [
              "Finishing last run (ID:3ub1csyc) before initializing another..."
            ]
          },
          "metadata": {}
        },
        {
          "output_type": "display_data",
          "data": {
            "text/plain": [
              "<IPython.core.display.HTML object>"
            ],
            "text/html": [
              "Waiting for W&B process to finish... <strong style=\"color:green\">(success).</strong>"
            ]
          },
          "metadata": {}
        },
        {
          "output_type": "display_data",
          "data": {
            "text/plain": [
              "<IPython.core.display.HTML object>"
            ],
            "text/html": [
              " View run <strong style=\"color:#cdcd00\">efficient-sweep-4</strong> at: <a href='https://wandb.ai/iitmadras/CS6910_Assignment-final/runs/3ub1csyc' target=\"_blank\">https://wandb.ai/iitmadras/CS6910_Assignment-final/runs/3ub1csyc</a><br/>Synced 4 W&B file(s), 0 media file(s), 0 artifact file(s) and 0 other file(s)"
            ]
          },
          "metadata": {}
        },
        {
          "output_type": "display_data",
          "data": {
            "text/plain": [
              "<IPython.core.display.HTML object>"
            ],
            "text/html": [
              "Find logs at: <code>./wandb/run-20230310_150439-3ub1csyc/logs</code>"
            ]
          },
          "metadata": {}
        },
        {
          "output_type": "display_data",
          "data": {
            "text/plain": [
              "<IPython.core.display.HTML object>"
            ],
            "text/html": [
              "Successfully finished last run (ID:3ub1csyc). Initializing new run:<br/>"
            ]
          },
          "metadata": {}
        },
        {
          "output_type": "display_data",
          "data": {
            "text/plain": [
              "<IPython.core.display.HTML object>"
            ],
            "text/html": [
              "Tracking run with wandb version 0.13.11"
            ]
          },
          "metadata": {}
        },
        {
          "output_type": "display_data",
          "data": {
            "text/plain": [
              "<IPython.core.display.HTML object>"
            ],
            "text/html": [
              "Run data is saved locally in <code>/content/wandb/run-20230310_150440-3ub1csyc</code>"
            ]
          },
          "metadata": {}
        },
        {
          "output_type": "display_data",
          "data": {
            "text/plain": [
              "<IPython.core.display.HTML object>"
            ],
            "text/html": [
              "Syncing run <strong><a href='https://wandb.ai/iitmadras/CS6910_Assignment-final/runs/3ub1csyc' target=\"_blank\">hl_3_lr_1e-05_bs_32_opt_adam_act_tanh</a></strong> to <a href='https://wandb.ai/iitmadras/CS6910_Assignment-final' target=\"_blank\">Weights & Biases</a> (<a href='https://wandb.me/run' target=\"_blank\">docs</a>)<br/>Sweep page: <a href='https://wandb.ai/iitmadras/CS6910_Assignment-final/sweeps/37zjy81e' target=\"_blank\">https://wandb.ai/iitmadras/CS6910_Assignment-final/sweeps/37zjy81e</a>"
            ]
          },
          "metadata": {}
        },
        {
          "output_type": "display_data",
          "data": {
            "text/plain": [
              "<IPython.core.display.HTML object>"
            ],
            "text/html": [
              " View project at <a href='https://wandb.ai/iitmadras/CS6910_Assignment-final' target=\"_blank\">https://wandb.ai/iitmadras/CS6910_Assignment-final</a>"
            ]
          },
          "metadata": {}
        },
        {
          "output_type": "display_data",
          "data": {
            "text/plain": [
              "<IPython.core.display.HTML object>"
            ],
            "text/html": [
              " View sweep at <a href='https://wandb.ai/iitmadras/CS6910_Assignment-final/sweeps/37zjy81e' target=\"_blank\">https://wandb.ai/iitmadras/CS6910_Assignment-final/sweeps/37zjy81e</a>"
            ]
          },
          "metadata": {}
        },
        {
          "output_type": "display_data",
          "data": {
            "text/plain": [
              "<IPython.core.display.HTML object>"
            ],
            "text/html": [
              " View run at <a href='https://wandb.ai/iitmadras/CS6910_Assignment-final/runs/3ub1csyc' target=\"_blank\">https://wandb.ai/iitmadras/CS6910_Assignment-final/runs/3ub1csyc</a>"
            ]
          },
          "metadata": {}
        },
        {
          "output_type": "display_data",
          "data": {
            "text/plain": [
              "<IPython.core.display.HTML object>"
            ],
            "text/html": [
              "Waiting for W&B process to finish... <strong style=\"color:red\">(failed 1).</strong> Press Control-C to abort syncing."
            ]
          },
          "metadata": {}
        },
        {
          "output_type": "display_data",
          "data": {
            "text/plain": [
              "VBox(children=(Label(value='0.008 MB of 0.008 MB uploaded (0.000 MB deduped)\\r'), FloatProgress(value=1.0, max…"
            ],
            "application/vnd.jupyter.widget-view+json": {
              "version_major": 2,
              "version_minor": 0,
              "model_id": "f265be6915cf4703b0409bbc93e30f0d"
            }
          },
          "metadata": {}
        },
        {
          "output_type": "display_data",
          "data": {
            "text/plain": [
              "<IPython.core.display.HTML object>"
            ],
            "text/html": [
              " View run <strong style=\"color:#cdcd00\">hl_3_lr_1e-05_bs_32_opt_adam_act_tanh</strong> at: <a href='https://wandb.ai/iitmadras/CS6910_Assignment-final/runs/3ub1csyc' target=\"_blank\">https://wandb.ai/iitmadras/CS6910_Assignment-final/runs/3ub1csyc</a><br/>Synced 4 W&B file(s), 0 media file(s), 0 artifact file(s) and 0 other file(s)"
            ]
          },
          "metadata": {}
        },
        {
          "output_type": "display_data",
          "data": {
            "text/plain": [
              "<IPython.core.display.HTML object>"
            ],
            "text/html": [
              "Find logs at: <code>./wandb/run-20230310_150440-3ub1csyc/logs</code>"
            ]
          },
          "metadata": {}
        },
        {
          "output_type": "stream",
          "name": "stderr",
          "text": [
            "Run 3ub1csyc errored: ValueError('The truth value of an array with more than one element is ambiguous. Use a.any() or a.all()')\n",
            "\u001b[34m\u001b[1mwandb\u001b[0m: \u001b[32m\u001b[41mERROR\u001b[0m Run 3ub1csyc errored: ValueError('The truth value of an array with more than one element is ambiguous. Use a.any() or a.all()')\n",
            "\u001b[34m\u001b[1mwandb\u001b[0m: Agent Starting Run: voizukam with config:\n",
            "\u001b[34m\u001b[1mwandb\u001b[0m: \tactivation: tanh\n",
            "\u001b[34m\u001b[1mwandb\u001b[0m: \tbatch_size: 64\n",
            "\u001b[34m\u001b[1mwandb\u001b[0m: \tepochs: 20\n",
            "\u001b[34m\u001b[1mwandb\u001b[0m: \thidden_layers: 5\n",
            "\u001b[34m\u001b[1mwandb\u001b[0m: \tlearning_rate: 0.0001\n",
            "\u001b[34m\u001b[1mwandb\u001b[0m: \toptimizer: momentum\n",
            "\u001b[34m\u001b[1mwandb\u001b[0m: \tsize_of_layer: 64\n",
            "\u001b[34m\u001b[1mwandb\u001b[0m: \tweight_init: Xavier\n"
          ]
        },
        {
          "output_type": "display_data",
          "data": {
            "text/plain": [
              "<IPython.core.display.HTML object>"
            ],
            "text/html": [
              "Tracking run with wandb version 0.13.11"
            ]
          },
          "metadata": {}
        },
        {
          "output_type": "display_data",
          "data": {
            "text/plain": [
              "<IPython.core.display.HTML object>"
            ],
            "text/html": [
              "Run data is saved locally in <code>/content/wandb/run-20230310_150456-voizukam</code>"
            ]
          },
          "metadata": {}
        },
        {
          "output_type": "display_data",
          "data": {
            "text/plain": [
              "<IPython.core.display.HTML object>"
            ],
            "text/html": [
              "Syncing run <strong><a href='https://wandb.ai/iitmadras/CS6910_Assignment-final/runs/voizukam' target=\"_blank\">vivid-sweep-5</a></strong> to <a href='https://wandb.ai/iitmadras/CS6910_Assignment-final' target=\"_blank\">Weights & Biases</a> (<a href='https://wandb.me/run' target=\"_blank\">docs</a>)<br/>Sweep page: <a href='https://wandb.ai/iitmadras/CS6910_Assignment-final/sweeps/37zjy81e' target=\"_blank\">https://wandb.ai/iitmadras/CS6910_Assignment-final/sweeps/37zjy81e</a>"
            ]
          },
          "metadata": {}
        },
        {
          "output_type": "display_data",
          "data": {
            "text/plain": [
              "<IPython.core.display.HTML object>"
            ],
            "text/html": [
              " View project at <a href='https://wandb.ai/iitmadras/CS6910_Assignment-final' target=\"_blank\">https://wandb.ai/iitmadras/CS6910_Assignment-final</a>"
            ]
          },
          "metadata": {}
        },
        {
          "output_type": "display_data",
          "data": {
            "text/plain": [
              "<IPython.core.display.HTML object>"
            ],
            "text/html": [
              " View sweep at <a href='https://wandb.ai/iitmadras/CS6910_Assignment-final/sweeps/37zjy81e' target=\"_blank\">https://wandb.ai/iitmadras/CS6910_Assignment-final/sweeps/37zjy81e</a>"
            ]
          },
          "metadata": {}
        },
        {
          "output_type": "display_data",
          "data": {
            "text/plain": [
              "<IPython.core.display.HTML object>"
            ],
            "text/html": [
              " View run at <a href='https://wandb.ai/iitmadras/CS6910_Assignment-final/runs/voizukam' target=\"_blank\">https://wandb.ai/iitmadras/CS6910_Assignment-final/runs/voizukam</a>"
            ]
          },
          "metadata": {}
        },
        {
          "output_type": "display_data",
          "data": {
            "text/plain": [
              "<IPython.core.display.HTML object>"
            ],
            "text/html": [
              "Finishing last run (ID:voizukam) before initializing another..."
            ]
          },
          "metadata": {}
        },
        {
          "output_type": "display_data",
          "data": {
            "text/plain": [
              "<IPython.core.display.HTML object>"
            ],
            "text/html": [
              "Waiting for W&B process to finish... <strong style=\"color:green\">(success).</strong>"
            ]
          },
          "metadata": {}
        },
        {
          "output_type": "display_data",
          "data": {
            "text/plain": [
              "<IPython.core.display.HTML object>"
            ],
            "text/html": [
              " View run <strong style=\"color:#cdcd00\">vivid-sweep-5</strong> at: <a href='https://wandb.ai/iitmadras/CS6910_Assignment-final/runs/voizukam' target=\"_blank\">https://wandb.ai/iitmadras/CS6910_Assignment-final/runs/voizukam</a><br/>Synced 4 W&B file(s), 0 media file(s), 0 artifact file(s) and 0 other file(s)"
            ]
          },
          "metadata": {}
        },
        {
          "output_type": "display_data",
          "data": {
            "text/plain": [
              "<IPython.core.display.HTML object>"
            ],
            "text/html": [
              "Find logs at: <code>./wandb/run-20230310_150456-voizukam/logs</code>"
            ]
          },
          "metadata": {}
        },
        {
          "output_type": "display_data",
          "data": {
            "text/plain": [
              "<IPython.core.display.HTML object>"
            ],
            "text/html": [
              "Successfully finished last run (ID:voizukam). Initializing new run:<br/>"
            ]
          },
          "metadata": {}
        },
        {
          "output_type": "display_data",
          "data": {
            "text/plain": [
              "<IPython.core.display.HTML object>"
            ],
            "text/html": [
              "Tracking run with wandb version 0.13.11"
            ]
          },
          "metadata": {}
        },
        {
          "output_type": "display_data",
          "data": {
            "text/plain": [
              "<IPython.core.display.HTML object>"
            ],
            "text/html": [
              "Run data is saved locally in <code>/content/wandb/run-20230310_150459-voizukam</code>"
            ]
          },
          "metadata": {}
        },
        {
          "output_type": "display_data",
          "data": {
            "text/plain": [
              "<IPython.core.display.HTML object>"
            ],
            "text/html": [
              "Syncing run <strong><a href='https://wandb.ai/iitmadras/CS6910_Assignment-final/runs/voizukam' target=\"_blank\">hl_5_lr_0.0001_bs_64_opt_momentum_act_tanh</a></strong> to <a href='https://wandb.ai/iitmadras/CS6910_Assignment-final' target=\"_blank\">Weights & Biases</a> (<a href='https://wandb.me/run' target=\"_blank\">docs</a>)<br/>Sweep page: <a href='https://wandb.ai/iitmadras/CS6910_Assignment-final/sweeps/37zjy81e' target=\"_blank\">https://wandb.ai/iitmadras/CS6910_Assignment-final/sweeps/37zjy81e</a>"
            ]
          },
          "metadata": {}
        },
        {
          "output_type": "display_data",
          "data": {
            "text/plain": [
              "<IPython.core.display.HTML object>"
            ],
            "text/html": [
              " View project at <a href='https://wandb.ai/iitmadras/CS6910_Assignment-final' target=\"_blank\">https://wandb.ai/iitmadras/CS6910_Assignment-final</a>"
            ]
          },
          "metadata": {}
        },
        {
          "output_type": "display_data",
          "data": {
            "text/plain": [
              "<IPython.core.display.HTML object>"
            ],
            "text/html": [
              " View sweep at <a href='https://wandb.ai/iitmadras/CS6910_Assignment-final/sweeps/37zjy81e' target=\"_blank\">https://wandb.ai/iitmadras/CS6910_Assignment-final/sweeps/37zjy81e</a>"
            ]
          },
          "metadata": {}
        },
        {
          "output_type": "display_data",
          "data": {
            "text/plain": [
              "<IPython.core.display.HTML object>"
            ],
            "text/html": [
              " View run at <a href='https://wandb.ai/iitmadras/CS6910_Assignment-final/runs/voizukam' target=\"_blank\">https://wandb.ai/iitmadras/CS6910_Assignment-final/runs/voizukam</a>"
            ]
          },
          "metadata": {}
        },
        {
          "output_type": "display_data",
          "data": {
            "text/plain": [
              "<IPython.core.display.HTML object>"
            ],
            "text/html": [
              "Waiting for W&B process to finish... <strong style=\"color:red\">(failed 1).</strong> Press Control-C to abort syncing."
            ]
          },
          "metadata": {}
        },
        {
          "output_type": "display_data",
          "data": {
            "text/plain": [
              "VBox(children=(Label(value='0.008 MB of 0.008 MB uploaded (0.000 MB deduped)\\r'), FloatProgress(value=1.0, max…"
            ],
            "application/vnd.jupyter.widget-view+json": {
              "version_major": 2,
              "version_minor": 0,
              "model_id": "ceff740465da41ebb5d225179cbbb890"
            }
          },
          "metadata": {}
        },
        {
          "output_type": "display_data",
          "data": {
            "text/plain": [
              "<IPython.core.display.HTML object>"
            ],
            "text/html": [
              " View run <strong style=\"color:#cdcd00\">hl_5_lr_0.0001_bs_64_opt_momentum_act_tanh</strong> at: <a href='https://wandb.ai/iitmadras/CS6910_Assignment-final/runs/voizukam' target=\"_blank\">https://wandb.ai/iitmadras/CS6910_Assignment-final/runs/voizukam</a><br/>Synced 4 W&B file(s), 0 media file(s), 0 artifact file(s) and 0 other file(s)"
            ]
          },
          "metadata": {}
        },
        {
          "output_type": "display_data",
          "data": {
            "text/plain": [
              "<IPython.core.display.HTML object>"
            ],
            "text/html": [
              "Find logs at: <code>./wandb/run-20230310_150459-voizukam/logs</code>"
            ]
          },
          "metadata": {}
        },
        {
          "output_type": "stream",
          "name": "stderr",
          "text": [
            "Run voizukam errored: ValueError('The truth value of an array with more than one element is ambiguous. Use a.any() or a.all()')\n",
            "\u001b[34m\u001b[1mwandb\u001b[0m: \u001b[32m\u001b[41mERROR\u001b[0m Run voizukam errored: ValueError('The truth value of an array with more than one element is ambiguous. Use a.any() or a.all()')\n",
            "\u001b[34m\u001b[1mwandb\u001b[0m: Agent Starting Run: rmu3fpuq with config:\n",
            "\u001b[34m\u001b[1mwandb\u001b[0m: \tactivation: sigmoid\n",
            "\u001b[34m\u001b[1mwandb\u001b[0m: \tbatch_size: 64\n",
            "\u001b[34m\u001b[1mwandb\u001b[0m: \tepochs: 5\n",
            "\u001b[34m\u001b[1mwandb\u001b[0m: \thidden_layers: 5\n",
            "\u001b[34m\u001b[1mwandb\u001b[0m: \tlearning_rate: 1e-05\n",
            "\u001b[34m\u001b[1mwandb\u001b[0m: \toptimizer: RMSprop\n",
            "\u001b[34m\u001b[1mwandb\u001b[0m: \tsize_of_layer: 128\n",
            "\u001b[34m\u001b[1mwandb\u001b[0m: \tweight_init: Xavier\n"
          ]
        },
        {
          "output_type": "display_data",
          "data": {
            "text/plain": [
              "<IPython.core.display.HTML object>"
            ],
            "text/html": [
              "Tracking run with wandb version 0.13.11"
            ]
          },
          "metadata": {}
        },
        {
          "output_type": "display_data",
          "data": {
            "text/plain": [
              "<IPython.core.display.HTML object>"
            ],
            "text/html": [
              "Run data is saved locally in <code>/content/wandb/run-20230310_150515-rmu3fpuq</code>"
            ]
          },
          "metadata": {}
        },
        {
          "output_type": "display_data",
          "data": {
            "text/plain": [
              "<IPython.core.display.HTML object>"
            ],
            "text/html": [
              "Syncing run <strong><a href='https://wandb.ai/iitmadras/CS6910_Assignment-final/runs/rmu3fpuq' target=\"_blank\">trim-sweep-6</a></strong> to <a href='https://wandb.ai/iitmadras/CS6910_Assignment-final' target=\"_blank\">Weights & Biases</a> (<a href='https://wandb.me/run' target=\"_blank\">docs</a>)<br/>Sweep page: <a href='https://wandb.ai/iitmadras/CS6910_Assignment-final/sweeps/37zjy81e' target=\"_blank\">https://wandb.ai/iitmadras/CS6910_Assignment-final/sweeps/37zjy81e</a>"
            ]
          },
          "metadata": {}
        },
        {
          "output_type": "display_data",
          "data": {
            "text/plain": [
              "<IPython.core.display.HTML object>"
            ],
            "text/html": [
              " View project at <a href='https://wandb.ai/iitmadras/CS6910_Assignment-final' target=\"_blank\">https://wandb.ai/iitmadras/CS6910_Assignment-final</a>"
            ]
          },
          "metadata": {}
        },
        {
          "output_type": "display_data",
          "data": {
            "text/plain": [
              "<IPython.core.display.HTML object>"
            ],
            "text/html": [
              " View sweep at <a href='https://wandb.ai/iitmadras/CS6910_Assignment-final/sweeps/37zjy81e' target=\"_blank\">https://wandb.ai/iitmadras/CS6910_Assignment-final/sweeps/37zjy81e</a>"
            ]
          },
          "metadata": {}
        },
        {
          "output_type": "display_data",
          "data": {
            "text/plain": [
              "<IPython.core.display.HTML object>"
            ],
            "text/html": [
              " View run at <a href='https://wandb.ai/iitmadras/CS6910_Assignment-final/runs/rmu3fpuq' target=\"_blank\">https://wandb.ai/iitmadras/CS6910_Assignment-final/runs/rmu3fpuq</a>"
            ]
          },
          "metadata": {}
        },
        {
          "output_type": "display_data",
          "data": {
            "text/plain": [
              "<IPython.core.display.HTML object>"
            ],
            "text/html": [
              "Finishing last run (ID:rmu3fpuq) before initializing another..."
            ]
          },
          "metadata": {}
        },
        {
          "output_type": "display_data",
          "data": {
            "text/plain": [
              "<IPython.core.display.HTML object>"
            ],
            "text/html": [
              "Waiting for W&B process to finish... <strong style=\"color:green\">(success).</strong>"
            ]
          },
          "metadata": {}
        },
        {
          "output_type": "display_data",
          "data": {
            "text/plain": [
              "<IPython.core.display.HTML object>"
            ],
            "text/html": [
              " View run <strong style=\"color:#cdcd00\">trim-sweep-6</strong> at: <a href='https://wandb.ai/iitmadras/CS6910_Assignment-final/runs/rmu3fpuq' target=\"_blank\">https://wandb.ai/iitmadras/CS6910_Assignment-final/runs/rmu3fpuq</a><br/>Synced 4 W&B file(s), 0 media file(s), 0 artifact file(s) and 0 other file(s)"
            ]
          },
          "metadata": {}
        },
        {
          "output_type": "display_data",
          "data": {
            "text/plain": [
              "<IPython.core.display.HTML object>"
            ],
            "text/html": [
              "Find logs at: <code>./wandb/run-20230310_150515-rmu3fpuq/logs</code>"
            ]
          },
          "metadata": {}
        },
        {
          "output_type": "display_data",
          "data": {
            "text/plain": [
              "<IPython.core.display.HTML object>"
            ],
            "text/html": [
              "Successfully finished last run (ID:rmu3fpuq). Initializing new run:<br/>"
            ]
          },
          "metadata": {}
        },
        {
          "output_type": "display_data",
          "data": {
            "text/plain": [
              "<IPython.core.display.HTML object>"
            ],
            "text/html": [
              "Tracking run with wandb version 0.13.11"
            ]
          },
          "metadata": {}
        },
        {
          "output_type": "display_data",
          "data": {
            "text/plain": [
              "<IPython.core.display.HTML object>"
            ],
            "text/html": [
              "Run data is saved locally in <code>/content/wandb/run-20230310_150518-rmu3fpuq</code>"
            ]
          },
          "metadata": {}
        },
        {
          "output_type": "display_data",
          "data": {
            "text/plain": [
              "<IPython.core.display.HTML object>"
            ],
            "text/html": [
              "Syncing run <strong><a href='https://wandb.ai/iitmadras/CS6910_Assignment-final/runs/rmu3fpuq' target=\"_blank\">hl_5_lr_1e-05_bs_64_opt_RMSprop_act_sigmoid</a></strong> to <a href='https://wandb.ai/iitmadras/CS6910_Assignment-final' target=\"_blank\">Weights & Biases</a> (<a href='https://wandb.me/run' target=\"_blank\">docs</a>)<br/>Sweep page: <a href='https://wandb.ai/iitmadras/CS6910_Assignment-final/sweeps/37zjy81e' target=\"_blank\">https://wandb.ai/iitmadras/CS6910_Assignment-final/sweeps/37zjy81e</a>"
            ]
          },
          "metadata": {}
        },
        {
          "output_type": "display_data",
          "data": {
            "text/plain": [
              "<IPython.core.display.HTML object>"
            ],
            "text/html": [
              " View project at <a href='https://wandb.ai/iitmadras/CS6910_Assignment-final' target=\"_blank\">https://wandb.ai/iitmadras/CS6910_Assignment-final</a>"
            ]
          },
          "metadata": {}
        },
        {
          "output_type": "display_data",
          "data": {
            "text/plain": [
              "<IPython.core.display.HTML object>"
            ],
            "text/html": [
              " View sweep at <a href='https://wandb.ai/iitmadras/CS6910_Assignment-final/sweeps/37zjy81e' target=\"_blank\">https://wandb.ai/iitmadras/CS6910_Assignment-final/sweeps/37zjy81e</a>"
            ]
          },
          "metadata": {}
        },
        {
          "output_type": "display_data",
          "data": {
            "text/plain": [
              "<IPython.core.display.HTML object>"
            ],
            "text/html": [
              " View run at <a href='https://wandb.ai/iitmadras/CS6910_Assignment-final/runs/rmu3fpuq' target=\"_blank\">https://wandb.ai/iitmadras/CS6910_Assignment-final/runs/rmu3fpuq</a>"
            ]
          },
          "metadata": {}
        },
        {
          "output_type": "stream",
          "name": "stderr",
          "text": [
            "<ipython-input-24-f68b9cd203e2>:2: RuntimeWarning: overflow encountered in exp\n",
            "  return np.where(x >= 0, 1 / (1 + np.exp(-x)), np.exp(x) / (1 + np.exp(x)))\n",
            "<ipython-input-24-f68b9cd203e2>:2: RuntimeWarning: invalid value encountered in true_divide\n",
            "  return np.where(x >= 0, 1 / (1 + np.exp(-x)), np.exp(x) / (1 + np.exp(x)))\n",
            "<ipython-input-24-f68b9cd203e2>:2: RuntimeWarning: overflow encountered in exp\n",
            "  return np.where(x >= 0, 1 / (1 + np.exp(-x)), np.exp(x) / (1 + np.exp(x)))\n",
            "<ipython-input-24-f68b9cd203e2>:2: RuntimeWarning: invalid value encountered in true_divide\n",
            "  return np.where(x >= 0, 1 / (1 + np.exp(-x)), np.exp(x) / (1 + np.exp(x)))\n",
            "<ipython-input-24-f68b9cd203e2>:2: RuntimeWarning: overflow encountered in exp\n",
            "  return np.where(x >= 0, 1 / (1 + np.exp(-x)), np.exp(x) / (1 + np.exp(x)))\n",
            "<ipython-input-24-f68b9cd203e2>:2: RuntimeWarning: invalid value encountered in true_divide\n",
            "  return np.where(x >= 0, 1 / (1 + np.exp(-x)), np.exp(x) / (1 + np.exp(x)))\n",
            "<ipython-input-24-f68b9cd203e2>:2: RuntimeWarning: overflow encountered in exp\n",
            "  return np.where(x >= 0, 1 / (1 + np.exp(-x)), np.exp(x) / (1 + np.exp(x)))\n",
            "<ipython-input-24-f68b9cd203e2>:2: RuntimeWarning: invalid value encountered in true_divide\n",
            "  return np.where(x >= 0, 1 / (1 + np.exp(-x)), np.exp(x) / (1 + np.exp(x)))\n",
            "<ipython-input-24-f68b9cd203e2>:2: RuntimeWarning: overflow encountered in exp\n",
            "  return np.where(x >= 0, 1 / (1 + np.exp(-x)), np.exp(x) / (1 + np.exp(x)))\n",
            "<ipython-input-24-f68b9cd203e2>:2: RuntimeWarning: invalid value encountered in true_divide\n",
            "  return np.where(x >= 0, 1 / (1 + np.exp(-x)), np.exp(x) / (1 + np.exp(x)))\n"
          ]
        },
        {
          "output_type": "display_data",
          "data": {
            "text/plain": [
              "<IPython.core.display.HTML object>"
            ],
            "text/html": [
              "Waiting for W&B process to finish... <strong style=\"color:green\">(success).</strong>"
            ]
          },
          "metadata": {}
        },
        {
          "output_type": "display_data",
          "data": {
            "text/plain": [
              "<IPython.core.display.HTML object>"
            ],
            "text/html": [
              "<style>\n",
              "    table.wandb td:nth-child(1) { padding: 0 10px; text-align: left ; width: auto;} td:nth-child(2) {text-align: left ; width: 100%}\n",
              "    .wandb-row { display: flex; flex-direction: row; flex-wrap: wrap; justify-content: flex-start; width: 100% }\n",
              "    .wandb-col { display: flex; flex-direction: column; flex-basis: 100%; flex: 1; padding: 10px; }\n",
              "    </style>\n",
              "<div class=\"wandb-row\"><div class=\"wandb-col\"><h3>Run history:</h3><br/><table class=\"wandb\"><tr><td>Training_Loss</td><td>█▇▇▅▁</td></tr><tr><td>Training_accuracy</td><td>▁▅▇██</td></tr><tr><td>Validation_Loss</td><td>█▇▆▅▁</td></tr><tr><td>epoch</td><td>▁▃▅▆█</td></tr><tr><td>val_accuracy</td><td>█▁▁▁▁</td></tr></table><br/></div><div class=\"wandb-col\"><h3>Run summary:</h3><br/><table class=\"wandb\"><tr><td>Training_Loss</td><td>2.2778</td></tr><tr><td>Training_accuracy</td><td>19.94259</td></tr><tr><td>Validation_Loss</td><td>2.27065</td></tr><tr><td>epoch</td><td>5</td></tr><tr><td>val_accuracy</td><td>19.05</td></tr></table><br/></div></div>"
            ]
          },
          "metadata": {}
        },
        {
          "output_type": "display_data",
          "data": {
            "text/plain": [
              "<IPython.core.display.HTML object>"
            ],
            "text/html": [
              " View run <strong style=\"color:#cdcd00\">hl_5_lr_1e-05_bs_64_opt_RMSprop_act_sigmoid</strong> at: <a href='https://wandb.ai/iitmadras/CS6910_Assignment-final/runs/rmu3fpuq' target=\"_blank\">https://wandb.ai/iitmadras/CS6910_Assignment-final/runs/rmu3fpuq</a><br/>Synced 5 W&B file(s), 0 media file(s), 0 artifact file(s) and 0 other file(s)"
            ]
          },
          "metadata": {}
        },
        {
          "output_type": "display_data",
          "data": {
            "text/plain": [
              "<IPython.core.display.HTML object>"
            ],
            "text/html": [
              "Find logs at: <code>./wandb/run-20230310_150518-rmu3fpuq/logs</code>"
            ]
          },
          "metadata": {}
        },
        {
          "output_type": "stream",
          "name": "stderr",
          "text": [
            "\u001b[34m\u001b[1mwandb\u001b[0m: Agent Starting Run: cizey6b3 with config:\n",
            "\u001b[34m\u001b[1mwandb\u001b[0m: \tactivation: tanh\n",
            "\u001b[34m\u001b[1mwandb\u001b[0m: \tbatch_size: 64\n",
            "\u001b[34m\u001b[1mwandb\u001b[0m: \tepochs: 20\n",
            "\u001b[34m\u001b[1mwandb\u001b[0m: \thidden_layers: 3\n",
            "\u001b[34m\u001b[1mwandb\u001b[0m: \tlearning_rate: 1e-05\n",
            "\u001b[34m\u001b[1mwandb\u001b[0m: \toptimizer: RMSprop\n",
            "\u001b[34m\u001b[1mwandb\u001b[0m: \tsize_of_layer: 128\n",
            "\u001b[34m\u001b[1mwandb\u001b[0m: \tweight_init: random\n"
          ]
        },
        {
          "output_type": "display_data",
          "data": {
            "text/plain": [
              "<IPython.core.display.HTML object>"
            ],
            "text/html": [
              "Tracking run with wandb version 0.13.11"
            ]
          },
          "metadata": {}
        },
        {
          "output_type": "display_data",
          "data": {
            "text/plain": [
              "<IPython.core.display.HTML object>"
            ],
            "text/html": [
              "Run data is saved locally in <code>/content/wandb/run-20230310_150723-cizey6b3</code>"
            ]
          },
          "metadata": {}
        },
        {
          "output_type": "display_data",
          "data": {
            "text/plain": [
              "<IPython.core.display.HTML object>"
            ],
            "text/html": [
              "Syncing run <strong><a href='https://wandb.ai/iitmadras/CS6910_Assignment-final/runs/cizey6b3' target=\"_blank\">denim-sweep-7</a></strong> to <a href='https://wandb.ai/iitmadras/CS6910_Assignment-final' target=\"_blank\">Weights & Biases</a> (<a href='https://wandb.me/run' target=\"_blank\">docs</a>)<br/>Sweep page: <a href='https://wandb.ai/iitmadras/CS6910_Assignment-final/sweeps/37zjy81e' target=\"_blank\">https://wandb.ai/iitmadras/CS6910_Assignment-final/sweeps/37zjy81e</a>"
            ]
          },
          "metadata": {}
        },
        {
          "output_type": "display_data",
          "data": {
            "text/plain": [
              "<IPython.core.display.HTML object>"
            ],
            "text/html": [
              " View project at <a href='https://wandb.ai/iitmadras/CS6910_Assignment-final' target=\"_blank\">https://wandb.ai/iitmadras/CS6910_Assignment-final</a>"
            ]
          },
          "metadata": {}
        },
        {
          "output_type": "display_data",
          "data": {
            "text/plain": [
              "<IPython.core.display.HTML object>"
            ],
            "text/html": [
              " View sweep at <a href='https://wandb.ai/iitmadras/CS6910_Assignment-final/sweeps/37zjy81e' target=\"_blank\">https://wandb.ai/iitmadras/CS6910_Assignment-final/sweeps/37zjy81e</a>"
            ]
          },
          "metadata": {}
        },
        {
          "output_type": "display_data",
          "data": {
            "text/plain": [
              "<IPython.core.display.HTML object>"
            ],
            "text/html": [
              " View run at <a href='https://wandb.ai/iitmadras/CS6910_Assignment-final/runs/cizey6b3' target=\"_blank\">https://wandb.ai/iitmadras/CS6910_Assignment-final/runs/cizey6b3</a>"
            ]
          },
          "metadata": {}
        },
        {
          "output_type": "display_data",
          "data": {
            "text/plain": [
              "<IPython.core.display.HTML object>"
            ],
            "text/html": [
              "Finishing last run (ID:cizey6b3) before initializing another..."
            ]
          },
          "metadata": {}
        },
        {
          "output_type": "display_data",
          "data": {
            "text/plain": [
              "<IPython.core.display.HTML object>"
            ],
            "text/html": [
              "Waiting for W&B process to finish... <strong style=\"color:green\">(success).</strong>"
            ]
          },
          "metadata": {}
        },
        {
          "output_type": "display_data",
          "data": {
            "text/plain": [
              "<IPython.core.display.HTML object>"
            ],
            "text/html": [
              " View run <strong style=\"color:#cdcd00\">denim-sweep-7</strong> at: <a href='https://wandb.ai/iitmadras/CS6910_Assignment-final/runs/cizey6b3' target=\"_blank\">https://wandb.ai/iitmadras/CS6910_Assignment-final/runs/cizey6b3</a><br/>Synced 4 W&B file(s), 0 media file(s), 0 artifact file(s) and 0 other file(s)"
            ]
          },
          "metadata": {}
        },
        {
          "output_type": "display_data",
          "data": {
            "text/plain": [
              "<IPython.core.display.HTML object>"
            ],
            "text/html": [
              "Find logs at: <code>./wandb/run-20230310_150723-cizey6b3/logs</code>"
            ]
          },
          "metadata": {}
        },
        {
          "output_type": "display_data",
          "data": {
            "text/plain": [
              "<IPython.core.display.HTML object>"
            ],
            "text/html": [
              "Successfully finished last run (ID:cizey6b3). Initializing new run:<br/>"
            ]
          },
          "metadata": {}
        },
        {
          "output_type": "display_data",
          "data": {
            "text/plain": [
              "<IPython.core.display.HTML object>"
            ],
            "text/html": [
              "Tracking run with wandb version 0.13.11"
            ]
          },
          "metadata": {}
        },
        {
          "output_type": "display_data",
          "data": {
            "text/plain": [
              "<IPython.core.display.HTML object>"
            ],
            "text/html": [
              "Run data is saved locally in <code>/content/wandb/run-20230310_150726-cizey6b3</code>"
            ]
          },
          "metadata": {}
        },
        {
          "output_type": "display_data",
          "data": {
            "text/plain": [
              "<IPython.core.display.HTML object>"
            ],
            "text/html": [
              "Syncing run <strong><a href='https://wandb.ai/iitmadras/CS6910_Assignment-final/runs/cizey6b3' target=\"_blank\">hl_3_lr_1e-05_bs_64_opt_RMSprop_act_tanh</a></strong> to <a href='https://wandb.ai/iitmadras/CS6910_Assignment-final' target=\"_blank\">Weights & Biases</a> (<a href='https://wandb.me/run' target=\"_blank\">docs</a>)<br/>Sweep page: <a href='https://wandb.ai/iitmadras/CS6910_Assignment-final/sweeps/37zjy81e' target=\"_blank\">https://wandb.ai/iitmadras/CS6910_Assignment-final/sweeps/37zjy81e</a>"
            ]
          },
          "metadata": {}
        },
        {
          "output_type": "display_data",
          "data": {
            "text/plain": [
              "<IPython.core.display.HTML object>"
            ],
            "text/html": [
              " View project at <a href='https://wandb.ai/iitmadras/CS6910_Assignment-final' target=\"_blank\">https://wandb.ai/iitmadras/CS6910_Assignment-final</a>"
            ]
          },
          "metadata": {}
        },
        {
          "output_type": "display_data",
          "data": {
            "text/plain": [
              "<IPython.core.display.HTML object>"
            ],
            "text/html": [
              " View sweep at <a href='https://wandb.ai/iitmadras/CS6910_Assignment-final/sweeps/37zjy81e' target=\"_blank\">https://wandb.ai/iitmadras/CS6910_Assignment-final/sweeps/37zjy81e</a>"
            ]
          },
          "metadata": {}
        },
        {
          "output_type": "display_data",
          "data": {
            "text/plain": [
              "<IPython.core.display.HTML object>"
            ],
            "text/html": [
              " View run at <a href='https://wandb.ai/iitmadras/CS6910_Assignment-final/runs/cizey6b3' target=\"_blank\">https://wandb.ai/iitmadras/CS6910_Assignment-final/runs/cizey6b3</a>"
            ]
          },
          "metadata": {}
        },
        {
          "output_type": "stream",
          "name": "stderr",
          "text": [
            "<ipython-input-27-823c0a4dc6ba>:38: VisibleDeprecationWarning: Creating an ndarray from ragged nested sequences (which is a list-or-tuple of lists-or-tuples-or ndarrays with different lengths or shapes) is deprecated. If you meant to do this, you must specify 'dtype=object' when creating the ndarray.\n",
            "  W = np.array(W)\n",
            "<ipython-input-27-823c0a4dc6ba>:39: VisibleDeprecationWarning: Creating an ndarray from ragged nested sequences (which is a list-or-tuple of lists-or-tuples-or ndarrays with different lengths or shapes) is deprecated. If you meant to do this, you must specify 'dtype=object' when creating the ndarray.\n",
            "  B = np.array(B)\n",
            "<ipython-input-27-823c0a4dc6ba>:40: VisibleDeprecationWarning: Creating an ndarray from ragged nested sequences (which is a list-or-tuple of lists-or-tuples-or ndarrays with different lengths or shapes) is deprecated. If you meant to do this, you must specify 'dtype=object' when creating the ndarray.\n",
            "  u_w = np.array(u_w)\n",
            "<ipython-input-27-823c0a4dc6ba>:41: VisibleDeprecationWarning: Creating an ndarray from ragged nested sequences (which is a list-or-tuple of lists-or-tuples-or ndarrays with different lengths or shapes) is deprecated. If you meant to do this, you must specify 'dtype=object' when creating the ndarray.\n",
            "  v_w = np.array(v_w)\n",
            "<ipython-input-27-823c0a4dc6ba>:42: VisibleDeprecationWarning: Creating an ndarray from ragged nested sequences (which is a list-or-tuple of lists-or-tuples-or ndarrays with different lengths or shapes) is deprecated. If you meant to do this, you must specify 'dtype=object' when creating the ndarray.\n",
            "  u_b = np.array(u_b)\n",
            "<ipython-input-27-823c0a4dc6ba>:43: VisibleDeprecationWarning: Creating an ndarray from ragged nested sequences (which is a list-or-tuple of lists-or-tuples-or ndarrays with different lengths or shapes) is deprecated. If you meant to do this, you must specify 'dtype=object' when creating the ndarray.\n",
            "  v_b = np.array(v_b)\n"
          ]
        },
        {
          "output_type": "display_data",
          "data": {
            "text/plain": [
              "<IPython.core.display.HTML object>"
            ],
            "text/html": [
              "Waiting for W&B process to finish... <strong style=\"color:red\">(failed 1).</strong> Press Control-C to abort syncing."
            ]
          },
          "metadata": {}
        },
        {
          "output_type": "display_data",
          "data": {
            "text/plain": [
              "<IPython.core.display.HTML object>"
            ],
            "text/html": [
              " View run <strong style=\"color:#cdcd00\">hl_3_lr_1e-05_bs_64_opt_RMSprop_act_tanh</strong> at: <a href='https://wandb.ai/iitmadras/CS6910_Assignment-final/runs/cizey6b3' target=\"_blank\">https://wandb.ai/iitmadras/CS6910_Assignment-final/runs/cizey6b3</a><br/>Synced 5 W&B file(s), 0 media file(s), 0 artifact file(s) and 0 other file(s)"
            ]
          },
          "metadata": {}
        },
        {
          "output_type": "display_data",
          "data": {
            "text/plain": [
              "<IPython.core.display.HTML object>"
            ],
            "text/html": [
              "Find logs at: <code>./wandb/run-20230310_150726-cizey6b3/logs</code>"
            ]
          },
          "metadata": {}
        },
        {
          "output_type": "stream",
          "name": "stderr",
          "text": [
            "Run cizey6b3 errored: ValueError('The truth value of an array with more than one element is ambiguous. Use a.any() or a.all()')\n",
            "\u001b[34m\u001b[1mwandb\u001b[0m: \u001b[32m\u001b[41mERROR\u001b[0m Run cizey6b3 errored: ValueError('The truth value of an array with more than one element is ambiguous. Use a.any() or a.all()')\n",
            "\u001b[34m\u001b[1mwandb\u001b[0m: Agent Starting Run: uvn4mkx1 with config:\n",
            "\u001b[34m\u001b[1mwandb\u001b[0m: \tactivation: sigmoid\n",
            "\u001b[34m\u001b[1mwandb\u001b[0m: \tbatch_size: 128\n",
            "\u001b[34m\u001b[1mwandb\u001b[0m: \tepochs: 10\n",
            "\u001b[34m\u001b[1mwandb\u001b[0m: \thidden_layers: 4\n",
            "\u001b[34m\u001b[1mwandb\u001b[0m: \tlearning_rate: 1e-05\n",
            "\u001b[34m\u001b[1mwandb\u001b[0m: \toptimizer: RMSprop\n",
            "\u001b[34m\u001b[1mwandb\u001b[0m: \tsize_of_layer: 128\n",
            "\u001b[34m\u001b[1mwandb\u001b[0m: \tweight_init: Xavier\n"
          ]
        },
        {
          "output_type": "display_data",
          "data": {
            "text/plain": [
              "<IPython.core.display.HTML object>"
            ],
            "text/html": [
              "Tracking run with wandb version 0.13.11"
            ]
          },
          "metadata": {}
        },
        {
          "output_type": "display_data",
          "data": {
            "text/plain": [
              "<IPython.core.display.HTML object>"
            ],
            "text/html": [
              "Run data is saved locally in <code>/content/wandb/run-20230310_150745-uvn4mkx1</code>"
            ]
          },
          "metadata": {}
        },
        {
          "output_type": "display_data",
          "data": {
            "text/plain": [
              "<IPython.core.display.HTML object>"
            ],
            "text/html": [
              "Syncing run <strong><a href='https://wandb.ai/iitmadras/CS6910_Assignment-final/runs/uvn4mkx1' target=\"_blank\">gentle-sweep-8</a></strong> to <a href='https://wandb.ai/iitmadras/CS6910_Assignment-final' target=\"_blank\">Weights & Biases</a> (<a href='https://wandb.me/run' target=\"_blank\">docs</a>)<br/>Sweep page: <a href='https://wandb.ai/iitmadras/CS6910_Assignment-final/sweeps/37zjy81e' target=\"_blank\">https://wandb.ai/iitmadras/CS6910_Assignment-final/sweeps/37zjy81e</a>"
            ]
          },
          "metadata": {}
        },
        {
          "output_type": "display_data",
          "data": {
            "text/plain": [
              "<IPython.core.display.HTML object>"
            ],
            "text/html": [
              " View project at <a href='https://wandb.ai/iitmadras/CS6910_Assignment-final' target=\"_blank\">https://wandb.ai/iitmadras/CS6910_Assignment-final</a>"
            ]
          },
          "metadata": {}
        },
        {
          "output_type": "display_data",
          "data": {
            "text/plain": [
              "<IPython.core.display.HTML object>"
            ],
            "text/html": [
              " View sweep at <a href='https://wandb.ai/iitmadras/CS6910_Assignment-final/sweeps/37zjy81e' target=\"_blank\">https://wandb.ai/iitmadras/CS6910_Assignment-final/sweeps/37zjy81e</a>"
            ]
          },
          "metadata": {}
        },
        {
          "output_type": "display_data",
          "data": {
            "text/plain": [
              "<IPython.core.display.HTML object>"
            ],
            "text/html": [
              " View run at <a href='https://wandb.ai/iitmadras/CS6910_Assignment-final/runs/uvn4mkx1' target=\"_blank\">https://wandb.ai/iitmadras/CS6910_Assignment-final/runs/uvn4mkx1</a>"
            ]
          },
          "metadata": {}
        },
        {
          "output_type": "display_data",
          "data": {
            "text/plain": [
              "<IPython.core.display.HTML object>"
            ],
            "text/html": [
              "Finishing last run (ID:uvn4mkx1) before initializing another..."
            ]
          },
          "metadata": {}
        },
        {
          "output_type": "display_data",
          "data": {
            "text/plain": [
              "<IPython.core.display.HTML object>"
            ],
            "text/html": [
              "Waiting for W&B process to finish... <strong style=\"color:green\">(success).</strong>"
            ]
          },
          "metadata": {}
        },
        {
          "output_type": "display_data",
          "data": {
            "text/plain": [
              "<IPython.core.display.HTML object>"
            ],
            "text/html": [
              " View run <strong style=\"color:#cdcd00\">gentle-sweep-8</strong> at: <a href='https://wandb.ai/iitmadras/CS6910_Assignment-final/runs/uvn4mkx1' target=\"_blank\">https://wandb.ai/iitmadras/CS6910_Assignment-final/runs/uvn4mkx1</a><br/>Synced 4 W&B file(s), 0 media file(s), 0 artifact file(s) and 0 other file(s)"
            ]
          },
          "metadata": {}
        },
        {
          "output_type": "display_data",
          "data": {
            "text/plain": [
              "<IPython.core.display.HTML object>"
            ],
            "text/html": [
              "Find logs at: <code>./wandb/run-20230310_150745-uvn4mkx1/logs</code>"
            ]
          },
          "metadata": {}
        },
        {
          "output_type": "display_data",
          "data": {
            "text/plain": [
              "<IPython.core.display.HTML object>"
            ],
            "text/html": [
              "Successfully finished last run (ID:uvn4mkx1). Initializing new run:<br/>"
            ]
          },
          "metadata": {}
        },
        {
          "output_type": "display_data",
          "data": {
            "text/plain": [
              "<IPython.core.display.HTML object>"
            ],
            "text/html": [
              "Tracking run with wandb version 0.13.11"
            ]
          },
          "metadata": {}
        },
        {
          "output_type": "display_data",
          "data": {
            "text/plain": [
              "<IPython.core.display.HTML object>"
            ],
            "text/html": [
              "Run data is saved locally in <code>/content/wandb/run-20230310_150747-uvn4mkx1</code>"
            ]
          },
          "metadata": {}
        },
        {
          "output_type": "display_data",
          "data": {
            "text/plain": [
              "<IPython.core.display.HTML object>"
            ],
            "text/html": [
              "Syncing run <strong><a href='https://wandb.ai/iitmadras/CS6910_Assignment-final/runs/uvn4mkx1' target=\"_blank\">hl_4_lr_1e-05_bs_128_opt_RMSprop_act_sigmoid</a></strong> to <a href='https://wandb.ai/iitmadras/CS6910_Assignment-final' target=\"_blank\">Weights & Biases</a> (<a href='https://wandb.me/run' target=\"_blank\">docs</a>)<br/>Sweep page: <a href='https://wandb.ai/iitmadras/CS6910_Assignment-final/sweeps/37zjy81e' target=\"_blank\">https://wandb.ai/iitmadras/CS6910_Assignment-final/sweeps/37zjy81e</a>"
            ]
          },
          "metadata": {}
        },
        {
          "output_type": "display_data",
          "data": {
            "text/plain": [
              "<IPython.core.display.HTML object>"
            ],
            "text/html": [
              " View project at <a href='https://wandb.ai/iitmadras/CS6910_Assignment-final' target=\"_blank\">https://wandb.ai/iitmadras/CS6910_Assignment-final</a>"
            ]
          },
          "metadata": {}
        },
        {
          "output_type": "display_data",
          "data": {
            "text/plain": [
              "<IPython.core.display.HTML object>"
            ],
            "text/html": [
              " View sweep at <a href='https://wandb.ai/iitmadras/CS6910_Assignment-final/sweeps/37zjy81e' target=\"_blank\">https://wandb.ai/iitmadras/CS6910_Assignment-final/sweeps/37zjy81e</a>"
            ]
          },
          "metadata": {}
        },
        {
          "output_type": "display_data",
          "data": {
            "text/plain": [
              "<IPython.core.display.HTML object>"
            ],
            "text/html": [
              " View run at <a href='https://wandb.ai/iitmadras/CS6910_Assignment-final/runs/uvn4mkx1' target=\"_blank\">https://wandb.ai/iitmadras/CS6910_Assignment-final/runs/uvn4mkx1</a>"
            ]
          },
          "metadata": {}
        },
        {
          "output_type": "stream",
          "name": "stderr",
          "text": [
            "<ipython-input-24-f68b9cd203e2>:2: RuntimeWarning: overflow encountered in exp\n",
            "  return np.where(x >= 0, 1 / (1 + np.exp(-x)), np.exp(x) / (1 + np.exp(x)))\n",
            "<ipython-input-24-f68b9cd203e2>:2: RuntimeWarning: invalid value encountered in true_divide\n",
            "  return np.where(x >= 0, 1 / (1 + np.exp(-x)), np.exp(x) / (1 + np.exp(x)))\n",
            "<ipython-input-24-f68b9cd203e2>:2: RuntimeWarning: overflow encountered in exp\n",
            "  return np.where(x >= 0, 1 / (1 + np.exp(-x)), np.exp(x) / (1 + np.exp(x)))\n",
            "<ipython-input-24-f68b9cd203e2>:2: RuntimeWarning: invalid value encountered in true_divide\n",
            "  return np.where(x >= 0, 1 / (1 + np.exp(-x)), np.exp(x) / (1 + np.exp(x)))\n",
            "<ipython-input-24-f68b9cd203e2>:2: RuntimeWarning: overflow encountered in exp\n",
            "  return np.where(x >= 0, 1 / (1 + np.exp(-x)), np.exp(x) / (1 + np.exp(x)))\n",
            "<ipython-input-24-f68b9cd203e2>:2: RuntimeWarning: invalid value encountered in true_divide\n",
            "  return np.where(x >= 0, 1 / (1 + np.exp(-x)), np.exp(x) / (1 + np.exp(x)))\n",
            "<ipython-input-24-f68b9cd203e2>:2: RuntimeWarning: overflow encountered in exp\n",
            "  return np.where(x >= 0, 1 / (1 + np.exp(-x)), np.exp(x) / (1 + np.exp(x)))\n",
            "<ipython-input-24-f68b9cd203e2>:2: RuntimeWarning: invalid value encountered in true_divide\n",
            "  return np.where(x >= 0, 1 / (1 + np.exp(-x)), np.exp(x) / (1 + np.exp(x)))\n",
            "<ipython-input-24-f68b9cd203e2>:2: RuntimeWarning: overflow encountered in exp\n",
            "  return np.where(x >= 0, 1 / (1 + np.exp(-x)), np.exp(x) / (1 + np.exp(x)))\n",
            "<ipython-input-24-f68b9cd203e2>:2: RuntimeWarning: invalid value encountered in true_divide\n",
            "  return np.where(x >= 0, 1 / (1 + np.exp(-x)), np.exp(x) / (1 + np.exp(x)))\n",
            "<ipython-input-24-f68b9cd203e2>:2: RuntimeWarning: overflow encountered in exp\n",
            "  return np.where(x >= 0, 1 / (1 + np.exp(-x)), np.exp(x) / (1 + np.exp(x)))\n",
            "<ipython-input-24-f68b9cd203e2>:2: RuntimeWarning: invalid value encountered in true_divide\n",
            "  return np.where(x >= 0, 1 / (1 + np.exp(-x)), np.exp(x) / (1 + np.exp(x)))\n",
            "<ipython-input-24-f68b9cd203e2>:2: RuntimeWarning: overflow encountered in exp\n",
            "  return np.where(x >= 0, 1 / (1 + np.exp(-x)), np.exp(x) / (1 + np.exp(x)))\n",
            "<ipython-input-24-f68b9cd203e2>:2: RuntimeWarning: invalid value encountered in true_divide\n",
            "  return np.where(x >= 0, 1 / (1 + np.exp(-x)), np.exp(x) / (1 + np.exp(x)))\n",
            "<ipython-input-24-f68b9cd203e2>:2: RuntimeWarning: overflow encountered in exp\n",
            "  return np.where(x >= 0, 1 / (1 + np.exp(-x)), np.exp(x) / (1 + np.exp(x)))\n",
            "<ipython-input-24-f68b9cd203e2>:2: RuntimeWarning: invalid value encountered in true_divide\n",
            "  return np.where(x >= 0, 1 / (1 + np.exp(-x)), np.exp(x) / (1 + np.exp(x)))\n"
          ]
        }
      ],
      "source": [
        "# Initialize WandB sweep\n",
        "sweep_id = wandb.sweep(sweep_config,project=\"CS6910_Assignment-final\")\n",
        "wandb.agent(sweep_id=sweep_id,function=train_wand)"
      ]
    },
    {
      "cell_type": "code",
      "execution_count": null,
      "metadata": {
        "id": "tbz32jmh8Zu6"
      },
      "outputs": [],
      "source": []
    },
    {
      "cell_type": "markdown",
      "metadata": {
        "id": "7PzRlJCy5zJX"
      },
      "source": [
        "#### training the network"
      ]
    },
    {
      "cell_type": "code",
      "execution_count": null,
      "metadata": {
        "id": "dplQUXiZy1r6"
      },
      "outputs": [],
      "source": [
        "W, B = train([28*28, 32, 32, 32, 10], trainX, trainY, epochs=10, alpha = 0.0001, activation_func=\"relu\", optimizer=\"adam\", batch_size=16, weight_init = 'Xavier')\n",
        "evaluate(trainX, trainY, valX, valY, W, B, \"relu\")"
      ]
    },
    {
      "cell_type": "markdown",
      "metadata": {
        "id": "ZlfFAw-yX8ui"
      },
      "source": [
        "### Test"
      ]
    },
    {
      "cell_type": "code",
      "execution_count": null,
      "metadata": {
        "id": "9fU6vfGQYCNM"
      },
      "outputs": [],
      "source": [
        "evaluate(trainX, trainY, testX, testY, W, B, \"sigmoid\")"
      ]
    }
  ],
  "metadata": {
    "colab": {
      "provenance": [],
      "authorship_tag": "ABX9TyOtqt8juhpX6BhbBrC1zeBY",
      "include_colab_link": true
    },
    "gpuClass": "standard",
    "kernelspec": {
      "display_name": "Python 3",
      "name": "python3"
    },
    "language_info": {
      "name": "python"
    },
    "widgets": {
      "application/vnd.jupyter.widget-state+json": {
        "df93bb2b0ba941a7862a417686f02a2d": {
          "model_module": "@jupyter-widgets/controls",
          "model_name": "VBoxModel",
          "model_module_version": "1.5.0",
          "state": {
            "_dom_classes": [],
            "_model_module": "@jupyter-widgets/controls",
            "_model_module_version": "1.5.0",
            "_model_name": "VBoxModel",
            "_view_count": null,
            "_view_module": "@jupyter-widgets/controls",
            "_view_module_version": "1.5.0",
            "_view_name": "VBoxView",
            "box_style": "",
            "children": [
              "IPY_MODEL_f429adf234184e9e88cfdcd1cd24892f",
              "IPY_MODEL_991c45d874794b5cba1a6e5d9dbb92f5"
            ],
            "layout": "IPY_MODEL_94e7c005454f4d589b467f1c75612844"
          }
        },
        "f429adf234184e9e88cfdcd1cd24892f": {
          "model_module": "@jupyter-widgets/controls",
          "model_name": "LabelModel",
          "model_module_version": "1.5.0",
          "state": {
            "_dom_classes": [],
            "_model_module": "@jupyter-widgets/controls",
            "_model_module_version": "1.5.0",
            "_model_name": "LabelModel",
            "_view_count": null,
            "_view_module": "@jupyter-widgets/controls",
            "_view_module_version": "1.5.0",
            "_view_name": "LabelView",
            "description": "",
            "description_tooltip": null,
            "layout": "IPY_MODEL_b11e55782dd449a39a7896edb31b0bac",
            "placeholder": "​",
            "style": "IPY_MODEL_56e6ddcc7b8f4342b5435887d239f2be",
            "value": "0.005 MB of 0.013 MB uploaded (0.000 MB deduped)\r"
          }
        },
        "991c45d874794b5cba1a6e5d9dbb92f5": {
          "model_module": "@jupyter-widgets/controls",
          "model_name": "FloatProgressModel",
          "model_module_version": "1.5.0",
          "state": {
            "_dom_classes": [],
            "_model_module": "@jupyter-widgets/controls",
            "_model_module_version": "1.5.0",
            "_model_name": "FloatProgressModel",
            "_view_count": null,
            "_view_module": "@jupyter-widgets/controls",
            "_view_module_version": "1.5.0",
            "_view_name": "ProgressView",
            "bar_style": "",
            "description": "",
            "description_tooltip": null,
            "layout": "IPY_MODEL_75900a0ebf684f4586e7859e8daaa29b",
            "max": 1,
            "min": 0,
            "orientation": "horizontal",
            "style": "IPY_MODEL_7f145e3a2b244658a3ca683b269abe08",
            "value": 0.38338865637177083
          }
        },
        "94e7c005454f4d589b467f1c75612844": {
          "model_module": "@jupyter-widgets/base",
          "model_name": "LayoutModel",
          "model_module_version": "1.2.0",
          "state": {
            "_model_module": "@jupyter-widgets/base",
            "_model_module_version": "1.2.0",
            "_model_name": "LayoutModel",
            "_view_count": null,
            "_view_module": "@jupyter-widgets/base",
            "_view_module_version": "1.2.0",
            "_view_name": "LayoutView",
            "align_content": null,
            "align_items": null,
            "align_self": null,
            "border": null,
            "bottom": null,
            "display": null,
            "flex": null,
            "flex_flow": null,
            "grid_area": null,
            "grid_auto_columns": null,
            "grid_auto_flow": null,
            "grid_auto_rows": null,
            "grid_column": null,
            "grid_gap": null,
            "grid_row": null,
            "grid_template_areas": null,
            "grid_template_columns": null,
            "grid_template_rows": null,
            "height": null,
            "justify_content": null,
            "justify_items": null,
            "left": null,
            "margin": null,
            "max_height": null,
            "max_width": null,
            "min_height": null,
            "min_width": null,
            "object_fit": null,
            "object_position": null,
            "order": null,
            "overflow": null,
            "overflow_x": null,
            "overflow_y": null,
            "padding": null,
            "right": null,
            "top": null,
            "visibility": null,
            "width": null
          }
        },
        "b11e55782dd449a39a7896edb31b0bac": {
          "model_module": "@jupyter-widgets/base",
          "model_name": "LayoutModel",
          "model_module_version": "1.2.0",
          "state": {
            "_model_module": "@jupyter-widgets/base",
            "_model_module_version": "1.2.0",
            "_model_name": "LayoutModel",
            "_view_count": null,
            "_view_module": "@jupyter-widgets/base",
            "_view_module_version": "1.2.0",
            "_view_name": "LayoutView",
            "align_content": null,
            "align_items": null,
            "align_self": null,
            "border": null,
            "bottom": null,
            "display": null,
            "flex": null,
            "flex_flow": null,
            "grid_area": null,
            "grid_auto_columns": null,
            "grid_auto_flow": null,
            "grid_auto_rows": null,
            "grid_column": null,
            "grid_gap": null,
            "grid_row": null,
            "grid_template_areas": null,
            "grid_template_columns": null,
            "grid_template_rows": null,
            "height": null,
            "justify_content": null,
            "justify_items": null,
            "left": null,
            "margin": null,
            "max_height": null,
            "max_width": null,
            "min_height": null,
            "min_width": null,
            "object_fit": null,
            "object_position": null,
            "order": null,
            "overflow": null,
            "overflow_x": null,
            "overflow_y": null,
            "padding": null,
            "right": null,
            "top": null,
            "visibility": null,
            "width": null
          }
        },
        "56e6ddcc7b8f4342b5435887d239f2be": {
          "model_module": "@jupyter-widgets/controls",
          "model_name": "DescriptionStyleModel",
          "model_module_version": "1.5.0",
          "state": {
            "_model_module": "@jupyter-widgets/controls",
            "_model_module_version": "1.5.0",
            "_model_name": "DescriptionStyleModel",
            "_view_count": null,
            "_view_module": "@jupyter-widgets/base",
            "_view_module_version": "1.2.0",
            "_view_name": "StyleView",
            "description_width": ""
          }
        },
        "75900a0ebf684f4586e7859e8daaa29b": {
          "model_module": "@jupyter-widgets/base",
          "model_name": "LayoutModel",
          "model_module_version": "1.2.0",
          "state": {
            "_model_module": "@jupyter-widgets/base",
            "_model_module_version": "1.2.0",
            "_model_name": "LayoutModel",
            "_view_count": null,
            "_view_module": "@jupyter-widgets/base",
            "_view_module_version": "1.2.0",
            "_view_name": "LayoutView",
            "align_content": null,
            "align_items": null,
            "align_self": null,
            "border": null,
            "bottom": null,
            "display": null,
            "flex": null,
            "flex_flow": null,
            "grid_area": null,
            "grid_auto_columns": null,
            "grid_auto_flow": null,
            "grid_auto_rows": null,
            "grid_column": null,
            "grid_gap": null,
            "grid_row": null,
            "grid_template_areas": null,
            "grid_template_columns": null,
            "grid_template_rows": null,
            "height": null,
            "justify_content": null,
            "justify_items": null,
            "left": null,
            "margin": null,
            "max_height": null,
            "max_width": null,
            "min_height": null,
            "min_width": null,
            "object_fit": null,
            "object_position": null,
            "order": null,
            "overflow": null,
            "overflow_x": null,
            "overflow_y": null,
            "padding": null,
            "right": null,
            "top": null,
            "visibility": null,
            "width": null
          }
        },
        "7f145e3a2b244658a3ca683b269abe08": {
          "model_module": "@jupyter-widgets/controls",
          "model_name": "ProgressStyleModel",
          "model_module_version": "1.5.0",
          "state": {
            "_model_module": "@jupyter-widgets/controls",
            "_model_module_version": "1.5.0",
            "_model_name": "ProgressStyleModel",
            "_view_count": null,
            "_view_module": "@jupyter-widgets/base",
            "_view_module_version": "1.2.0",
            "_view_name": "StyleView",
            "bar_color": null,
            "description_width": ""
          }
        },
        "eaa666e7339f4f6ab2d1ad0f388b3014": {
          "model_module": "@jupyter-widgets/controls",
          "model_name": "VBoxModel",
          "model_module_version": "1.5.0",
          "state": {
            "_dom_classes": [],
            "_model_module": "@jupyter-widgets/controls",
            "_model_module_version": "1.5.0",
            "_model_name": "VBoxModel",
            "_view_count": null,
            "_view_module": "@jupyter-widgets/controls",
            "_view_module_version": "1.5.0",
            "_view_name": "VBoxView",
            "box_style": "",
            "children": [
              "IPY_MODEL_9a2a546985fb40b9897a8e20e5ef47ff",
              "IPY_MODEL_1d02eba2204f4b979a696b429fcbf848"
            ],
            "layout": "IPY_MODEL_7269750fa23440bf8d34112699acd6c9"
          }
        },
        "9a2a546985fb40b9897a8e20e5ef47ff": {
          "model_module": "@jupyter-widgets/controls",
          "model_name": "LabelModel",
          "model_module_version": "1.5.0",
          "state": {
            "_dom_classes": [],
            "_model_module": "@jupyter-widgets/controls",
            "_model_module_version": "1.5.0",
            "_model_name": "LabelModel",
            "_view_count": null,
            "_view_module": "@jupyter-widgets/controls",
            "_view_module_version": "1.5.0",
            "_view_name": "LabelView",
            "description": "",
            "description_tooltip": null,
            "layout": "IPY_MODEL_674de336b2594d838989135e414866e0",
            "placeholder": "​",
            "style": "IPY_MODEL_09c5084271084f778090f335a0ec07aa",
            "value": "0.001 MB of 0.009 MB uploaded (0.000 MB deduped)\r"
          }
        },
        "1d02eba2204f4b979a696b429fcbf848": {
          "model_module": "@jupyter-widgets/controls",
          "model_name": "FloatProgressModel",
          "model_module_version": "1.5.0",
          "state": {
            "_dom_classes": [],
            "_model_module": "@jupyter-widgets/controls",
            "_model_module_version": "1.5.0",
            "_model_name": "FloatProgressModel",
            "_view_count": null,
            "_view_module": "@jupyter-widgets/controls",
            "_view_module_version": "1.5.0",
            "_view_name": "ProgressView",
            "bar_style": "",
            "description": "",
            "description_tooltip": null,
            "layout": "IPY_MODEL_56e84a87fa33433ca6d6ead71332f2d5",
            "max": 1,
            "min": 0,
            "orientation": "horizontal",
            "style": "IPY_MODEL_046ff7ac89c947af991eadca4b15ff41",
            "value": 0.07025927808845958
          }
        },
        "7269750fa23440bf8d34112699acd6c9": {
          "model_module": "@jupyter-widgets/base",
          "model_name": "LayoutModel",
          "model_module_version": "1.2.0",
          "state": {
            "_model_module": "@jupyter-widgets/base",
            "_model_module_version": "1.2.0",
            "_model_name": "LayoutModel",
            "_view_count": null,
            "_view_module": "@jupyter-widgets/base",
            "_view_module_version": "1.2.0",
            "_view_name": "LayoutView",
            "align_content": null,
            "align_items": null,
            "align_self": null,
            "border": null,
            "bottom": null,
            "display": null,
            "flex": null,
            "flex_flow": null,
            "grid_area": null,
            "grid_auto_columns": null,
            "grid_auto_flow": null,
            "grid_auto_rows": null,
            "grid_column": null,
            "grid_gap": null,
            "grid_row": null,
            "grid_template_areas": null,
            "grid_template_columns": null,
            "grid_template_rows": null,
            "height": null,
            "justify_content": null,
            "justify_items": null,
            "left": null,
            "margin": null,
            "max_height": null,
            "max_width": null,
            "min_height": null,
            "min_width": null,
            "object_fit": null,
            "object_position": null,
            "order": null,
            "overflow": null,
            "overflow_x": null,
            "overflow_y": null,
            "padding": null,
            "right": null,
            "top": null,
            "visibility": null,
            "width": null
          }
        },
        "674de336b2594d838989135e414866e0": {
          "model_module": "@jupyter-widgets/base",
          "model_name": "LayoutModel",
          "model_module_version": "1.2.0",
          "state": {
            "_model_module": "@jupyter-widgets/base",
            "_model_module_version": "1.2.0",
            "_model_name": "LayoutModel",
            "_view_count": null,
            "_view_module": "@jupyter-widgets/base",
            "_view_module_version": "1.2.0",
            "_view_name": "LayoutView",
            "align_content": null,
            "align_items": null,
            "align_self": null,
            "border": null,
            "bottom": null,
            "display": null,
            "flex": null,
            "flex_flow": null,
            "grid_area": null,
            "grid_auto_columns": null,
            "grid_auto_flow": null,
            "grid_auto_rows": null,
            "grid_column": null,
            "grid_gap": null,
            "grid_row": null,
            "grid_template_areas": null,
            "grid_template_columns": null,
            "grid_template_rows": null,
            "height": null,
            "justify_content": null,
            "justify_items": null,
            "left": null,
            "margin": null,
            "max_height": null,
            "max_width": null,
            "min_height": null,
            "min_width": null,
            "object_fit": null,
            "object_position": null,
            "order": null,
            "overflow": null,
            "overflow_x": null,
            "overflow_y": null,
            "padding": null,
            "right": null,
            "top": null,
            "visibility": null,
            "width": null
          }
        },
        "09c5084271084f778090f335a0ec07aa": {
          "model_module": "@jupyter-widgets/controls",
          "model_name": "DescriptionStyleModel",
          "model_module_version": "1.5.0",
          "state": {
            "_model_module": "@jupyter-widgets/controls",
            "_model_module_version": "1.5.0",
            "_model_name": "DescriptionStyleModel",
            "_view_count": null,
            "_view_module": "@jupyter-widgets/base",
            "_view_module_version": "1.2.0",
            "_view_name": "StyleView",
            "description_width": ""
          }
        },
        "56e84a87fa33433ca6d6ead71332f2d5": {
          "model_module": "@jupyter-widgets/base",
          "model_name": "LayoutModel",
          "model_module_version": "1.2.0",
          "state": {
            "_model_module": "@jupyter-widgets/base",
            "_model_module_version": "1.2.0",
            "_model_name": "LayoutModel",
            "_view_count": null,
            "_view_module": "@jupyter-widgets/base",
            "_view_module_version": "1.2.0",
            "_view_name": "LayoutView",
            "align_content": null,
            "align_items": null,
            "align_self": null,
            "border": null,
            "bottom": null,
            "display": null,
            "flex": null,
            "flex_flow": null,
            "grid_area": null,
            "grid_auto_columns": null,
            "grid_auto_flow": null,
            "grid_auto_rows": null,
            "grid_column": null,
            "grid_gap": null,
            "grid_row": null,
            "grid_template_areas": null,
            "grid_template_columns": null,
            "grid_template_rows": null,
            "height": null,
            "justify_content": null,
            "justify_items": null,
            "left": null,
            "margin": null,
            "max_height": null,
            "max_width": null,
            "min_height": null,
            "min_width": null,
            "object_fit": null,
            "object_position": null,
            "order": null,
            "overflow": null,
            "overflow_x": null,
            "overflow_y": null,
            "padding": null,
            "right": null,
            "top": null,
            "visibility": null,
            "width": null
          }
        },
        "046ff7ac89c947af991eadca4b15ff41": {
          "model_module": "@jupyter-widgets/controls",
          "model_name": "ProgressStyleModel",
          "model_module_version": "1.5.0",
          "state": {
            "_model_module": "@jupyter-widgets/controls",
            "_model_module_version": "1.5.0",
            "_model_name": "ProgressStyleModel",
            "_view_count": null,
            "_view_module": "@jupyter-widgets/base",
            "_view_module_version": "1.2.0",
            "_view_name": "StyleView",
            "bar_color": null,
            "description_width": ""
          }
        },
        "6dd22b4b15bb429882e4f1b405df67a1": {
          "model_module": "@jupyter-widgets/controls",
          "model_name": "VBoxModel",
          "model_module_version": "1.5.0",
          "state": {
            "_dom_classes": [],
            "_model_module": "@jupyter-widgets/controls",
            "_model_module_version": "1.5.0",
            "_model_name": "VBoxModel",
            "_view_count": null,
            "_view_module": "@jupyter-widgets/controls",
            "_view_module_version": "1.5.0",
            "_view_name": "VBoxView",
            "box_style": "",
            "children": [
              "IPY_MODEL_49972d5cefc145bdafe66747fab5e113",
              "IPY_MODEL_b9636ac0a095459da7d5d77f3392ba89"
            ],
            "layout": "IPY_MODEL_4ab84938017946dd953c5793560fc3eb"
          }
        },
        "49972d5cefc145bdafe66747fab5e113": {
          "model_module": "@jupyter-widgets/controls",
          "model_name": "LabelModel",
          "model_module_version": "1.5.0",
          "state": {
            "_dom_classes": [],
            "_model_module": "@jupyter-widgets/controls",
            "_model_module_version": "1.5.0",
            "_model_name": "LabelModel",
            "_view_count": null,
            "_view_module": "@jupyter-widgets/controls",
            "_view_module_version": "1.5.0",
            "_view_name": "LabelView",
            "description": "",
            "description_tooltip": null,
            "layout": "IPY_MODEL_60e13e6e65a948acbd78f7c1919a2847",
            "placeholder": "​",
            "style": "IPY_MODEL_467428cb5571431ba6bf6bbfb2bc26a9",
            "value": "0.008 MB of 0.008 MB uploaded (0.000 MB deduped)\r"
          }
        },
        "b9636ac0a095459da7d5d77f3392ba89": {
          "model_module": "@jupyter-widgets/controls",
          "model_name": "FloatProgressModel",
          "model_module_version": "1.5.0",
          "state": {
            "_dom_classes": [],
            "_model_module": "@jupyter-widgets/controls",
            "_model_module_version": "1.5.0",
            "_model_name": "FloatProgressModel",
            "_view_count": null,
            "_view_module": "@jupyter-widgets/controls",
            "_view_module_version": "1.5.0",
            "_view_name": "ProgressView",
            "bar_style": "",
            "description": "",
            "description_tooltip": null,
            "layout": "IPY_MODEL_ec9fc74637254b0baeffdba29097d529",
            "max": 1,
            "min": 0,
            "orientation": "horizontal",
            "style": "IPY_MODEL_e5d218f2faf546f09c5df7bcc15ce5d3",
            "value": 1
          }
        },
        "4ab84938017946dd953c5793560fc3eb": {
          "model_module": "@jupyter-widgets/base",
          "model_name": "LayoutModel",
          "model_module_version": "1.2.0",
          "state": {
            "_model_module": "@jupyter-widgets/base",
            "_model_module_version": "1.2.0",
            "_model_name": "LayoutModel",
            "_view_count": null,
            "_view_module": "@jupyter-widgets/base",
            "_view_module_version": "1.2.0",
            "_view_name": "LayoutView",
            "align_content": null,
            "align_items": null,
            "align_self": null,
            "border": null,
            "bottom": null,
            "display": null,
            "flex": null,
            "flex_flow": null,
            "grid_area": null,
            "grid_auto_columns": null,
            "grid_auto_flow": null,
            "grid_auto_rows": null,
            "grid_column": null,
            "grid_gap": null,
            "grid_row": null,
            "grid_template_areas": null,
            "grid_template_columns": null,
            "grid_template_rows": null,
            "height": null,
            "justify_content": null,
            "justify_items": null,
            "left": null,
            "margin": null,
            "max_height": null,
            "max_width": null,
            "min_height": null,
            "min_width": null,
            "object_fit": null,
            "object_position": null,
            "order": null,
            "overflow": null,
            "overflow_x": null,
            "overflow_y": null,
            "padding": null,
            "right": null,
            "top": null,
            "visibility": null,
            "width": null
          }
        },
        "60e13e6e65a948acbd78f7c1919a2847": {
          "model_module": "@jupyter-widgets/base",
          "model_name": "LayoutModel",
          "model_module_version": "1.2.0",
          "state": {
            "_model_module": "@jupyter-widgets/base",
            "_model_module_version": "1.2.0",
            "_model_name": "LayoutModel",
            "_view_count": null,
            "_view_module": "@jupyter-widgets/base",
            "_view_module_version": "1.2.0",
            "_view_name": "LayoutView",
            "align_content": null,
            "align_items": null,
            "align_self": null,
            "border": null,
            "bottom": null,
            "display": null,
            "flex": null,
            "flex_flow": null,
            "grid_area": null,
            "grid_auto_columns": null,
            "grid_auto_flow": null,
            "grid_auto_rows": null,
            "grid_column": null,
            "grid_gap": null,
            "grid_row": null,
            "grid_template_areas": null,
            "grid_template_columns": null,
            "grid_template_rows": null,
            "height": null,
            "justify_content": null,
            "justify_items": null,
            "left": null,
            "margin": null,
            "max_height": null,
            "max_width": null,
            "min_height": null,
            "min_width": null,
            "object_fit": null,
            "object_position": null,
            "order": null,
            "overflow": null,
            "overflow_x": null,
            "overflow_y": null,
            "padding": null,
            "right": null,
            "top": null,
            "visibility": null,
            "width": null
          }
        },
        "467428cb5571431ba6bf6bbfb2bc26a9": {
          "model_module": "@jupyter-widgets/controls",
          "model_name": "DescriptionStyleModel",
          "model_module_version": "1.5.0",
          "state": {
            "_model_module": "@jupyter-widgets/controls",
            "_model_module_version": "1.5.0",
            "_model_name": "DescriptionStyleModel",
            "_view_count": null,
            "_view_module": "@jupyter-widgets/base",
            "_view_module_version": "1.2.0",
            "_view_name": "StyleView",
            "description_width": ""
          }
        },
        "ec9fc74637254b0baeffdba29097d529": {
          "model_module": "@jupyter-widgets/base",
          "model_name": "LayoutModel",
          "model_module_version": "1.2.0",
          "state": {
            "_model_module": "@jupyter-widgets/base",
            "_model_module_version": "1.2.0",
            "_model_name": "LayoutModel",
            "_view_count": null,
            "_view_module": "@jupyter-widgets/base",
            "_view_module_version": "1.2.0",
            "_view_name": "LayoutView",
            "align_content": null,
            "align_items": null,
            "align_self": null,
            "border": null,
            "bottom": null,
            "display": null,
            "flex": null,
            "flex_flow": null,
            "grid_area": null,
            "grid_auto_columns": null,
            "grid_auto_flow": null,
            "grid_auto_rows": null,
            "grid_column": null,
            "grid_gap": null,
            "grid_row": null,
            "grid_template_areas": null,
            "grid_template_columns": null,
            "grid_template_rows": null,
            "height": null,
            "justify_content": null,
            "justify_items": null,
            "left": null,
            "margin": null,
            "max_height": null,
            "max_width": null,
            "min_height": null,
            "min_width": null,
            "object_fit": null,
            "object_position": null,
            "order": null,
            "overflow": null,
            "overflow_x": null,
            "overflow_y": null,
            "padding": null,
            "right": null,
            "top": null,
            "visibility": null,
            "width": null
          }
        },
        "e5d218f2faf546f09c5df7bcc15ce5d3": {
          "model_module": "@jupyter-widgets/controls",
          "model_name": "ProgressStyleModel",
          "model_module_version": "1.5.0",
          "state": {
            "_model_module": "@jupyter-widgets/controls",
            "_model_module_version": "1.5.0",
            "_model_name": "ProgressStyleModel",
            "_view_count": null,
            "_view_module": "@jupyter-widgets/base",
            "_view_module_version": "1.2.0",
            "_view_name": "StyleView",
            "bar_color": null,
            "description_width": ""
          }
        },
        "62d72eb3a52e489ca8c57c706e916822": {
          "model_module": "@jupyter-widgets/controls",
          "model_name": "VBoxModel",
          "model_module_version": "1.5.0",
          "state": {
            "_dom_classes": [],
            "_model_module": "@jupyter-widgets/controls",
            "_model_module_version": "1.5.0",
            "_model_name": "VBoxModel",
            "_view_count": null,
            "_view_module": "@jupyter-widgets/controls",
            "_view_module_version": "1.5.0",
            "_view_name": "VBoxView",
            "box_style": "",
            "children": [
              "IPY_MODEL_c92f9f84095748c59cd2b1190b57f8a0",
              "IPY_MODEL_74e3d1b1a79e41ef98bb9b926be884c0"
            ],
            "layout": "IPY_MODEL_3b73485dbd214363aab7b02e4237f91a"
          }
        },
        "c92f9f84095748c59cd2b1190b57f8a0": {
          "model_module": "@jupyter-widgets/controls",
          "model_name": "LabelModel",
          "model_module_version": "1.5.0",
          "state": {
            "_dom_classes": [],
            "_model_module": "@jupyter-widgets/controls",
            "_model_module_version": "1.5.0",
            "_model_name": "LabelModel",
            "_view_count": null,
            "_view_module": "@jupyter-widgets/controls",
            "_view_module_version": "1.5.0",
            "_view_name": "LabelView",
            "description": "",
            "description_tooltip": null,
            "layout": "IPY_MODEL_25519a4fb95f48819ce6a6dff67d17c7",
            "placeholder": "​",
            "style": "IPY_MODEL_51c9b669e500442b815b646543d6b9ef",
            "value": "0.008 MB of 0.008 MB uploaded (0.000 MB deduped)\r"
          }
        },
        "74e3d1b1a79e41ef98bb9b926be884c0": {
          "model_module": "@jupyter-widgets/controls",
          "model_name": "FloatProgressModel",
          "model_module_version": "1.5.0",
          "state": {
            "_dom_classes": [],
            "_model_module": "@jupyter-widgets/controls",
            "_model_module_version": "1.5.0",
            "_model_name": "FloatProgressModel",
            "_view_count": null,
            "_view_module": "@jupyter-widgets/controls",
            "_view_module_version": "1.5.0",
            "_view_name": "ProgressView",
            "bar_style": "",
            "description": "",
            "description_tooltip": null,
            "layout": "IPY_MODEL_0a1344b231ca4ec2b99fd9ed45e85be4",
            "max": 1,
            "min": 0,
            "orientation": "horizontal",
            "style": "IPY_MODEL_9164bce1db0a486b92dadf7dd7e28d74",
            "value": 0.9099885189437428
          }
        },
        "3b73485dbd214363aab7b02e4237f91a": {
          "model_module": "@jupyter-widgets/base",
          "model_name": "LayoutModel",
          "model_module_version": "1.2.0",
          "state": {
            "_model_module": "@jupyter-widgets/base",
            "_model_module_version": "1.2.0",
            "_model_name": "LayoutModel",
            "_view_count": null,
            "_view_module": "@jupyter-widgets/base",
            "_view_module_version": "1.2.0",
            "_view_name": "LayoutView",
            "align_content": null,
            "align_items": null,
            "align_self": null,
            "border": null,
            "bottom": null,
            "display": null,
            "flex": null,
            "flex_flow": null,
            "grid_area": null,
            "grid_auto_columns": null,
            "grid_auto_flow": null,
            "grid_auto_rows": null,
            "grid_column": null,
            "grid_gap": null,
            "grid_row": null,
            "grid_template_areas": null,
            "grid_template_columns": null,
            "grid_template_rows": null,
            "height": null,
            "justify_content": null,
            "justify_items": null,
            "left": null,
            "margin": null,
            "max_height": null,
            "max_width": null,
            "min_height": null,
            "min_width": null,
            "object_fit": null,
            "object_position": null,
            "order": null,
            "overflow": null,
            "overflow_x": null,
            "overflow_y": null,
            "padding": null,
            "right": null,
            "top": null,
            "visibility": null,
            "width": null
          }
        },
        "25519a4fb95f48819ce6a6dff67d17c7": {
          "model_module": "@jupyter-widgets/base",
          "model_name": "LayoutModel",
          "model_module_version": "1.2.0",
          "state": {
            "_model_module": "@jupyter-widgets/base",
            "_model_module_version": "1.2.0",
            "_model_name": "LayoutModel",
            "_view_count": null,
            "_view_module": "@jupyter-widgets/base",
            "_view_module_version": "1.2.0",
            "_view_name": "LayoutView",
            "align_content": null,
            "align_items": null,
            "align_self": null,
            "border": null,
            "bottom": null,
            "display": null,
            "flex": null,
            "flex_flow": null,
            "grid_area": null,
            "grid_auto_columns": null,
            "grid_auto_flow": null,
            "grid_auto_rows": null,
            "grid_column": null,
            "grid_gap": null,
            "grid_row": null,
            "grid_template_areas": null,
            "grid_template_columns": null,
            "grid_template_rows": null,
            "height": null,
            "justify_content": null,
            "justify_items": null,
            "left": null,
            "margin": null,
            "max_height": null,
            "max_width": null,
            "min_height": null,
            "min_width": null,
            "object_fit": null,
            "object_position": null,
            "order": null,
            "overflow": null,
            "overflow_x": null,
            "overflow_y": null,
            "padding": null,
            "right": null,
            "top": null,
            "visibility": null,
            "width": null
          }
        },
        "51c9b669e500442b815b646543d6b9ef": {
          "model_module": "@jupyter-widgets/controls",
          "model_name": "DescriptionStyleModel",
          "model_module_version": "1.5.0",
          "state": {
            "_model_module": "@jupyter-widgets/controls",
            "_model_module_version": "1.5.0",
            "_model_name": "DescriptionStyleModel",
            "_view_count": null,
            "_view_module": "@jupyter-widgets/base",
            "_view_module_version": "1.2.0",
            "_view_name": "StyleView",
            "description_width": ""
          }
        },
        "0a1344b231ca4ec2b99fd9ed45e85be4": {
          "model_module": "@jupyter-widgets/base",
          "model_name": "LayoutModel",
          "model_module_version": "1.2.0",
          "state": {
            "_model_module": "@jupyter-widgets/base",
            "_model_module_version": "1.2.0",
            "_model_name": "LayoutModel",
            "_view_count": null,
            "_view_module": "@jupyter-widgets/base",
            "_view_module_version": "1.2.0",
            "_view_name": "LayoutView",
            "align_content": null,
            "align_items": null,
            "align_self": null,
            "border": null,
            "bottom": null,
            "display": null,
            "flex": null,
            "flex_flow": null,
            "grid_area": null,
            "grid_auto_columns": null,
            "grid_auto_flow": null,
            "grid_auto_rows": null,
            "grid_column": null,
            "grid_gap": null,
            "grid_row": null,
            "grid_template_areas": null,
            "grid_template_columns": null,
            "grid_template_rows": null,
            "height": null,
            "justify_content": null,
            "justify_items": null,
            "left": null,
            "margin": null,
            "max_height": null,
            "max_width": null,
            "min_height": null,
            "min_width": null,
            "object_fit": null,
            "object_position": null,
            "order": null,
            "overflow": null,
            "overflow_x": null,
            "overflow_y": null,
            "padding": null,
            "right": null,
            "top": null,
            "visibility": null,
            "width": null
          }
        },
        "9164bce1db0a486b92dadf7dd7e28d74": {
          "model_module": "@jupyter-widgets/controls",
          "model_name": "ProgressStyleModel",
          "model_module_version": "1.5.0",
          "state": {
            "_model_module": "@jupyter-widgets/controls",
            "_model_module_version": "1.5.0",
            "_model_name": "ProgressStyleModel",
            "_view_count": null,
            "_view_module": "@jupyter-widgets/base",
            "_view_module_version": "1.2.0",
            "_view_name": "StyleView",
            "bar_color": null,
            "description_width": ""
          }
        },
        "f265be6915cf4703b0409bbc93e30f0d": {
          "model_module": "@jupyter-widgets/controls",
          "model_name": "VBoxModel",
          "model_module_version": "1.5.0",
          "state": {
            "_dom_classes": [],
            "_model_module": "@jupyter-widgets/controls",
            "_model_module_version": "1.5.0",
            "_model_name": "VBoxModel",
            "_view_count": null,
            "_view_module": "@jupyter-widgets/controls",
            "_view_module_version": "1.5.0",
            "_view_name": "VBoxView",
            "box_style": "",
            "children": [
              "IPY_MODEL_6306df2f3ca14a34a327bbbafa331059",
              "IPY_MODEL_8e9c41b808624837af9a0cb08448693b"
            ],
            "layout": "IPY_MODEL_795359e0dae643c182afa8bcb60fd66e"
          }
        },
        "6306df2f3ca14a34a327bbbafa331059": {
          "model_module": "@jupyter-widgets/controls",
          "model_name": "LabelModel",
          "model_module_version": "1.5.0",
          "state": {
            "_dom_classes": [],
            "_model_module": "@jupyter-widgets/controls",
            "_model_module_version": "1.5.0",
            "_model_name": "LabelModel",
            "_view_count": null,
            "_view_module": "@jupyter-widgets/controls",
            "_view_module_version": "1.5.0",
            "_view_name": "LabelView",
            "description": "",
            "description_tooltip": null,
            "layout": "IPY_MODEL_d045521c020e44a388b560953e2602c9",
            "placeholder": "​",
            "style": "IPY_MODEL_a490faea2b404c9cb46942473200b750",
            "value": "0.008 MB of 0.008 MB uploaded (0.000 MB deduped)\r"
          }
        },
        "8e9c41b808624837af9a0cb08448693b": {
          "model_module": "@jupyter-widgets/controls",
          "model_name": "FloatProgressModel",
          "model_module_version": "1.5.0",
          "state": {
            "_dom_classes": [],
            "_model_module": "@jupyter-widgets/controls",
            "_model_module_version": "1.5.0",
            "_model_name": "FloatProgressModel",
            "_view_count": null,
            "_view_module": "@jupyter-widgets/controls",
            "_view_module_version": "1.5.0",
            "_view_name": "ProgressView",
            "bar_style": "",
            "description": "",
            "description_tooltip": null,
            "layout": "IPY_MODEL_1ac48af0039a4af6834940fc7fadf31c",
            "max": 1,
            "min": 0,
            "orientation": "horizontal",
            "style": "IPY_MODEL_ed004c0b6cd6487f85b5d3c1ca9f45f7",
            "value": 1
          }
        },
        "795359e0dae643c182afa8bcb60fd66e": {
          "model_module": "@jupyter-widgets/base",
          "model_name": "LayoutModel",
          "model_module_version": "1.2.0",
          "state": {
            "_model_module": "@jupyter-widgets/base",
            "_model_module_version": "1.2.0",
            "_model_name": "LayoutModel",
            "_view_count": null,
            "_view_module": "@jupyter-widgets/base",
            "_view_module_version": "1.2.0",
            "_view_name": "LayoutView",
            "align_content": null,
            "align_items": null,
            "align_self": null,
            "border": null,
            "bottom": null,
            "display": null,
            "flex": null,
            "flex_flow": null,
            "grid_area": null,
            "grid_auto_columns": null,
            "grid_auto_flow": null,
            "grid_auto_rows": null,
            "grid_column": null,
            "grid_gap": null,
            "grid_row": null,
            "grid_template_areas": null,
            "grid_template_columns": null,
            "grid_template_rows": null,
            "height": null,
            "justify_content": null,
            "justify_items": null,
            "left": null,
            "margin": null,
            "max_height": null,
            "max_width": null,
            "min_height": null,
            "min_width": null,
            "object_fit": null,
            "object_position": null,
            "order": null,
            "overflow": null,
            "overflow_x": null,
            "overflow_y": null,
            "padding": null,
            "right": null,
            "top": null,
            "visibility": null,
            "width": null
          }
        },
        "d045521c020e44a388b560953e2602c9": {
          "model_module": "@jupyter-widgets/base",
          "model_name": "LayoutModel",
          "model_module_version": "1.2.0",
          "state": {
            "_model_module": "@jupyter-widgets/base",
            "_model_module_version": "1.2.0",
            "_model_name": "LayoutModel",
            "_view_count": null,
            "_view_module": "@jupyter-widgets/base",
            "_view_module_version": "1.2.0",
            "_view_name": "LayoutView",
            "align_content": null,
            "align_items": null,
            "align_self": null,
            "border": null,
            "bottom": null,
            "display": null,
            "flex": null,
            "flex_flow": null,
            "grid_area": null,
            "grid_auto_columns": null,
            "grid_auto_flow": null,
            "grid_auto_rows": null,
            "grid_column": null,
            "grid_gap": null,
            "grid_row": null,
            "grid_template_areas": null,
            "grid_template_columns": null,
            "grid_template_rows": null,
            "height": null,
            "justify_content": null,
            "justify_items": null,
            "left": null,
            "margin": null,
            "max_height": null,
            "max_width": null,
            "min_height": null,
            "min_width": null,
            "object_fit": null,
            "object_position": null,
            "order": null,
            "overflow": null,
            "overflow_x": null,
            "overflow_y": null,
            "padding": null,
            "right": null,
            "top": null,
            "visibility": null,
            "width": null
          }
        },
        "a490faea2b404c9cb46942473200b750": {
          "model_module": "@jupyter-widgets/controls",
          "model_name": "DescriptionStyleModel",
          "model_module_version": "1.5.0",
          "state": {
            "_model_module": "@jupyter-widgets/controls",
            "_model_module_version": "1.5.0",
            "_model_name": "DescriptionStyleModel",
            "_view_count": null,
            "_view_module": "@jupyter-widgets/base",
            "_view_module_version": "1.2.0",
            "_view_name": "StyleView",
            "description_width": ""
          }
        },
        "1ac48af0039a4af6834940fc7fadf31c": {
          "model_module": "@jupyter-widgets/base",
          "model_name": "LayoutModel",
          "model_module_version": "1.2.0",
          "state": {
            "_model_module": "@jupyter-widgets/base",
            "_model_module_version": "1.2.0",
            "_model_name": "LayoutModel",
            "_view_count": null,
            "_view_module": "@jupyter-widgets/base",
            "_view_module_version": "1.2.0",
            "_view_name": "LayoutView",
            "align_content": null,
            "align_items": null,
            "align_self": null,
            "border": null,
            "bottom": null,
            "display": null,
            "flex": null,
            "flex_flow": null,
            "grid_area": null,
            "grid_auto_columns": null,
            "grid_auto_flow": null,
            "grid_auto_rows": null,
            "grid_column": null,
            "grid_gap": null,
            "grid_row": null,
            "grid_template_areas": null,
            "grid_template_columns": null,
            "grid_template_rows": null,
            "height": null,
            "justify_content": null,
            "justify_items": null,
            "left": null,
            "margin": null,
            "max_height": null,
            "max_width": null,
            "min_height": null,
            "min_width": null,
            "object_fit": null,
            "object_position": null,
            "order": null,
            "overflow": null,
            "overflow_x": null,
            "overflow_y": null,
            "padding": null,
            "right": null,
            "top": null,
            "visibility": null,
            "width": null
          }
        },
        "ed004c0b6cd6487f85b5d3c1ca9f45f7": {
          "model_module": "@jupyter-widgets/controls",
          "model_name": "ProgressStyleModel",
          "model_module_version": "1.5.0",
          "state": {
            "_model_module": "@jupyter-widgets/controls",
            "_model_module_version": "1.5.0",
            "_model_name": "ProgressStyleModel",
            "_view_count": null,
            "_view_module": "@jupyter-widgets/base",
            "_view_module_version": "1.2.0",
            "_view_name": "StyleView",
            "bar_color": null,
            "description_width": ""
          }
        },
        "ceff740465da41ebb5d225179cbbb890": {
          "model_module": "@jupyter-widgets/controls",
          "model_name": "VBoxModel",
          "model_module_version": "1.5.0",
          "state": {
            "_dom_classes": [],
            "_model_module": "@jupyter-widgets/controls",
            "_model_module_version": "1.5.0",
            "_model_name": "VBoxModel",
            "_view_count": null,
            "_view_module": "@jupyter-widgets/controls",
            "_view_module_version": "1.5.0",
            "_view_name": "VBoxView",
            "box_style": "",
            "children": [
              "IPY_MODEL_34dc06dd9a8c4e6b949744cb9e21b56c",
              "IPY_MODEL_fe286c8a23ee4491bd238b25781f4000"
            ],
            "layout": "IPY_MODEL_b191382241dd4a638a05e18142f43a18"
          }
        },
        "34dc06dd9a8c4e6b949744cb9e21b56c": {
          "model_module": "@jupyter-widgets/controls",
          "model_name": "LabelModel",
          "model_module_version": "1.5.0",
          "state": {
            "_dom_classes": [],
            "_model_module": "@jupyter-widgets/controls",
            "_model_module_version": "1.5.0",
            "_model_name": "LabelModel",
            "_view_count": null,
            "_view_module": "@jupyter-widgets/controls",
            "_view_module_version": "1.5.0",
            "_view_name": "LabelView",
            "description": "",
            "description_tooltip": null,
            "layout": "IPY_MODEL_d63c582ac3f7493bb41220c7fc9033c3",
            "placeholder": "​",
            "style": "IPY_MODEL_e442d4f4c3154a28bde69c092158330d",
            "value": "0.008 MB of 0.008 MB uploaded (0.000 MB deduped)\r"
          }
        },
        "fe286c8a23ee4491bd238b25781f4000": {
          "model_module": "@jupyter-widgets/controls",
          "model_name": "FloatProgressModel",
          "model_module_version": "1.5.0",
          "state": {
            "_dom_classes": [],
            "_model_module": "@jupyter-widgets/controls",
            "_model_module_version": "1.5.0",
            "_model_name": "FloatProgressModel",
            "_view_count": null,
            "_view_module": "@jupyter-widgets/controls",
            "_view_module_version": "1.5.0",
            "_view_name": "ProgressView",
            "bar_style": "",
            "description": "",
            "description_tooltip": null,
            "layout": "IPY_MODEL_64c92bef33a64fa1bbc68993b8b6df5d",
            "max": 1,
            "min": 0,
            "orientation": "horizontal",
            "style": "IPY_MODEL_d84e43906eb84a109250f3fb0d212dbc",
            "value": 1
          }
        },
        "b191382241dd4a638a05e18142f43a18": {
          "model_module": "@jupyter-widgets/base",
          "model_name": "LayoutModel",
          "model_module_version": "1.2.0",
          "state": {
            "_model_module": "@jupyter-widgets/base",
            "_model_module_version": "1.2.0",
            "_model_name": "LayoutModel",
            "_view_count": null,
            "_view_module": "@jupyter-widgets/base",
            "_view_module_version": "1.2.0",
            "_view_name": "LayoutView",
            "align_content": null,
            "align_items": null,
            "align_self": null,
            "border": null,
            "bottom": null,
            "display": null,
            "flex": null,
            "flex_flow": null,
            "grid_area": null,
            "grid_auto_columns": null,
            "grid_auto_flow": null,
            "grid_auto_rows": null,
            "grid_column": null,
            "grid_gap": null,
            "grid_row": null,
            "grid_template_areas": null,
            "grid_template_columns": null,
            "grid_template_rows": null,
            "height": null,
            "justify_content": null,
            "justify_items": null,
            "left": null,
            "margin": null,
            "max_height": null,
            "max_width": null,
            "min_height": null,
            "min_width": null,
            "object_fit": null,
            "object_position": null,
            "order": null,
            "overflow": null,
            "overflow_x": null,
            "overflow_y": null,
            "padding": null,
            "right": null,
            "top": null,
            "visibility": null,
            "width": null
          }
        },
        "d63c582ac3f7493bb41220c7fc9033c3": {
          "model_module": "@jupyter-widgets/base",
          "model_name": "LayoutModel",
          "model_module_version": "1.2.0",
          "state": {
            "_model_module": "@jupyter-widgets/base",
            "_model_module_version": "1.2.0",
            "_model_name": "LayoutModel",
            "_view_count": null,
            "_view_module": "@jupyter-widgets/base",
            "_view_module_version": "1.2.0",
            "_view_name": "LayoutView",
            "align_content": null,
            "align_items": null,
            "align_self": null,
            "border": null,
            "bottom": null,
            "display": null,
            "flex": null,
            "flex_flow": null,
            "grid_area": null,
            "grid_auto_columns": null,
            "grid_auto_flow": null,
            "grid_auto_rows": null,
            "grid_column": null,
            "grid_gap": null,
            "grid_row": null,
            "grid_template_areas": null,
            "grid_template_columns": null,
            "grid_template_rows": null,
            "height": null,
            "justify_content": null,
            "justify_items": null,
            "left": null,
            "margin": null,
            "max_height": null,
            "max_width": null,
            "min_height": null,
            "min_width": null,
            "object_fit": null,
            "object_position": null,
            "order": null,
            "overflow": null,
            "overflow_x": null,
            "overflow_y": null,
            "padding": null,
            "right": null,
            "top": null,
            "visibility": null,
            "width": null
          }
        },
        "e442d4f4c3154a28bde69c092158330d": {
          "model_module": "@jupyter-widgets/controls",
          "model_name": "DescriptionStyleModel",
          "model_module_version": "1.5.0",
          "state": {
            "_model_module": "@jupyter-widgets/controls",
            "_model_module_version": "1.5.0",
            "_model_name": "DescriptionStyleModel",
            "_view_count": null,
            "_view_module": "@jupyter-widgets/base",
            "_view_module_version": "1.2.0",
            "_view_name": "StyleView",
            "description_width": ""
          }
        },
        "64c92bef33a64fa1bbc68993b8b6df5d": {
          "model_module": "@jupyter-widgets/base",
          "model_name": "LayoutModel",
          "model_module_version": "1.2.0",
          "state": {
            "_model_module": "@jupyter-widgets/base",
            "_model_module_version": "1.2.0",
            "_model_name": "LayoutModel",
            "_view_count": null,
            "_view_module": "@jupyter-widgets/base",
            "_view_module_version": "1.2.0",
            "_view_name": "LayoutView",
            "align_content": null,
            "align_items": null,
            "align_self": null,
            "border": null,
            "bottom": null,
            "display": null,
            "flex": null,
            "flex_flow": null,
            "grid_area": null,
            "grid_auto_columns": null,
            "grid_auto_flow": null,
            "grid_auto_rows": null,
            "grid_column": null,
            "grid_gap": null,
            "grid_row": null,
            "grid_template_areas": null,
            "grid_template_columns": null,
            "grid_template_rows": null,
            "height": null,
            "justify_content": null,
            "justify_items": null,
            "left": null,
            "margin": null,
            "max_height": null,
            "max_width": null,
            "min_height": null,
            "min_width": null,
            "object_fit": null,
            "object_position": null,
            "order": null,
            "overflow": null,
            "overflow_x": null,
            "overflow_y": null,
            "padding": null,
            "right": null,
            "top": null,
            "visibility": null,
            "width": null
          }
        },
        "d84e43906eb84a109250f3fb0d212dbc": {
          "model_module": "@jupyter-widgets/controls",
          "model_name": "ProgressStyleModel",
          "model_module_version": "1.5.0",
          "state": {
            "_model_module": "@jupyter-widgets/controls",
            "_model_module_version": "1.5.0",
            "_model_name": "ProgressStyleModel",
            "_view_count": null,
            "_view_module": "@jupyter-widgets/base",
            "_view_module_version": "1.2.0",
            "_view_name": "StyleView",
            "bar_color": null,
            "description_width": ""
          }
        }
      }
    }
  },
  "nbformat": 4,
  "nbformat_minor": 0
}